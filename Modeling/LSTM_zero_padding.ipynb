{
 "cells": [
  {
   "cell_type": "code",
   "execution_count": 1,
   "metadata": {},
   "outputs": [],
   "source": [
    "import json\n",
    "from tqdm import tqdm\n",
    "from glob import glob\n",
    "import pandas as pd\n",
    "import numpy as np\n",
    "from natsort import natsorted\n",
    "import torch\n",
    "import torch.nn as nn\n",
    "import re\n",
    "import os\n",
    "\n",
    "data_path = './morpheme/10'\n",
    "\n",
    "data_10 = natsorted(glob(data_path + '/*.json'))\n",
    "\n",
    "# load 전처리 데이터 세트\n",
    "use_data = pd.read_csv('./4주차_단어정리.csv',encoding='cp949')[['최종단어']].dropna().최종단어.values"
   ]
  },
  {
   "cell_type": "code",
   "execution_count": 3,
   "id": "64c107e1",
   "metadata": {},
   "outputs": [],
   "source": [
    "# 원래 numpy 버전 1.24.4 -> 1.21.1"
   ]
  },
  {
   "cell_type": "code",
   "execution_count": 2,
   "metadata": {},
   "outputs": [],
   "source": [
    "def collect_word(path):\n",
    "    collected_word = []\n",
    "    for file_path in tqdm(path):\n",
    "        with open(file_path,'r',encoding = 'utf-8') as file:\n",
    "            json_file = json.load(file)\n",
    "            \n",
    "            try:\n",
    "                collected_word.append(json_file['data'][0]['attributes'][0]['name'])\n",
    "            except:\n",
    "                print(json_file['data'],'File is blank')\n",
    "                pass\n",
    "            \n",
    "    return set(collected_word)\n"
   ]
  },
  {
   "cell_type": "code",
   "execution_count": 3,
   "metadata": {},
   "outputs": [
    {
     "name": "stderr",
     "output_type": "stream",
     "text": [
      "100%|██████████| 15000/15000 [24:38<00:00, 10.14it/s] \n"
     ]
    }
   ],
   "source": [
    "data_10_words = collect_word(data_10)"
   ]
  },
  {
   "cell_type": "code",
   "execution_count": 4,
   "metadata": {},
   "outputs": [
    {
     "name": "stdout",
     "output_type": "stream",
     "text": [
      "Data_10 Length : 2774\n"
     ]
    }
   ],
   "source": [
    "print(f'Data_10 Length : {len(data_10_words)}')"
   ]
  },
  {
   "cell_type": "markdown",
   "metadata": {},
   "source": [
    "- 일상에서 사용하는 단어들도 있는 거 같긴 한데, 지명 관련된 단어들이 굉장히 많다."
   ]
  },
  {
   "cell_type": "code",
   "execution_count": 6,
   "metadata": {},
   "outputs": [
    {
     "data": {
      "text/plain": [
       "2774"
      ]
     },
     "execution_count": 6,
     "metadata": {},
     "output_type": "execute_result"
    }
   ],
   "source": [
    "# all_data = data_10_words.union(data_11_words)\n",
    "np.save('AI_hub_10_word_list.npy',np.array(list(data_10_words)))\n",
    "len(data_10_words)"
   ]
  },
  {
   "cell_type": "code",
   "execution_count": 2,
   "metadata": {},
   "outputs": [
    {
     "data": {
      "text/plain": [
       "array(['호수', '견습소', '연수구주민지원센터', ..., '햇빛', '보은군지부', '제발'], dtype='<U12')"
      ]
     },
     "execution_count": 2,
     "metadata": {},
     "output_type": "execute_result"
    }
   ],
   "source": [
    "all_data = np.load('./AI_hub_10_word_list.npy')\n",
    "all_data"
   ]
  },
  {
   "cell_type": "markdown",
   "metadata": {},
   "source": [
    "#### \n",
    "\n",
    "대충 걸러봤을 때 800개 정도의 단어 샘플들이 존재하는 거 같다.\n",
    "\n",
    "- 그렇다면 20명의 수어 전문가가 5개의 각도에서 촬영을 진행했으므로 하나의 라벨당 100개의 sample이 존재하는 것임."
   ]
  },
  {
   "attachments": {},
   "cell_type": "markdown",
   "metadata": {},
   "source": [
    "### Data Preprocessing\n",
    "\n",
    "- 10번 파일만을 우선 사용"
   ]
  },
  {
   "cell_type": "code",
   "execution_count": 3,
   "metadata": {},
   "outputs": [],
   "source": [
    "def collect_file_name(path,filtered_word):\n",
    "    collected_file = {}\n",
    "    for file_path in tqdm(path):\n",
    "        with open(file_path,'r',encoding = 'utf-8') as file:\n",
    "            json_file = json.load(file)\n",
    "            file_name = file_path[file_path.rindex('NIA'):file_path.rindex('_morpheme')]\n",
    "            \n",
    "            try:\n",
    "                word = json_file['data'][0]['attributes'][0]['name']\n",
    "                if word in filtered_word and file_name[-1] == \"F\": # Front만 사용\n",
    "                    collected_file[file_name] = word\n",
    "            except:\n",
    "                print(json_file['data'],'File is blank')\n",
    "                pass\n",
    "            \n",
    "    return collected_file"
   ]
  },
  {
   "cell_type": "code",
   "execution_count": 4,
   "metadata": {},
   "outputs": [
    {
     "name": "stderr",
     "output_type": "stream",
     "text": [
      "100%|██████████| 15000/15000 [03:57<00:00, 63.29it/s] \n"
     ]
    }
   ],
   "source": [
    "# 파일명 : 단어 형태의 딕셔너리 생성\n",
    "collected_file = collect_file_name(data_10,use_data)"
   ]
  },
  {
   "cell_type": "code",
   "execution_count": 6,
   "metadata": {},
   "outputs": [
    {
     "data": {
      "text/plain": [
       "820"
      ]
     },
     "execution_count": 6,
     "metadata": {},
     "output_type": "execute_result"
    }
   ],
   "source": [
    "# 동일한 영상 중에서 중복되는 영상이 존재하는 것으로 판단됨. 우선 상관없이 진행해보도록 함.\n",
    "len(collected_file)"
   ]
  },
  {
   "cell_type": "code",
   "execution_count": 11,
   "id": "0d58af80",
   "metadata": {},
   "outputs": [
    {
     "data": {
      "text/plain": [
       "{'NIA_SL_WORD0001_REAL10_F': '고민',\n",
       " 'NIA_SL_WORD0005_REAL10_F': '눈',\n",
       " 'NIA_SL_WORD0007_REAL10_F': '음료수',\n",
       " 'NIA_SL_WORD0008_REAL10_F': '발가락',\n",
       " 'NIA_SL_WORD0009_REAL10_F': '슬프다',\n",
       " 'NIA_SL_WORD0010_REAL10_F': '자극',\n",
       " 'NIA_SL_WORD0011_REAL10_F': '안타깝다',\n",
       " 'NIA_SL_WORD0012_REAL10_F': '어색하다',\n",
       " 'NIA_SL_WORD0014_REAL10_F': '외국인',\n",
       " 'NIA_SL_WORD0016_REAL10_F': '신사',\n",
       " 'NIA_SL_WORD0020_REAL10_F': '장애인',\n",
       " 'NIA_SL_WORD0025_REAL10_F': '싫어하다',\n",
       " 'NIA_SL_WORD0026_REAL10_F': '급하다',\n",
       " 'NIA_SL_WORD0029_REAL10_F': '검사',\n",
       " 'NIA_SL_WORD0034_REAL10_F': '독서',\n",
       " 'NIA_SL_WORD0037_REAL10_F': '감기',\n",
       " 'NIA_SL_WORD0038_REAL10_F': '배드민턴',\n",
       " 'NIA_SL_WORD0043_REAL10_F': '불행',\n",
       " 'NIA_SL_WORD0045_REAL10_F': '사위',\n",
       " 'NIA_SL_WORD0046_REAL10_F': '설사',\n",
       " 'NIA_SL_WORD0050_REAL10_F': '손녀',\n",
       " 'NIA_SL_WORD0051_REAL10_F': '손자',\n",
       " 'NIA_SL_WORD0055_REAL10_F': '예식장',\n",
       " 'NIA_SL_WORD0057_REAL10_F': '회복',\n",
       " 'NIA_SL_WORD0060_REAL10_F': '입원',\n",
       " 'NIA_SL_WORD0063_REAL10_F': '축구장',\n",
       " 'NIA_SL_WORD0064_REAL10_F': '치료',\n",
       " 'NIA_SL_WORD0065_REAL10_F': '치료법',\n",
       " 'NIA_SL_WORD0067_REAL10_F': '퇴원',\n",
       " 'NIA_SL_WORD0074_REAL10_F': '고추',\n",
       " 'NIA_SL_WORD0081_REAL10_F': '냄비',\n",
       " 'NIA_SL_WORD0082_REAL10_F': '찬물',\n",
       " 'NIA_SL_WORD0086_REAL10_F': '돼지고기',\n",
       " 'NIA_SL_WORD0087_REAL10_F': '두부',\n",
       " 'NIA_SL_WORD0088_REAL10_F': '딸기',\n",
       " 'NIA_SL_WORD0089_REAL10_F': '떡국',\n",
       " 'NIA_SL_WORD0090_REAL10_F': '라면',\n",
       " 'NIA_SL_WORD0091_REAL10_F': '막걸리',\n",
       " 'NIA_SL_WORD0092_REAL10_F': '무',\n",
       " 'NIA_SL_WORD0093_REAL10_F': '밥그릇',\n",
       " 'NIA_SL_WORD0094_REAL10_F': '밥솥',\n",
       " 'NIA_SL_WORD0096_REAL10_F': '부엌',\n",
       " 'NIA_SL_WORD0098_REAL10_F': '비빔밥',\n",
       " 'NIA_SL_WORD0099_REAL10_F': '사과',\n",
       " 'NIA_SL_WORD0101_REAL10_F': '달다',\n",
       " 'NIA_SL_WORD0102_REAL10_F': '소주',\n",
       " 'NIA_SL_WORD0103_REAL10_F': '술잔',\n",
       " 'NIA_SL_WORD0104_REAL10_F': '식당',\n",
       " 'NIA_SL_WORD0107_REAL10_F': '양식',\n",
       " 'NIA_SL_WORD0109_REAL10_F': '술',\n",
       " 'NIA_SL_WORD0113_REAL10_F': '참외',\n",
       " 'NIA_SL_WORD0114_REAL10_F': '칼국수',\n",
       " 'NIA_SL_WORD0115_REAL10_F': '커피',\n",
       " 'NIA_SL_WORD0116_REAL10_F': '콜라',\n",
       " 'NIA_SL_WORD0119_REAL10_F': '와인',\n",
       " 'NIA_SL_WORD0125_REAL10_F': '운동화',\n",
       " 'NIA_SL_WORD0126_REAL10_F': '잠옷',\n",
       " 'NIA_SL_WORD0127_REAL10_F': '이불',\n",
       " 'NIA_SL_WORD0128_REAL10_F': '에어컨',\n",
       " 'NIA_SL_WORD0130_REAL10_F': '월세',\n",
       " 'NIA_SL_WORD0131_REAL10_F': '전세',\n",
       " 'NIA_SL_WORD0132_REAL10_F': '치약',\n",
       " 'NIA_SL_WORD0133_REAL10_F': '가수',\n",
       " 'NIA_SL_WORD0135_REAL10_F': '경고',\n",
       " 'NIA_SL_WORD0136_REAL10_F': '경찰서',\n",
       " 'NIA_SL_WORD0137_REAL10_F': '공식',\n",
       " 'NIA_SL_WORD0138_REAL10_F': '과장',\n",
       " 'NIA_SL_WORD0139_REAL10_F': '관광버스',\n",
       " 'NIA_SL_WORD0140_REAL10_F': '교수',\n",
       " 'NIA_SL_WORD0141_REAL10_F': '교장',\n",
       " 'NIA_SL_WORD0143_REAL10_F': '독일어',\n",
       " 'NIA_SL_WORD0146_REAL10_F': '동아리',\n",
       " 'NIA_SL_WORD0147_REAL10_F': '디자이너',\n",
       " 'NIA_SL_WORD0152_REAL10_F': '사무',\n",
       " 'NIA_SL_WORD0155_REAL10_F': '여행사',\n",
       " 'NIA_SL_WORD0157_REAL10_F': '예술가',\n",
       " 'NIA_SL_WORD0158_REAL10_F': '외국어',\n",
       " 'NIA_SL_WORD0159_REAL10_F': '요리사',\n",
       " 'NIA_SL_WORD0163_REAL10_F': '의사',\n",
       " 'NIA_SL_WORD0164_REAL10_F': '이력서',\n",
       " 'NIA_SL_WORD0165_REAL10_F': '자가용',\n",
       " 'NIA_SL_WORD0168_REAL10_F': '주차장',\n",
       " 'NIA_SL_WORD0170_REAL10_F': '출근',\n",
       " 'NIA_SL_WORD0171_REAL10_F': '코치',\n",
       " 'NIA_SL_WORD0172_REAL10_F': '터미널',\n",
       " 'NIA_SL_WORD0173_REAL10_F': '근무',\n",
       " 'NIA_SL_WORD0177_REAL10_F': '판결',\n",
       " 'NIA_SL_WORD0178_REAL10_F': '평가',\n",
       " 'NIA_SL_WORD0186_REAL10_F': '희생',\n",
       " 'NIA_SL_WORD0187_REAL10_F': '간호사',\n",
       " 'NIA_SL_WORD0194_REAL10_F': '논',\n",
       " 'NIA_SL_WORD0195_REAL10_F': '대기업',\n",
       " 'NIA_SL_WORD0197_REAL10_F': '백화점',\n",
       " 'NIA_SL_WORD0200_REAL10_F': '수입',\n",
       " 'NIA_SL_WORD0203_REAL10_F': '아르바이트',\n",
       " 'NIA_SL_WORD0211_REAL10_F': '고등학교',\n",
       " 'NIA_SL_WORD0212_REAL10_F': '고등학생',\n",
       " 'NIA_SL_WORD0215_REAL10_F': '교실',\n",
       " 'NIA_SL_WORD0216_REAL10_F': '교육자',\n",
       " 'NIA_SL_WORD0219_REAL10_F': '예절',\n",
       " 'NIA_SL_WORD0223_REAL10_F': '복습',\n",
       " 'NIA_SL_WORD0224_REAL10_F': '분필',\n",
       " 'NIA_SL_WORD0226_REAL10_F': '서점',\n",
       " 'NIA_SL_WORD0228_REAL10_F': '실습',\n",
       " 'NIA_SL_WORD0230_REAL10_F': '여학생',\n",
       " 'NIA_SL_WORD0231_REAL10_F': '연구소',\n",
       " 'NIA_SL_WORD0232_REAL10_F': '연구실',\n",
       " 'NIA_SL_WORD0233_REAL10_F': '예습',\n",
       " 'NIA_SL_WORD0234_REAL10_F': '유학',\n",
       " 'NIA_SL_WORD0235_REAL10_F': '의학',\n",
       " 'NIA_SL_WORD0236_REAL10_F': '지도',\n",
       " 'NIA_SL_WORD0237_REAL10_F': '재학',\n",
       " 'NIA_SL_WORD0238_REAL10_F': '연구',\n",
       " 'NIA_SL_WORD0239_REAL10_F': '학부모',\n",
       " 'NIA_SL_WORD0241_REAL10_F': '훈련',\n",
       " 'NIA_SL_WORD0242_REAL10_F': '경기도',\n",
       " 'NIA_SL_WORD0245_REAL10_F': '남산',\n",
       " 'NIA_SL_WORD0247_REAL10_F': '울산',\n",
       " 'NIA_SL_WORD0257_REAL10_F': '일요일',\n",
       " 'NIA_SL_WORD0258_REAL10_F': '축하',\n",
       " 'NIA_SL_WORD0261_REAL10_F': '장난',\n",
       " 'NIA_SL_WORD0262_REAL10_F': '장인',\n",
       " 'NIA_SL_WORD0264_REAL10_F': '디자인',\n",
       " 'NIA_SL_WORD0267_REAL10_F': '동화책',\n",
       " 'NIA_SL_WORD0269_REAL10_F': '문학',\n",
       " 'NIA_SL_WORD0271_REAL10_F': '음악가',\n",
       " 'NIA_SL_WORD0272_REAL10_F': '예술',\n",
       " 'NIA_SL_WORD0273_REAL10_F': '초상화',\n",
       " 'NIA_SL_WORD0276_REAL10_F': '공군',\n",
       " 'NIA_SL_WORD0277_REAL10_F': '감옥',\n",
       " 'NIA_SL_WORD0278_REAL10_F': '국왕',\n",
       " 'NIA_SL_WORD0285_REAL10_F': '강',\n",
       " 'NIA_SL_WORD0286_REAL10_F': '달빛',\n",
       " 'NIA_SL_WORD0287_REAL10_F': '장마',\n",
       " 'NIA_SL_WORD0288_REAL10_F': '체온',\n",
       " 'NIA_SL_WORD0289_REAL10_F': '파도',\n",
       " 'NIA_SL_WORD0290_REAL10_F': '하늘',\n",
       " 'NIA_SL_WORD0292_REAL10_F': '강아지',\n",
       " 'NIA_SL_WORD0295_REAL10_F': '꽃씨',\n",
       " 'NIA_SL_WORD0296_REAL10_F': '꽃잎',\n",
       " 'NIA_SL_WORD0299_REAL10_F': '무궁화',\n",
       " 'NIA_SL_WORD0304_REAL10_F': '송아지',\n",
       " 'NIA_SL_WORD0308_REAL10_F': '참새',\n",
       " 'NIA_SL_WORD0309_REAL10_F': '어젯밤',\n",
       " 'NIA_SL_WORD0310_REAL10_F': '갈색',\n",
       " 'NIA_SL_WORD0312_REAL10_F': '공휴일',\n",
       " 'NIA_SL_WORD0316_REAL10_F': '금요일',\n",
       " 'NIA_SL_WORD0320_REAL10_F': '방금',\n",
       " 'NIA_SL_WORD0322_REAL10_F': '보라색',\n",
       " 'NIA_SL_WORD0324_REAL10_F': '분홍색',\n",
       " 'NIA_SL_WORD0326_REAL10_F': '사춘기',\n",
       " 'NIA_SL_WORD0329_REAL10_F': '수요일',\n",
       " 'NIA_SL_WORD0332_REAL10_F': '어린이날',\n",
       " 'NIA_SL_WORD0333_REAL10_F': '연말',\n",
       " 'NIA_SL_WORD0334_REAL10_F': '예전',\n",
       " 'NIA_SL_WORD0336_REAL10_F': '월요일',\n",
       " 'NIA_SL_WORD0337_REAL10_F': '일요일',\n",
       " 'NIA_SL_WORD0338_REAL10_F': '자정',\n",
       " 'NIA_SL_WORD0339_REAL10_F': '아까',\n",
       " 'NIA_SL_WORD0342_REAL10_F': '최대',\n",
       " 'NIA_SL_WORD0343_REAL10_F': '최소',\n",
       " 'NIA_SL_WORD0344_REAL10_F': '평일',\n",
       " 'NIA_SL_WORD0345_REAL10_F': '한글날',\n",
       " 'NIA_SL_WORD0347_REAL10_F': '화요일',\n",
       " 'NIA_SL_WORD0349_REAL10_F': '흑백',\n",
       " 'NIA_SL_WORD0358_REAL10_F': '가짜',\n",
       " 'NIA_SL_WORD0361_REAL10_F': '감옥',\n",
       " 'NIA_SL_WORD0363_REAL10_F': '보호',\n",
       " 'NIA_SL_WORD0389_REAL10_F': '맞추다',\n",
       " 'NIA_SL_WORD0395_REAL10_F': '실수',\n",
       " 'NIA_SL_WORD0398_REAL10_F': '관습',\n",
       " 'NIA_SL_WORD0408_REAL10_F': '지도',\n",
       " 'NIA_SL_WORD0412_REAL10_F': '학습',\n",
       " 'NIA_SL_WORD0413_REAL10_F': '지도',\n",
       " 'NIA_SL_WORD0423_REAL10_F': '국기',\n",
       " 'NIA_SL_WORD0424_REAL10_F': '독립',\n",
       " 'NIA_SL_WORD0432_REAL10_F': '모범',\n",
       " 'NIA_SL_WORD0433_REAL10_F': '그날',\n",
       " 'NIA_SL_WORD0436_REAL10_F': '얼마',\n",
       " 'NIA_SL_WORD0437_REAL10_F': '금연',\n",
       " 'NIA_SL_WORD0444_REAL10_F': '기혼',\n",
       " 'NIA_SL_WORD0468_REAL10_F': '담당',\n",
       " 'NIA_SL_WORD0477_REAL10_F': '확정',\n",
       " 'NIA_SL_WORD0478_REAL10_F': '면적',\n",
       " 'NIA_SL_WORD0479_REAL10_F': '회장',\n",
       " 'NIA_SL_WORD0492_REAL10_F': '뒷산',\n",
       " 'NIA_SL_WORD0493_REAL10_F': '등록금',\n",
       " 'NIA_SL_WORD0494_REAL10_F': '담당',\n",
       " 'NIA_SL_WORD0504_REAL10_F': '의미',\n",
       " 'NIA_SL_WORD0513_REAL10_F': '회원',\n",
       " 'NIA_SL_WORD0514_REAL10_F': '사라지다',\n",
       " 'NIA_SL_WORD0515_REAL10_F': '명단',\n",
       " 'NIA_SL_WORD0517_REAL10_F': '명예',\n",
       " 'NIA_SL_WORD0530_REAL10_F': '묻다',\n",
       " 'NIA_SL_WORD0538_REAL10_F': '미혼',\n",
       " 'NIA_SL_WORD0547_REAL10_F': '반장',\n",
       " 'NIA_SL_WORD0548_REAL10_F': '발견',\n",
       " 'NIA_SL_WORD0550_REAL10_F': '방식',\n",
       " 'NIA_SL_WORD0557_REAL10_F': '위로',\n",
       " 'NIA_SL_WORD0560_REAL10_F': '결심',\n",
       " 'NIA_SL_WORD0562_REAL10_F': '번거롭다',\n",
       " 'NIA_SL_WORD0564_REAL10_F': '베다',\n",
       " 'NIA_SL_WORD0566_REAL10_F': '소개',\n",
       " 'NIA_SL_WORD0571_REAL10_F': '쓰러지다',\n",
       " 'NIA_SL_WORD0573_REAL10_F': '병아리',\n",
       " 'NIA_SL_WORD0577_REAL10_F': '부동산',\n",
       " 'NIA_SL_WORD0593_REAL10_F': '예금',\n",
       " 'NIA_SL_WORD0603_REAL10_F': '사모님',\n",
       " 'NIA_SL_WORD0605_REAL10_F': '사생활',\n",
       " 'NIA_SL_WORD0607_REAL10_F': '사립',\n",
       " 'NIA_SL_WORD0608_REAL10_F': '친척',\n",
       " 'NIA_SL_WORD0620_REAL10_F': '상품',\n",
       " 'NIA_SL_WORD0621_REAL10_F': '새',\n",
       " 'NIA_SL_WORD0626_REAL10_F': '색연필',\n",
       " 'NIA_SL_WORD0631_REAL10_F': '벨트',\n",
       " 'NIA_SL_WORD0634_REAL10_F': '서울역',\n",
       " 'NIA_SL_WORD0636_REAL10_F': '편견',\n",
       " 'NIA_SL_WORD0641_REAL10_F': '성인',\n",
       " 'NIA_SL_WORD0642_REAL10_F': '연설',\n",
       " 'NIA_SL_WORD0644_REAL10_F': '제사',\n",
       " 'NIA_SL_WORD0649_REAL10_F': '센티미터',\n",
       " 'NIA_SL_WORD0655_REAL10_F': '수영장',\n",
       " 'NIA_SL_WORD0663_REAL10_F': '술집',\n",
       " 'NIA_SL_WORD0669_REAL10_F': '시댁',\n",
       " 'NIA_SL_WORD0672_REAL10_F': '첫째',\n",
       " 'NIA_SL_WORD0681_REAL10_F': '증거',\n",
       " 'NIA_SL_WORD0682_REAL10_F': '실천',\n",
       " 'NIA_SL_WORD0683_REAL10_F': '공개',\n",
       " 'NIA_SL_WORD0684_REAL10_F': '괴롭다',\n",
       " 'NIA_SL_WORD0687_REAL10_F': '아끼다',\n",
       " 'NIA_SL_WORD0688_REAL10_F': '고집',\n",
       " 'NIA_SL_WORD0689_REAL10_F': '통증',\n",
       " 'NIA_SL_WORD0690_REAL10_F': '악몽',\n",
       " 'NIA_SL_WORD0694_REAL10_F': '나빠지다',\n",
       " 'NIA_SL_WORD0714_REAL10_F': '형식',\n",
       " 'NIA_SL_WORD0719_REAL10_F': '깎다',\n",
       " 'NIA_SL_WORD0721_REAL10_F': '여군',\n",
       " 'NIA_SL_WORD0722_REAL10_F': '여대생',\n",
       " 'NIA_SL_WORD0730_REAL10_F': '연합',\n",
       " 'NIA_SL_WORD0731_REAL10_F': '연하다',\n",
       " 'NIA_SL_WORD0735_REAL10_F': '예정',\n",
       " 'NIA_SL_WORD0738_REAL10_F': '좋다',\n",
       " 'NIA_SL_WORD0746_REAL10_F': '의문',\n",
       " 'NIA_SL_WORD0754_REAL10_F': '큰소리',\n",
       " 'NIA_SL_WORD0756_REAL10_F': '우승',\n",
       " 'NIA_SL_WORD0768_REAL10_F': '지도',\n",
       " 'NIA_SL_WORD0774_REAL10_F': '농부',\n",
       " 'NIA_SL_WORD0796_REAL10_F': '장점',\n",
       " 'NIA_SL_WORD0801_REAL10_F': '복습',\n",
       " 'NIA_SL_WORD0808_REAL10_F': '전화번호',\n",
       " 'NIA_SL_WORD0810_REAL10_F': '틀림없다',\n",
       " 'NIA_SL_WORD0811_REAL10_F': '공식',\n",
       " 'NIA_SL_WORD0815_REAL10_F': '우유',\n",
       " 'NIA_SL_WORD0816_REAL10_F': '구두',\n",
       " 'NIA_SL_WORD0820_REAL10_F': '종소리',\n",
       " 'NIA_SL_WORD0838_REAL10_F': '진실',\n",
       " 'NIA_SL_WORD0840_REAL10_F': '가르다',\n",
       " 'NIA_SL_WORD0843_REAL10_F': '복잡하다',\n",
       " 'NIA_SL_WORD0847_REAL10_F': '쓸쓸하다',\n",
       " 'NIA_SL_WORD0858_REAL10_F': '제안',\n",
       " 'NIA_SL_WORD0864_REAL10_F': '체험',\n",
       " 'NIA_SL_WORD0872_REAL10_F': '촛불',\n",
       " 'NIA_SL_WORD0888_REAL10_F': '칼',\n",
       " 'NIA_SL_WORD0896_REAL10_F': '킬로그램',\n",
       " 'NIA_SL_WORD0897_REAL10_F': '킬로미터',\n",
       " 'NIA_SL_WORD0910_REAL10_F': '막히다',\n",
       " 'NIA_SL_WORD0921_REAL10_F': '드러나다',\n",
       " 'NIA_SL_WORD0933_REAL10_F': '순식간',\n",
       " 'NIA_SL_WORD0936_REAL10_F': '놓치다',\n",
       " 'NIA_SL_WORD0938_REAL10_F': '혹시',\n",
       " 'NIA_SL_WORD0943_REAL10_F': '가다',\n",
       " 'NIA_SL_WORD0944_REAL10_F': '가다',\n",
       " 'NIA_SL_WORD0945_REAL10_F': '지름길',\n",
       " 'NIA_SL_WORD0946_REAL10_F': '가다',\n",
       " 'NIA_SL_WORD0947_REAL10_F': '사라지다',\n",
       " 'NIA_SL_WORD0948_REAL10_F': '가깝다',\n",
       " 'NIA_SL_WORD0949_REAL10_F': '멀다',\n",
       " 'NIA_SL_WORD0950_REAL10_F': '오래도록',\n",
       " 'NIA_SL_WORD0953_REAL10_F': '배고프다',\n",
       " 'NIA_SL_WORD0962_REAL10_F': '쓰다',\n",
       " 'NIA_SL_WORD0965_REAL10_F': '회복',\n",
       " 'NIA_SL_WORD0969_REAL10_F': '마르다',\n",
       " 'NIA_SL_WORD0978_REAL10_F': '소식',\n",
       " 'NIA_SL_WORD0988_REAL10_F': '순식간',\n",
       " 'NIA_SL_WORD0989_REAL10_F': '순식간',\n",
       " 'NIA_SL_WORD0990_REAL10_F': '이미',\n",
       " 'NIA_SL_WORD0998_REAL10_F': '얻어먹다',\n",
       " 'NIA_SL_WORD1096_REAL10_F': '모르다',\n",
       " 'NIA_SL_WORD1103_REAL10_F': '설거지',\n",
       " 'NIA_SL_WORD1104_REAL10_F': '남자',\n",
       " 'NIA_SL_WORD1105_REAL10_F': '마음',\n",
       " 'NIA_SL_WORD1106_REAL10_F': '잊다',\n",
       " 'NIA_SL_WORD1111_REAL10_F': '급하다',\n",
       " 'NIA_SL_WORD1112_REAL10_F': '던지다',\n",
       " 'NIA_SL_WORD1114_REAL10_F': '쌍둥이',\n",
       " 'NIA_SL_WORD1115_REAL10_F': '건강',\n",
       " 'NIA_SL_WORD1116_REAL10_F': '어리석다',\n",
       " 'NIA_SL_WORD1117_REAL10_F': '나이',\n",
       " 'NIA_SL_WORD1118_REAL10_F': '달래다',\n",
       " 'NIA_SL_WORD1119_REAL10_F': '집중',\n",
       " 'NIA_SL_WORD1120_REAL10_F': '자랑',\n",
       " 'NIA_SL_WORD1122_REAL10_F': '기막히다',\n",
       " 'NIA_SL_WORD1123_REAL10_F': '불안',\n",
       " 'NIA_SL_WORD1124_REAL10_F': '밉다',\n",
       " 'NIA_SL_WORD1125_REAL10_F': '자존심',\n",
       " 'NIA_SL_WORD1127_REAL10_F': '기분',\n",
       " 'NIA_SL_WORD1129_REAL10_F': '검사',\n",
       " 'NIA_SL_WORD1130_REAL10_F': '원하다',\n",
       " 'NIA_SL_WORD1131_REAL10_F': '미치다',\n",
       " 'NIA_SL_WORD1132_REAL10_F': '처녀',\n",
       " 'NIA_SL_WORD1133_REAL10_F': '잘하다',\n",
       " 'NIA_SL_WORD1134_REAL10_F': '무섭다',\n",
       " 'NIA_SL_WORD1135_REAL10_F': '빠르다',\n",
       " 'NIA_SL_WORD1137_REAL10_F': '기술',\n",
       " 'NIA_SL_WORD1138_REAL10_F': '눕다',\n",
       " 'NIA_SL_WORD1139_REAL10_F': '믿다',\n",
       " 'NIA_SL_WORD1140_REAL10_F': '즐겁다',\n",
       " 'NIA_SL_WORD1141_REAL10_F': '살인',\n",
       " 'NIA_SL_WORD1142_REAL10_F': '마지막',\n",
       " 'NIA_SL_WORD1143_REAL10_F': '듣다',\n",
       " 'NIA_SL_WORD1144_REAL10_F': '생각',\n",
       " 'NIA_SL_WORD1145_REAL10_F': '예쁘다',\n",
       " 'NIA_SL_WORD1146_REAL10_F': '인상',\n",
       " 'NIA_SL_WORD1147_REAL10_F': '팔',\n",
       " 'NIA_SL_WORD1148_REAL10_F': '서다',\n",
       " 'NIA_SL_WORD1149_REAL10_F': '오다',\n",
       " 'NIA_SL_WORD1150_REAL10_F': '적극',\n",
       " 'NIA_SL_WORD1151_REAL10_F': '섭섭하다',\n",
       " 'NIA_SL_WORD1152_REAL10_F': '아프다',\n",
       " 'NIA_SL_WORD1154_REAL10_F': '깨끗하다',\n",
       " 'NIA_SL_WORD1155_REAL10_F': '못생기다',\n",
       " 'NIA_SL_WORD1156_REAL10_F': '나쁘다',\n",
       " 'NIA_SL_WORD1157_REAL10_F': '나',\n",
       " 'NIA_SL_WORD1158_REAL10_F': '피곤하다',\n",
       " 'NIA_SL_WORD1159_REAL10_F': '한숨',\n",
       " 'NIA_SL_WORD1160_REAL10_F': '때리다',\n",
       " 'NIA_SL_WORD1161_REAL10_F': '성격',\n",
       " 'NIA_SL_WORD1162_REAL10_F': '등산',\n",
       " 'NIA_SL_WORD1163_REAL10_F': '젊다',\n",
       " 'NIA_SL_WORD1165_REAL10_F': '자유',\n",
       " 'NIA_SL_WORD1168_REAL10_F': '바르다',\n",
       " 'NIA_SL_WORD1169_REAL10_F': '행복',\n",
       " 'NIA_SL_WORD1171_REAL10_F': '떨다',\n",
       " 'NIA_SL_WORD1172_REAL10_F': '때문',\n",
       " 'NIA_SL_WORD1174_REAL10_F': '맞다',\n",
       " 'NIA_SL_WORD1175_REAL10_F': '챔피언',\n",
       " 'NIA_SL_WORD1176_REAL10_F': '안다',\n",
       " 'NIA_SL_WORD1178_REAL10_F': '꼬마',\n",
       " 'NIA_SL_WORD1179_REAL10_F': '바보',\n",
       " 'NIA_SL_WORD1180_REAL10_F': '비율',\n",
       " 'NIA_SL_WORD1181_REAL10_F': '혀',\n",
       " 'NIA_SL_WORD1182_REAL10_F': '의자',\n",
       " 'NIA_SL_WORD1184_REAL10_F': '뚱뚱하다',\n",
       " 'NIA_SL_WORD1185_REAL10_F': '알다',\n",
       " 'NIA_SL_WORD1189_REAL10_F': '아기',\n",
       " 'NIA_SL_WORD1190_REAL10_F': '방법',\n",
       " 'NIA_SL_WORD1191_REAL10_F': '좋다',\n",
       " 'NIA_SL_WORD1193_REAL10_F': '중요',\n",
       " 'NIA_SL_WORD1194_REAL10_F': '알다',\n",
       " 'NIA_SL_WORD1195_REAL10_F': '실망',\n",
       " 'NIA_SL_WORD1196_REAL10_F': '의미',\n",
       " 'NIA_SL_WORD1197_REAL10_F': '배고프다',\n",
       " 'NIA_SL_WORD1198_REAL10_F': '욕심',\n",
       " 'NIA_SL_WORD1200_REAL10_F': '배부르다',\n",
       " 'NIA_SL_WORD1202_REAL10_F': '추억',\n",
       " 'NIA_SL_WORD1204_REAL10_F': '친구',\n",
       " 'NIA_SL_WORD1205_REAL10_F': '우습다',\n",
       " 'NIA_SL_WORD1206_REAL10_F': '똑똑하다',\n",
       " 'NIA_SL_WORD1207_REAL10_F': '이해',\n",
       " 'NIA_SL_WORD1209_REAL10_F': '흔들리다',\n",
       " 'NIA_SL_WORD1210_REAL10_F': '얼굴',\n",
       " 'NIA_SL_WORD1211_REAL10_F': '어렵다',\n",
       " 'NIA_SL_WORD1212_REAL10_F': '지겹다',\n",
       " 'NIA_SL_WORD1213_REAL10_F': '낳다',\n",
       " 'NIA_SL_WORD1214_REAL10_F': '망설이다',\n",
       " 'NIA_SL_WORD1216_REAL10_F': '친하다',\n",
       " 'NIA_SL_WORD1217_REAL10_F': '희망',\n",
       " 'NIA_SL_WORD1220_REAL10_F': '부럽다',\n",
       " 'NIA_SL_WORD1221_REAL10_F': '행동',\n",
       " 'NIA_SL_WORD1222_REAL10_F': '힘들다',\n",
       " 'NIA_SL_WORD1223_REAL10_F': '매력',\n",
       " 'NIA_SL_WORD1224_REAL10_F': '웃다',\n",
       " 'NIA_SL_WORD1225_REAL10_F': '전문',\n",
       " 'NIA_SL_WORD1226_REAL10_F': '손',\n",
       " 'NIA_SL_WORD1229_REAL10_F': '쓰러지다',\n",
       " 'NIA_SL_WORD1231_REAL10_F': '나누다',\n",
       " 'NIA_SL_WORD1232_REAL10_F': '쉽다',\n",
       " 'NIA_SL_WORD1233_REAL10_F': '평가',\n",
       " 'NIA_SL_WORD1234_REAL10_F': '의심',\n",
       " 'NIA_SL_WORD1235_REAL10_F': '코',\n",
       " 'NIA_SL_WORD1236_REAL10_F': '화나다',\n",
       " 'NIA_SL_WORD1237_REAL10_F': '이것',\n",
       " 'NIA_SL_WORD1240_REAL10_F': '놀라다',\n",
       " 'NIA_SL_WORD1241_REAL10_F': '머리카락',\n",
       " 'NIA_SL_WORD1242_REAL10_F': '사람',\n",
       " 'NIA_SL_WORD1243_REAL10_F': '우유',\n",
       " 'NIA_SL_WORD1244_REAL10_F': '졸리다',\n",
       " 'NIA_SL_WORD1245_REAL10_F': '잠자다',\n",
       " 'NIA_SL_WORD1247_REAL10_F': '이상',\n",
       " 'NIA_SL_WORD1248_REAL10_F': '춥다',\n",
       " 'NIA_SL_WORD1249_REAL10_F': '머리',\n",
       " 'NIA_SL_WORD1252_REAL10_F': '후회',\n",
       " 'NIA_SL_WORD1253_REAL10_F': '몸',\n",
       " 'NIA_SL_WORD1255_REAL10_F': '짜증',\n",
       " 'NIA_SL_WORD1256_REAL10_F': '인격',\n",
       " 'NIA_SL_WORD1257_REAL10_F': '착각',\n",
       " 'NIA_SL_WORD1259_REAL10_F': '느낌',\n",
       " 'NIA_SL_WORD1260_REAL10_F': '빨리',\n",
       " 'NIA_SL_WORD1261_REAL10_F': '참다',\n",
       " 'NIA_SL_WORD1262_REAL10_F': '턱',\n",
       " 'NIA_SL_WORD1263_REAL10_F': '늙다',\n",
       " 'NIA_SL_WORD1264_REAL10_F': '소극적',\n",
       " 'NIA_SL_WORD1265_REAL10_F': '털',\n",
       " 'NIA_SL_WORD1267_REAL10_F': '책임',\n",
       " 'NIA_SL_WORD1268_REAL10_F': '기름',\n",
       " 'NIA_SL_WORD1269_REAL10_F': '못하다',\n",
       " 'NIA_SL_WORD1270_REAL10_F': '엉덩이',\n",
       " 'NIA_SL_WORD1271_REAL10_F': '부드럽다',\n",
       " 'NIA_SL_WORD1273_REAL10_F': '일어나다',\n",
       " 'NIA_SL_WORD1274_REAL10_F': '달리다',\n",
       " 'NIA_SL_WORD1275_REAL10_F': '여자',\n",
       " 'NIA_SL_WORD1276_REAL10_F': '임신',\n",
       " 'NIA_SL_WORD1278_REAL10_F': '싫다',\n",
       " 'NIA_SL_WORD1279_REAL10_F': '입',\n",
       " 'NIA_SL_WORD1280_REAL10_F': '총각',\n",
       " 'NIA_SL_WORD1282_REAL10_F': '가능',\n",
       " 'NIA_SL_WORD1283_REAL10_F': '사라지다',\n",
       " 'NIA_SL_WORD1285_REAL10_F': '재산',\n",
       " 'NIA_SL_WORD1286_REAL10_F': '다행',\n",
       " 'NIA_SL_WORD1287_REAL10_F': '갈등',\n",
       " 'NIA_SL_WORD1288_REAL10_F': '기대',\n",
       " 'NIA_SL_WORD1289_REAL10_F': '감동',\n",
       " 'NIA_SL_WORD1290_REAL10_F': '감사',\n",
       " 'NIA_SL_WORD1291_REAL10_F': '무리',\n",
       " 'NIA_SL_WORD1292_REAL10_F': '초대',\n",
       " 'NIA_SL_WORD1294_REAL10_F': '걱정',\n",
       " 'NIA_SL_WORD1295_REAL10_F': '걷다',\n",
       " 'NIA_SL_WORD1296_REAL10_F': '게으르다',\n",
       " 'NIA_SL_WORD1298_REAL10_F': '결심',\n",
       " 'NIA_SL_WORD1301_REAL10_F': '시원하다',\n",
       " 'NIA_SL_WORD1302_REAL10_F': '남자',\n",
       " 'NIA_SL_WORD1303_REAL10_F': '기억',\n",
       " 'NIA_SL_WORD1304_REAL10_F': '부족',\n",
       " 'NIA_SL_WORD1314_REAL10_F': '귀엽다',\n",
       " 'NIA_SL_WORD1315_REAL10_F': '안타깝다',\n",
       " 'NIA_SL_WORD1319_REAL10_F': '달래다',\n",
       " 'NIA_SL_WORD1320_REAL10_F': '집중',\n",
       " 'NIA_SL_WORD1327_REAL10_F': '갈색',\n",
       " 'NIA_SL_WORD1328_REAL10_F': '무지개',\n",
       " 'NIA_SL_WORD1330_REAL10_F': '회색',\n",
       " 'NIA_SL_WORD1332_REAL10_F': '밉다',\n",
       " 'NIA_SL_WORD1333_REAL10_F': '밉다',\n",
       " 'NIA_SL_WORD1336_REAL10_F': '잘못하다',\n",
       " 'NIA_SL_WORD1337_REAL10_F': '느리다',\n",
       " 'NIA_SL_WORD1341_REAL10_F': '살인',\n",
       " 'NIA_SL_WORD1342_REAL10_F': '왼쪽',\n",
       " 'NIA_SL_WORD1343_REAL10_F': '오른쪽',\n",
       " 'NIA_SL_WORD1344_REAL10_F': '서다',\n",
       " 'NIA_SL_WORD1345_REAL10_F': '가다',\n",
       " 'NIA_SL_WORD1346_REAL10_F': '귀찮다',\n",
       " 'NIA_SL_WORD1347_REAL10_F': '귀찮다',\n",
       " 'NIA_SL_WORD1348_REAL10_F': '대략',\n",
       " 'NIA_SL_WORD1349_REAL10_F': '간단하다',\n",
       " 'NIA_SL_WORD1350_REAL10_F': '사기',\n",
       " 'NIA_SL_WORD1351_REAL10_F': '너',\n",
       " 'NIA_SL_WORD1352_REAL10_F': '저',\n",
       " 'NIA_SL_WORD1353_REAL10_F': '당신',\n",
       " 'NIA_SL_WORD1354_REAL10_F': '너희',\n",
       " 'NIA_SL_WORD1356_REAL10_F': '냄새',\n",
       " 'NIA_SL_WORD1357_REAL10_F': '때리다',\n",
       " 'NIA_SL_WORD1358_REAL10_F': '떨다',\n",
       " 'NIA_SL_WORD1359_REAL10_F': '틀리다',\n",
       " 'NIA_SL_WORD1360_REAL10_F': '뚱뚱하다',\n",
       " 'NIA_SL_WORD1361_REAL10_F': '뚱뚱하다',\n",
       " 'NIA_SL_WORD1370_REAL10_F': '귀',\n",
       " 'NIA_SL_WORD1371_REAL10_F': '눈썹',\n",
       " 'NIA_SL_WORD1372_REAL10_F': '눈',\n",
       " 'NIA_SL_WORD1373_REAL10_F': '치아',\n",
       " 'NIA_SL_WORD1374_REAL10_F': '이마',\n",
       " 'NIA_SL_WORD1375_REAL10_F': '볼',\n",
       " 'NIA_SL_WORD1376_REAL10_F': '목',\n",
       " 'NIA_SL_WORD1377_REAL10_F': '자다',\n",
       " 'NIA_SL_WORD1378_REAL10_F': '자다',\n",
       " 'NIA_SL_WORD1379_REAL10_F': '일어나다',\n",
       " 'NIA_SL_WORD1380_REAL10_F': '때리다',\n",
       " 'NIA_SL_WORD1381_REAL10_F': '괜찮다',\n",
       " 'NIA_SL_WORD1382_REAL10_F': '덥다',\n",
       " 'NIA_SL_WORD1383_REAL10_F': '따뜻하다',\n",
       " 'NIA_SL_WORD1384_REAL10_F': '없다',\n",
       " 'NIA_SL_WORD1385_REAL10_F': '싫다',\n",
       " 'NIA_SL_WORD1386_REAL10_F': '몸',\n",
       " 'NIA_SL_WORD1387_REAL10_F': '초대',\n",
       " 'NIA_SL_WORD1388_REAL10_F': '초대',\n",
       " 'NIA_SL_WORD1389_REAL10_F': '걷다',\n",
       " 'NIA_SL_WORD1390_REAL10_F': '걷다',\n",
       " 'NIA_SL_WORD1391_REAL10_F': '걷다',\n",
       " 'NIA_SL_WORD1392_REAL10_F': '걷다',\n",
       " 'NIA_SL_WORD1393_REAL10_F': '걷다',\n",
       " 'NIA_SL_WORD1394_REAL10_F': '여자',\n",
       " 'NIA_SL_WORD1398_REAL10_F': '전문',\n",
       " 'NIA_SL_WORD1399_REAL10_F': '미소',\n",
       " 'NIA_SL_WORD1400_REAL10_F': '남녀',\n",
       " 'NIA_SL_WORD1401_REAL10_F': '남녀',\n",
       " 'NIA_SL_WORD1411_REAL10_F': '강남',\n",
       " 'NIA_SL_WORD1414_REAL10_F': '강북',\n",
       " 'NIA_SL_WORD1431_REAL10_F': '동대문',\n",
       " 'NIA_SL_WORD1432_REAL10_F': '동작',\n",
       " 'NIA_SL_WORD1456_REAL10_F': '시청',\n",
       " 'NIA_SL_WORD1457_REAL10_F': '남대문시장',\n",
       " 'NIA_SL_WORD1459_REAL10_F': '광주',\n",
       " 'NIA_SL_WORD1488_REAL10_F': '양주',\n",
       " 'NIA_SL_WORD1492_REAL10_F': '가족',\n",
       " 'NIA_SL_WORD1496_REAL10_F': '병원',\n",
       " 'NIA_SL_WORD1497_REAL10_F': '결혼',\n",
       " 'NIA_SL_WORD1498_REAL10_F': '경주',\n",
       " 'NIA_SL_WORD1499_REAL10_F': '이모',\n",
       " 'NIA_SL_WORD1500_REAL10_F': '고모',\n",
       " 'NIA_SL_WORD1503_REAL10_F': '구경',\n",
       " 'NIA_SL_WORD1505_REAL10_F': '권투',\n",
       " 'NIA_SL_WORD1506_REAL10_F': '그립다',\n",
       " 'NIA_SL_WORD1507_REAL10_F': '키우다',\n",
       " 'NIA_SL_WORD1508_REAL10_F': '힘',\n",
       " 'NIA_SL_WORD1510_REAL10_F': '꿈',\n",
       " 'NIA_SL_WORD1511_REAL10_F': '낚시',\n",
       " 'NIA_SL_WORD1512_REAL10_F': '남매',\n",
       " 'NIA_SL_WORD1514_REAL10_F': '노래',\n",
       " 'NIA_SL_WORD1515_REAL10_F': '놀다',\n",
       " 'NIA_SL_WORD1516_REAL10_F': '누나',\n",
       " 'NIA_SL_WORD1518_REAL10_F': '여동생',\n",
       " 'NIA_SL_WORD1519_REAL10_F': '상처',\n",
       " 'NIA_SL_WORD1522_REAL10_F': '딸',\n",
       " 'NIA_SL_WORD1524_REAL10_F': '아내',\n",
       " 'NIA_SL_WORD1525_REAL10_F': '마라톤',\n",
       " 'NIA_SL_WORD1528_REAL10_F': '엄마',\n",
       " 'NIA_SL_WORD1529_REAL10_F': '썩다',\n",
       " 'NIA_SL_WORD1530_REAL10_F': '바쁘다',\n",
       " 'NIA_SL_WORD1531_REAL10_F': '남편',\n",
       " 'NIA_SL_WORD1532_REAL10_F': '버릇',\n",
       " 'NIA_SL_WORD1533_REAL10_F': '병',\n",
       " 'NIA_SL_WORD1534_REAL10_F': '밥',\n",
       " 'NIA_SL_WORD1535_REAL10_F': '부부',\n",
       " 'NIA_SL_WORD1536_REAL10_F': '붓다',\n",
       " 'NIA_SL_WORD1537_REAL10_F': '빗',\n",
       " 'NIA_SL_WORD1538_REAL10_F': '죽다',\n",
       " 'NIA_SL_WORD1539_REAL10_F': '사진기',\n",
       " 'NIA_SL_WORD1540_REAL10_F': '생활',\n",
       " 'NIA_SL_WORD1541_REAL10_F': '성공',\n",
       " 'NIA_SL_WORD1542_REAL10_F': '자라다',\n",
       " 'NIA_SL_WORD1543_REAL10_F': '세수',\n",
       " 'NIA_SL_WORD1544_REAL10_F': '자다',\n",
       " 'NIA_SL_WORD1545_REAL10_F': '수영',\n",
       " 'NIA_SL_WORD1547_REAL10_F': '시아버지',\n",
       " 'NIA_SL_WORD1549_REAL10_F': '시집',\n",
       " 'NIA_SL_WORD1550_REAL10_F': '뚫다',\n",
       " 'NIA_SL_WORD1552_REAL10_F': '야구',\n",
       " 'NIA_SL_WORD1553_REAL10_F': '똑똑하다',\n",
       " 'NIA_SL_WORD1554_REAL10_F': '피곤',\n",
       " 'NIA_SL_WORD1556_REAL10_F': '오빠',\n",
       " 'NIA_SL_WORD1557_REAL10_F': '출장',\n",
       " 'NIA_SL_WORD1558_REAL10_F': '이사',\n",
       " 'NIA_SL_WORD1561_REAL10_F': '자살',\n",
       " 'NIA_SL_WORD1564_REAL10_F': '테니스',\n",
       " 'NIA_SL_WORD1565_REAL10_F': '할머니',\n",
       " 'NIA_SL_WORD1566_REAL10_F': '할아버지',\n",
       " 'NIA_SL_WORD1567_REAL10_F': '조상',\n",
       " 'NIA_SL_WORD1568_REAL10_F': '조카',\n",
       " 'NIA_SL_WORD1569_REAL10_F': '중독',\n",
       " 'NIA_SL_WORD1570_REAL10_F': '연기',\n",
       " 'NIA_SL_WORD1573_REAL10_F': '흩어지다',\n",
       " 'NIA_SL_WORD1574_REAL10_F': '형',\n",
       " 'NIA_SL_WORD1576_REAL10_F': '환자',\n",
       " 'NIA_SL_WORD1577_REAL10_F': '시작',\n",
       " 'NIA_SL_WORD1578_REAL10_F': '밖',\n",
       " 'NIA_SL_WORD1581_REAL10_F': '시험',\n",
       " 'NIA_SL_WORD1584_REAL10_F': '관계',\n",
       " 'NIA_SL_WORD1588_REAL10_F': '구조',\n",
       " 'NIA_SL_WORD1589_REAL10_F': '부탁',\n",
       " 'NIA_SL_WORD1590_REAL10_F': '글',\n",
       " 'NIA_SL_WORD1591_REAL10_F': '대기',\n",
       " 'NIA_SL_WORD1592_REAL10_F': '회사',\n",
       " 'NIA_SL_WORD1593_REAL10_F': '기차',\n",
       " 'NIA_SL_WORD1595_REAL10_F': '단어',\n",
       " 'NIA_SL_WORD1596_REAL10_F': '심부름',\n",
       " 'NIA_SL_WORD1597_REAL10_F': '상담',\n",
       " 'NIA_SL_WORD1599_REAL10_F': '다리',\n",
       " 'NIA_SL_WORD1600_REAL10_F': '창피하다',\n",
       " 'NIA_SL_WORD1636_REAL10_F': '상관없다',\n",
       " 'NIA_SL_WORD1637_REAL10_F': '없다',\n",
       " 'NIA_SL_WORD1731_REAL10_F': '재미없다',\n",
       " 'NIA_SL_WORD1750_REAL10_F': '비다',\n",
       " 'NIA_SL_WORD1877_REAL10_F': '평가하다',\n",
       " 'NIA_SL_WORD1924_REAL10_F': '맛없다',\n",
       " 'NIA_SL_WORD1952_REAL10_F': '아하',\n",
       " 'NIA_SL_WORD2003_REAL10_F': '지식인',\n",
       " 'NIA_SL_WORD2004_REAL10_F': '충격',\n",
       " 'NIA_SL_WORD2005_REAL10_F': '아기',\n",
       " 'NIA_SL_WORD2006_REAL10_F': '며느리',\n",
       " 'NIA_SL_WORD2007_REAL10_F': '중독',\n",
       " 'NIA_SL_WORD2008_REAL10_F': '피해자',\n",
       " 'NIA_SL_WORD2010_REAL10_F': '아름답다',\n",
       " 'NIA_SL_WORD2012_REAL10_F': '반드시',\n",
       " 'NIA_SL_WORD2016_REAL10_F': '어른',\n",
       " 'NIA_SL_WORD2018_REAL10_F': '외아들',\n",
       " 'NIA_SL_WORD2019_REAL10_F': '뛰어나다',\n",
       " 'NIA_SL_WORD2020_REAL10_F': '조용하다',\n",
       " 'NIA_SL_WORD2021_REAL10_F': '존경하다',\n",
       " 'NIA_SL_WORD2023_REAL10_F': '청년',\n",
       " 'NIA_SL_WORD2024_REAL10_F': '청소년',\n",
       " 'NIA_SL_WORD2031_REAL10_F': '추측',\n",
       " 'NIA_SL_WORD2032_REAL10_F': '노인',\n",
       " 'NIA_SL_WORD2034_REAL10_F': '지혜',\n",
       " 'NIA_SL_WORD2035_REAL10_F': '신문',\n",
       " 'NIA_SL_WORD2039_REAL10_F': '몸무게',\n",
       " 'NIA_SL_WORD2040_REAL10_F': '일반인',\n",
       " 'NIA_SL_WORD2041_REAL10_F': '책임자',\n",
       " 'NIA_SL_WORD2045_REAL10_F': '구분',\n",
       " 'NIA_SL_WORD2046_REAL10_F': '결심',\n",
       " 'NIA_SL_WORD2047_REAL10_F': '간',\n",
       " 'NIA_SL_WORD2049_REAL10_F': '결심',\n",
       " 'NIA_SL_WORD2050_REAL10_F': '계획',\n",
       " 'NIA_SL_WORD2051_REAL10_F': '일부러',\n",
       " 'NIA_SL_WORD2053_REAL10_F': '동의',\n",
       " 'NIA_SL_WORD2054_REAL10_F': '상상',\n",
       " 'NIA_SL_WORD2057_REAL10_F': '관광',\n",
       " 'NIA_SL_WORD2059_REAL10_F': '귀엽다',\n",
       " 'NIA_SL_WORD2060_REAL10_F': '긍정적',\n",
       " 'NIA_SL_WORD2076_REAL10_F': '반성하다',\n",
       " 'NIA_SL_WORD2077_REAL10_F': '변화',\n",
       " 'NIA_SL_WORD2079_REAL10_F': '본성',\n",
       " 'NIA_SL_WORD2085_REAL10_F': '상상',\n",
       " 'NIA_SL_WORD2089_REAL10_F': '솜씨',\n",
       " 'NIA_SL_WORD2090_REAL10_F': '솔직하다',\n",
       " 'NIA_SL_WORD2098_REAL10_F': '울음소리',\n",
       " 'NIA_SL_WORD2099_REAL10_F': '웃음소리',\n",
       " 'NIA_SL_WORD2100_REAL10_F': '위',\n",
       " 'NIA_SL_WORD2103_REAL10_F': '의문',\n",
       " 'NIA_SL_WORD2107_REAL10_F': '인체',\n",
       " 'NIA_SL_WORD2116_REAL10_F': '결혼식',\n",
       " 'NIA_SL_WORD2117_REAL10_F': '잠기다',\n",
       " 'NIA_SL_WORD2128_REAL10_F': '수상',\n",
       " 'NIA_SL_WORD2132_REAL10_F': '돌보다',\n",
       " 'NIA_SL_WORD2136_REAL10_F': '생일',\n",
       " 'NIA_SL_WORD2139_REAL10_F': '의문',\n",
       " 'NIA_SL_WORD2141_REAL10_F': '시어머니',\n",
       " 'NIA_SL_WORD2143_REAL10_F': '신부',\n",
       " 'NIA_SL_WORD2151_REAL10_F': '외할머니',\n",
       " 'NIA_SL_WORD2152_REAL10_F': '외할아버지',\n",
       " 'NIA_SL_WORD2153_REAL10_F': '운동장',\n",
       " 'NIA_SL_WORD2158_REAL10_F': '장난감',\n",
       " 'NIA_SL_WORD2160_REAL10_F': '장모',\n",
       " 'NIA_SL_WORD2164_REAL10_F': '알맞다',\n",
       " 'NIA_SL_WORD2165_REAL10_F': '큰아버지',\n",
       " 'NIA_SL_WORD2166_REAL10_F': '큰어머니',\n",
       " 'NIA_SL_WORD2170_REAL10_F': '형수',\n",
       " 'NIA_SL_WORD2171_REAL10_F': '환갑',\n",
       " 'NIA_SL_WORD2174_REAL10_F': '용돈',\n",
       " 'NIA_SL_WORD2177_REAL10_F': '공항',\n",
       " 'NIA_SL_WORD2178_REAL10_F': '구조',\n",
       " 'NIA_SL_WORD2179_REAL10_F': '월급',\n",
       " 'NIA_SL_WORD2180_REAL10_F': '기술자',\n",
       " 'NIA_SL_WORD2183_REAL10_F': '사무실',\n",
       " 'NIA_SL_WORD2184_REAL10_F': '직원',\n",
       " 'NIA_SL_WORD2185_REAL10_F': '사장',\n",
       " 'NIA_SL_WORD2187_REAL10_F': '받다',\n",
       " 'NIA_SL_WORD2189_REAL10_F': '사업',\n",
       " 'NIA_SL_WORD2190_REAL10_F': '운전자',\n",
       " 'NIA_SL_WORD2191_REAL10_F': '일본어',\n",
       " 'NIA_SL_WORD2194_REAL10_F': '경비',\n",
       " 'NIA_SL_WORD2196_REAL10_F': '취업',\n",
       " 'NIA_SL_WORD2197_REAL10_F': '문득',\n",
       " 'NIA_SL_WORD2199_REAL10_F': '한국어',\n",
       " 'NIA_SL_WORD2200_REAL10_F': '한글',\n",
       " 'NIA_SL_WORD2201_REAL10_F': '화가',\n",
       " 'NIA_SL_WORD2204_REAL10_F': '물다',\n",
       " 'NIA_SL_WORD2205_REAL10_F': '잊어버리다',\n",
       " 'NIA_SL_WORD2216_REAL10_F': '의욕',\n",
       " 'NIA_SL_WORD2239_REAL10_F': '상상하다',\n",
       " 'NIA_SL_WORD2243_REAL10_F': '분주하다',\n",
       " 'NIA_SL_WORD2257_REAL10_F': '물론',\n",
       " 'NIA_SL_WORD2258_REAL10_F': '유명하다',\n",
       " 'NIA_SL_WORD2268_REAL10_F': '그렇다',\n",
       " 'NIA_SL_WORD2271_REAL10_F': '끊다',\n",
       " 'NIA_SL_WORD2279_REAL10_F': '가만히',\n",
       " 'NIA_SL_WORD2282_REAL10_F': '결코',\n",
       " 'NIA_SL_WORD2287_REAL10_F': '각오',\n",
       " 'NIA_SL_WORD2292_REAL10_F': '넘기다',\n",
       " 'NIA_SL_WORD2303_REAL10_F': '파악하다',\n",
       " 'NIA_SL_WORD2304_REAL10_F': '끊다',\n",
       " 'NIA_SL_WORD2309_REAL10_F': '놀리다',\n",
       " 'NIA_SL_WORD2312_REAL10_F': '변명',\n",
       " 'NIA_SL_WORD2315_REAL10_F': '솔직히',\n",
       " 'NIA_SL_WORD2316_REAL10_F': '솔직히',\n",
       " 'NIA_SL_WORD2317_REAL10_F': '맞다',\n",
       " 'NIA_SL_WORD2318_REAL10_F': '맞다',\n",
       " 'NIA_SL_WORD2326_REAL10_F': '책임지다',\n",
       " 'NIA_SL_WORD2331_REAL10_F': '명령',\n",
       " 'NIA_SL_WORD2332_REAL10_F': '막히다',\n",
       " 'NIA_SL_WORD2333_REAL10_F': '막히다',\n",
       " 'NIA_SL_WORD2334_REAL10_F': '막히다',\n",
       " 'NIA_SL_WORD2350_REAL10_F': '당하다',\n",
       " 'NIA_SL_WORD2351_REAL10_F': '만만하다',\n",
       " 'NIA_SL_WORD2352_REAL10_F': '기대다',\n",
       " 'NIA_SL_WORD2353_REAL10_F': '꺼지다',\n",
       " 'NIA_SL_WORD2354_REAL10_F': '꺼지다',\n",
       " 'NIA_SL_WORD2355_REAL10_F': '꺼지다',\n",
       " 'NIA_SL_WORD2356_REAL10_F': '꺼지다',\n",
       " 'NIA_SL_WORD2357_REAL10_F': '꺼지다',\n",
       " 'NIA_SL_WORD2358_REAL10_F': '꺼지다',\n",
       " 'NIA_SL_WORD2370_REAL10_F': '감히',\n",
       " 'NIA_SL_WORD2373_REAL10_F': '대단하다',\n",
       " 'NIA_SL_WORD2377_REAL10_F': '뛰어나다',\n",
       " 'NIA_SL_WORD2380_REAL10_F': '엄청나다',\n",
       " 'NIA_SL_WORD2381_REAL10_F': '무시하다',\n",
       " 'NIA_SL_WORD2382_REAL10_F': '무시하다',\n",
       " 'NIA_SL_WORD2383_REAL10_F': '제법',\n",
       " 'NIA_SL_WORD2385_REAL10_F': '빌리다',\n",
       " 'NIA_SL_WORD2386_REAL10_F': '빌리다',\n",
       " 'NIA_SL_WORD2387_REAL10_F': '빌리다',\n",
       " 'NIA_SL_WORD2388_REAL10_F': '돕다',\n",
       " 'NIA_SL_WORD2389_REAL10_F': '돕다',\n",
       " 'NIA_SL_WORD2390_REAL10_F': '돕다',\n",
       " 'NIA_SL_WORD2391_REAL10_F': '욕하다',\n",
       " 'NIA_SL_WORD2392_REAL10_F': '욕하다',\n",
       " 'NIA_SL_WORD2393_REAL10_F': '욕하다',\n",
       " 'NIA_SL_WORD2394_REAL10_F': '주다',\n",
       " 'NIA_SL_WORD2395_REAL10_F': '주다',\n",
       " 'NIA_SL_WORD2396_REAL10_F': '주다',\n",
       " 'NIA_SL_WORD2397_REAL10_F': '지불하다',\n",
       " 'NIA_SL_WORD2398_REAL10_F': '지불하다',\n",
       " 'NIA_SL_WORD2399_REAL10_F': '지불하다',\n",
       " 'NIA_SL_WORD2400_REAL10_F': '대출',\n",
       " 'NIA_SL_WORD2401_REAL10_F': '대출',\n",
       " 'NIA_SL_WORD2402_REAL10_F': '대출',\n",
       " 'NIA_SL_WORD2480_REAL10_F': '아하',\n",
       " 'NIA_SL_WORD2485_REAL10_F': '모르다',\n",
       " 'NIA_SL_WORD2486_REAL10_F': '어렵다',\n",
       " 'NIA_SL_WORD2487_REAL10_F': '연구',\n",
       " 'NIA_SL_WORD2490_REAL10_F': '뜻밖',\n",
       " 'NIA_SL_WORD2491_REAL10_F': '뜻밖',\n",
       " 'NIA_SL_WORD2492_REAL10_F': '못하다',\n",
       " 'NIA_SL_WORD2493_REAL10_F': '가능',\n",
       " 'NIA_SL_WORD2494_REAL10_F': '해내다',\n",
       " 'NIA_SL_WORD2495_REAL10_F': '우습다',\n",
       " 'NIA_SL_WORD2496_REAL10_F': '현대',\n",
       " 'NIA_SL_WORD2507_REAL10_F': '독일',\n",
       " 'NIA_SL_WORD2521_REAL10_F': '유럽',\n",
       " 'NIA_SL_WORD2524_REAL10_F': '제주도',\n",
       " 'NIA_SL_WORD2525_REAL10_F': '중국',\n",
       " 'NIA_SL_WORD2526_REAL10_F': '놀랍다',\n",
       " 'NIA_SL_WORD2528_REAL10_F': '아프리카',\n",
       " 'NIA_SL_WORD2529_REAL10_F': '놀랍다',\n",
       " 'NIA_SL_WORD2530_REAL10_F': '놀랍다',\n",
       " 'NIA_SL_WORD2533_REAL10_F': '강물',\n",
       " 'NIA_SL_WORD2534_REAL10_F': '언덕',\n",
       " 'NIA_SL_WORD2535_REAL10_F': '골짜기',\n",
       " 'NIA_SL_WORD2537_REAL10_F': '석유',\n",
       " 'NIA_SL_WORD2538_REAL10_F': '달',\n",
       " 'NIA_SL_WORD2539_REAL10_F': '돌',\n",
       " 'NIA_SL_WORD2541_REAL10_F': '흙',\n",
       " 'NIA_SL_WORD2542_REAL10_F': '뜨겁다',\n",
       " 'NIA_SL_WORD2546_REAL10_F': '바다',\n",
       " 'NIA_SL_WORD2549_REAL10_F': '바람',\n",
       " 'NIA_SL_WORD2551_REAL10_F': '별',\n",
       " 'NIA_SL_WORD2552_REAL10_F': '비',\n",
       " 'NIA_SL_WORD2556_REAL10_F': '섬',\n",
       " 'NIA_SL_WORD2557_REAL10_F': '철',\n",
       " 'NIA_SL_WORD2558_REAL10_F': '숲',\n",
       " 'NIA_SL_WORD2560_REAL10_F': '언덕',\n",
       " 'NIA_SL_WORD2561_REAL10_F': '호수',\n",
       " 'NIA_SL_WORD2563_REAL10_F': '온도',\n",
       " 'NIA_SL_WORD2566_REAL10_F': '장마',\n",
       " 'NIA_SL_WORD2567_REAL10_F': '괴롭히다',\n",
       " 'NIA_SL_WORD2569_REAL10_F': '제발',\n",
       " 'NIA_SL_WORD2570_REAL10_F': '차다',\n",
       " 'NIA_SL_WORD2571_REAL10_F': '위아래',\n",
       " 'NIA_SL_WORD2572_REAL10_F': '사계절',\n",
       " 'NIA_SL_WORD2573_REAL10_F': '체온',\n",
       " 'NIA_SL_WORD2574_REAL10_F': '아하',\n",
       " 'NIA_SL_WORD2575_REAL10_F': '하늘',\n",
       " 'NIA_SL_WORD2577_REAL10_F': '아래',\n",
       " 'NIA_SL_WORD2578_REAL10_F': '날',\n",
       " 'NIA_SL_WORD2580_REAL10_F': '햇빛',\n",
       " 'NIA_SL_WORD2581_REAL10_F': '홍수',\n",
       " 'NIA_SL_WORD2583_REAL10_F': '제발',\n",
       " 'NIA_SL_WORD2587_REAL10_F': '미국',\n",
       " 'NIA_SL_WORD2588_REAL10_F': '일본',\n",
       " 'NIA_SL_WORD2590_REAL10_F': '러시아',\n",
       " 'NIA_SL_WORD2591_REAL10_F': '북한',\n",
       " 'NIA_SL_WORD2592_REAL10_F': '인도',\n",
       " 'NIA_SL_WORD2596_REAL10_F': '영어',\n",
       " 'NIA_SL_WORD2601_REAL10_F': '보이다',\n",
       " 'NIA_SL_WORD2605_REAL10_F': '인천',\n",
       " 'NIA_SL_WORD2607_REAL10_F': '강원도',\n",
       " 'NIA_SL_WORD2609_REAL10_F': '보이다',\n",
       " 'NIA_SL_WORD2610_REAL10_F': '대구',\n",
       " 'NIA_SL_WORD2616_REAL10_F': '대전',\n",
       " 'NIA_SL_WORD2623_REAL10_F': '전주',\n",
       " 'NIA_SL_WORD2631_REAL10_F': '영',\n",
       " 'NIA_SL_WORD2632_REAL10_F': '일',\n",
       " 'NIA_SL_WORD2633_REAL10_F': '이',\n",
       " 'NIA_SL_WORD2634_REAL10_F': '삼',\n",
       " 'NIA_SL_WORD2635_REAL10_F': '사',\n",
       " 'NIA_SL_WORD2636_REAL10_F': '오',\n",
       " 'NIA_SL_WORD2637_REAL10_F': '육',\n",
       " 'NIA_SL_WORD2638_REAL10_F': '칠',\n",
       " 'NIA_SL_WORD2639_REAL10_F': '팔',\n",
       " 'NIA_SL_WORD2640_REAL10_F': '구',\n",
       " 'NIA_SL_WORD2641_REAL10_F': '십',\n",
       " 'NIA_SL_WORD2642_REAL10_F': '십',\n",
       " 'NIA_SL_WORD2652_REAL10_F': '이십',\n",
       " 'NIA_SL_WORD2662_REAL10_F': '삼십',\n",
       " 'NIA_SL_WORD2672_REAL10_F': '사십',\n",
       " 'NIA_SL_WORD2682_REAL10_F': '오십',\n",
       " 'NIA_SL_WORD2692_REAL10_F': '육십',\n",
       " 'NIA_SL_WORD2702_REAL10_F': '칠십',\n",
       " 'NIA_SL_WORD2712_REAL10_F': '팔십',\n",
       " 'NIA_SL_WORD2722_REAL10_F': '구십',\n",
       " 'NIA_SL_WORD2732_REAL10_F': '백',\n",
       " 'NIA_SL_WORD2864_REAL10_F': '천',\n",
       " 'NIA_SL_WORD2882_REAL10_F': '만'}"
      ]
     },
     "execution_count": 11,
     "metadata": {},
     "output_type": "execute_result"
    }
   ],
   "source": [
    "collected_file"
   ]
  },
  {
   "cell_type": "code",
   "execution_count": 20,
   "id": "4d67c75c",
   "metadata": {},
   "outputs": [],
   "source": [
    "np.save('folder_tae.npy', np.array(list(collected_file.keys()))) # 사용한 폴더 \n",
    "np.save('label_tae.npy',np.array(list(collected_file.values()))) # 사용한 라벨"
   ]
  },
  {
   "cell_type": "code",
   "execution_count": 21,
   "metadata": {},
   "outputs": [
    {
     "name": "stderr",
     "output_type": "stream",
     "text": [
      "100%|██████████| 820/820 [00:03<00:00, 246.52it/s]\n"
     ]
    }
   ],
   "source": [
    "# 위에서 추린 Dictionary 파일을 넣기\n",
    "def filtering_using_folder(filtered_folder_name): \n",
    "    using_keypoint_list = []\n",
    "\n",
    "    for folder in tqdm(filtered_folder_name.keys()):\n",
    "        if glob(f'./keypoints/10/{folder}/*.json') == []: # 만약 폴더 명이 잘못 된게 있다면\n",
    "            print(folder)\n",
    "        else:\n",
    "            using_keypoint_list.append(natsorted(glob(f'./keypoints/10/{folder}/*.json')))\n",
    "\n",
    "\n",
    "    # using_keypoint_list = [sorted(glob(f'./keypoints/10/{folder}/*.json')) for folder in tqdm(filtered_folder_name.keys())]\n",
    "    return using_keypoint_list\n",
    "\n",
    "# 사용할 keypoint 파일 목록\n",
    "keypoint_file_list = filtering_using_folder(collected_file)"
   ]
  },
  {
   "attachments": {},
   "cell_type": "markdown",
   "id": "94f8fbd4",
   "metadata": {},
   "source": [
    "NIA_SL_WORD1536_REAL10_U_F -> NIA_SL_WORD1536_REAL10_F  \n",
    "NIA_SL_WORD0681_REAL10_U_F -> NIA_SL_WORD0681_REAL10_F"
   ]
  },
  {
   "cell_type": "code",
   "execution_count": 22,
   "metadata": {},
   "outputs": [
    {
     "name": "stderr",
     "output_type": "stream",
     "text": [
      "100%|██████████| 820/820 [23:20<00:00,  1.71s/it]\n"
     ]
    }
   ],
   "source": [
    "## Keypoint 값들을 불러오기\n",
    "def collect_keypoints(path_list):\n",
    "    keypoint_sequence = []\n",
    "    for file_paths in tqdm(path_list):\n",
    "        folder_res = []\n",
    "        for file_path in file_paths:\n",
    "            sequence_res = []\n",
    "            with open(file_path,'r',encoding = 'utf-8') as file:\n",
    "                json_file = json.load(file)\n",
    "                # 각 keypoint 값들을 합치기\n",
    "                for key in list(json_file['people'].keys())[1:5]: # face_keypoints_2d, pose_keypoints_2d, hand_left_keypoints_2d, hand_right_keypoints_2d\n",
    "                    for idx,keypoint in enumerate(json_file['people'][key],start=1):\n",
    "                        # confidence 값 버리기\n",
    "                        if idx % 3 != 0:\n",
    "                            sequence_res.append(keypoint)\n",
    "                            \n",
    "            # folder_result에 추가\n",
    "            folder_res.append(sequence_res)\n",
    "            \n",
    "        keypoint_sequence.append(folder_res)\n",
    "    return keypoint_sequence\n",
    "\n",
    "keypoint_sequence_by_folder = collect_keypoints(keypoint_file_list)"
   ]
  },
  {
   "cell_type": "code",
   "execution_count": 23,
   "id": "955e75d0",
   "metadata": {},
   "outputs": [
    {
     "name": "stderr",
     "output_type": "stream",
     "text": [
      "/tmp/ipykernel_656317/2919097853.py:2: VisibleDeprecationWarning: Creating an ndarray from ragged nested sequences (which is a list-or-tuple of lists-or-tuples-or ndarrays with different lengths or shapes) is deprecated. If you meant to do this, you must specify 'dtype=object' when creating the ndarray.\n",
      "  np.save('./keypoint_10_sequence_by_folder.npy',np.array(keypoint_sequence_by_folder))\n"
     ]
    }
   ],
   "source": [
    "## save\n",
    "np.save('./keypoint_10_sequence_by_folder.npy',np.array(keypoint_sequence_by_folder))\n",
    "# 행마다 길이가 달라서 나타나는 warning"
   ]
  },
  {
   "cell_type": "code",
   "execution_count": 4,
   "id": "392d8cfd",
   "metadata": {},
   "outputs": [],
   "source": [
    "# 불러오기\n",
    "keypoint_sequence_by_folder = np.load('./keypoint_10_sequence_by_folder.npy', allow_pickle=True)"
   ]
  },
  {
   "cell_type": "code",
   "execution_count": 5,
   "id": "cd696ec2",
   "metadata": {},
   "outputs": [
    {
     "data": {
      "text/plain": [
       "(820,)"
      ]
     },
     "execution_count": 5,
     "metadata": {},
     "output_type": "execute_result"
    }
   ],
   "source": [
    "np.array(keypoint_sequence_by_folder).shape"
   ]
  },
  {
   "cell_type": "code",
   "execution_count": 6,
   "id": "e9c34cb3",
   "metadata": {},
   "outputs": [
    {
     "name": "stdout",
     "output_type": "stream",
     "text": [
      "(132, 274)\n",
      "(146, 274)\n",
      "(146, 274)\n",
      "(133, 274)\n"
     ]
    }
   ],
   "source": [
    "print(np.array(keypoint_sequence_by_folder[0]).shape)\n",
    "print(np.array(keypoint_sequence_by_folder[1]).shape)\n",
    "print(np.array(keypoint_sequence_by_folder[2]).shape)\n",
    "print(np.array(keypoint_sequence_by_folder[3]).shape)"
   ]
  },
  {
   "cell_type": "code",
   "execution_count": 27,
   "metadata": {
    "scrolled": true
   },
   "outputs": [
    {
     "name": "stderr",
     "output_type": "stream",
     "text": [
      " 19%|█▉        | 159/820 [00:27<01:47,  6.15it/s]/tmp/ipykernel_656317/3457229548.py:20: RuntimeWarning: divide by zero encountered in double_scalars\n",
      "  normalized_values.append(round((value - x_mean)/x_std, 5)) # round를 치는게 좋아보임\n",
      "/tmp/ipykernel_656317/3457229548.py:20: RuntimeWarning: invalid value encountered in double_scalars\n",
      "  normalized_values.append(round((value - x_mean)/x_std, 5)) # round를 치는게 좋아보임\n",
      " 27%|██▋       | 220/820 [00:37<01:53,  5.28it/s]/tmp/ipykernel_656317/3457229548.py:22: RuntimeWarning: divide by zero encountered in double_scalars\n",
      "  normalized_values.append(round((value - y_mean)/y_std, 5))\n",
      "/tmp/ipykernel_656317/3457229548.py:22: RuntimeWarning: invalid value encountered in double_scalars\n",
      "  normalized_values.append(round((value - y_mean)/y_std, 5))\n",
      "100%|██████████| 820/820 [02:22<00:00,  5.76it/s]\n",
      "/tmp/ipykernel_656317/3457229548.py:34: VisibleDeprecationWarning: Creating an ndarray from ragged nested sequences (which is a list-or-tuple of lists-or-tuples-or ndarrays with different lengths or shapes) is deprecated. If you meant to do this, you must specify 'dtype=object' when creating the ndarray.\n",
      "  np.save('./normalized_keypoints_10_by_folder.npy',np.array(normalized_keypoints_by_folder))\n"
     ]
    }
   ],
   "source": [
    "## 무게중심을 기준으로 정규화를 진행해줘야함.\n",
    "## 정규화 진행하지 않을 시 학습이 안된다고 선행논문에서 언급이 되어있음.\n",
    "## 좌측 어깨 72번째 좌표, 우측 75번째 좌표의 평균으로 대체\n",
    "def normalize_keypoint(keypoint_sequences):\n",
    "    \n",
    "    normalized_keypoints_result = []\n",
    "\n",
    "    for fold in tqdm(keypoint_sequences):\n",
    "        normalized_fold_keypoints = []\n",
    "        for frame in fold:\n",
    "            x = (frame[142],frame[148])\n",
    "            y = (frame[143],frame[149])\n",
    "            x_mean, x_std = np.mean(x), np.std(x)\n",
    "            y_mean, y_std = np.mean(y), np.std(y)\n",
    "            \n",
    "            normalized_values = []\n",
    "            # 정규화 진행\n",
    "            for idx,value in enumerate(frame):\n",
    "                if idx % 2 == 0:\n",
    "                    normalized_values.append(round((value - x_mean)/x_std, 5)) # round를 치는게 좋아보임\n",
    "                else:\n",
    "                    normalized_values.append(round((value - y_mean)/y_std, 5))\n",
    "                    \n",
    "            # 각 프레임마다 해당 folder로 추가\n",
    "            normalized_fold_keypoints.append(normalized_values)\n",
    "            \n",
    "        normalized_keypoints_result.append(normalized_fold_keypoints)\n",
    "\n",
    "    return normalized_keypoints_result\n",
    "\n",
    "normalized_keypoints_by_folder = normalize_keypoint(keypoint_sequence_by_folder)\n",
    "\n",
    "# save \n",
    "np.save('./normalized_keypoints_10_by_folder.npy',np.array(normalized_keypoints_by_folder))"
   ]
  },
  {
   "cell_type": "code",
   "execution_count": 7,
   "id": "ecec5fff",
   "metadata": {},
   "outputs": [],
   "source": [
    "# 불러오기\n",
    "normalized_keypoints_by_folder = np.load('./normalized_keypoints_10_by_folder.npy', allow_pickle=True)"
   ]
  },
  {
   "cell_type": "code",
   "execution_count": 8,
   "id": "69c1371f",
   "metadata": {},
   "outputs": [
    {
     "data": {
      "text/plain": [
       "(820,)"
      ]
     },
     "execution_count": 8,
     "metadata": {},
     "output_type": "execute_result"
    }
   ],
   "source": [
    "np.array(normalized_keypoints_by_folder).shape"
   ]
  },
  {
   "cell_type": "markdown",
   "metadata": {},
   "source": [
    "### Modeling "
   ]
  },
  {
   "cell_type": "code",
   "execution_count": 1,
   "metadata": {},
   "outputs": [
    {
     "name": "stderr",
     "output_type": "stream",
     "text": [
      "/root/.local/lib/python3.8/site-packages/tqdm/auto.py:21: TqdmWarning: IProgress not found. Please update jupyter and ipywidgets. See https://ipywidgets.readthedocs.io/en/stable/user_install.html\n",
      "  from .autonotebook import tqdm as notebook_tqdm\n"
     ]
    }
   ],
   "source": [
    "import json\n",
    "from tqdm.auto import tqdm\n",
    "from glob import glob\n",
    "import pandas as pd\n",
    "import numpy as np\n",
    "import torch\n",
    "import torch.nn as nn\n",
    "import re\n",
    "import os\n",
    "\n",
    "import torch\n",
    "import torch.nn as nn\n",
    "import torch.nn.functional as F\n",
    "from torch.utils.data import Dataset\n",
    "from torch.utils.data import DataLoader\n",
    "import torch.optim as optim"
   ]
  },
  {
   "cell_type": "code",
   "execution_count": 3,
   "metadata": {},
   "outputs": [
    {
     "data": {
      "text/plain": [
       "array(['고민', '눈', '음료수', '발가락', '슬프다', '자극', '안타깝다', '어색하다', '외국인', '신사',\n",
       "       '장애인', '싫어하다', '급하다', '검사', '독서', '감기', '배드민턴', '불행', '사위', '설사',\n",
       "       '손녀', '손자', '예식장', '회복', '입원', '축구장', '치료', '치료법', '퇴원', '고추',\n",
       "       '냄비', '찬물', '돼지고기', '두부', '딸기', '떡국', '라면', '막걸리', '무', '밥그릇',\n",
       "       '밥솥', '부엌', '비빔밥', '사과', '달다', '소주', '술잔', '식당', '양식', '술', '참외',\n",
       "       '칼국수', '커피', '콜라', '와인', '운동화', '잠옷', '이불', '에어컨', '월세', '전세',\n",
       "       '치약', '가수', '경고', '경찰서', '공식', '과장', '관광버스', '교수', '교장', '독일어',\n",
       "       '동아리', '디자이너', '사무', '여행사', '예술가', '외국어', '요리사', '의사', '이력서',\n",
       "       '자가용', '주차장', '출근', '코치', '터미널', '근무', '판결', '평가', '희생', '간호사',\n",
       "       '논', '대기업', '백화점', '수입', '아르바이트', '고등학교', '고등학생', '교실', '교육자',\n",
       "       '예절', '복습', '분필', '서점', '실습', '여학생', '연구소', '연구실', '예습', '유학',\n",
       "       '의학', '지도', '재학', '연구', '학부모', '훈련', '경기도', '남산', '울산', '일요일',\n",
       "       '축하', '장난', '장인', '디자인', '동화책', '문학', '음악가', '예술', '초상화', '공군',\n",
       "       '감옥', '국왕', '강', '달빛', '장마', '체온', '파도', '하늘', '강아지', '꽃씨', '꽃잎',\n",
       "       '무궁화', '송아지', '참새', '어젯밤', '갈색', '공휴일', '금요일', '방금', '보라색', '분홍색',\n",
       "       '사춘기', '수요일', '어린이날', '연말', '예전', '월요일', '일요일', '자정', '아까', '최대',\n",
       "       '최소', '평일', '한글날', '화요일', '흑백', '가짜', '감옥', '보호', '맞추다', '실수',\n",
       "       '관습', '지도', '학습', '지도', '국기', '독립', '모범', '그날', '얼마', '금연', '기혼',\n",
       "       '담당', '확정', '면적', '회장', '뒷산', '등록금', '담당', '의미', '회원', '사라지다',\n",
       "       '명단', '명예', '묻다', '미혼', '반장', '발견', '방식', '위로', '결심', '번거롭다', '베다',\n",
       "       '소개', '쓰러지다', '병아리', '부동산', '예금', '사모님', '사생활', '사립', '친척', '상품',\n",
       "       '새', '색연필', '벨트', '서울역', '편견', '성인', '연설', '제사', '센티미터', '수영장',\n",
       "       '술집', '시댁', '첫째', '증거', '실천', '공개', '괴롭다', '아끼다', '고집', '통증', '악몽',\n",
       "       '나빠지다', '형식', '깎다', '여군', '여대생', '연합', '연하다', '예정', '좋다', '의문',\n",
       "       '큰소리', '우승', '지도', '농부', '장점', '복습', '전화번호', '틀림없다', '공식', '우유',\n",
       "       '구두', '종소리', '진실', '가르다', '복잡하다', '쓸쓸하다', '제안', '체험', '촛불', '칼',\n",
       "       '킬로그램', '킬로미터', '막히다', '드러나다', '순식간', '놓치다', '혹시', '가다', '가다',\n",
       "       '지름길', '가다', '사라지다', '가깝다', '멀다', '오래도록', '배고프다', '쓰다', '회복',\n",
       "       '마르다', '소식', '순식간', '순식간', '이미', '얻어먹다', '모르다', '설거지', '남자', '마음',\n",
       "       '잊다', '급하다', '던지다', '쌍둥이', '건강', '어리석다', '나이', '달래다', '집중', '자랑',\n",
       "       '기막히다', '불안', '밉다', '자존심', '기분', '검사', '원하다', '미치다', '처녀', '잘하다',\n",
       "       '무섭다', '빠르다', '기술', '눕다', '믿다', '즐겁다', '살인', '마지막', '듣다', '생각',\n",
       "       '예쁘다', '인상', '팔', '서다', '오다', '적극', '섭섭하다', '아프다', '깨끗하다', '못생기다',\n",
       "       '나쁘다', '나', '피곤하다', '한숨', '때리다', '성격', '등산', '젊다', '자유', '바르다',\n",
       "       '행복', '떨다', '때문', '맞다', '챔피언', '안다', '꼬마', '바보', '비율', '혀', '의자',\n",
       "       '뚱뚱하다', '알다', '아기', '방법', '좋다', '중요', '알다', '실망', '의미', '배고프다',\n",
       "       '욕심', '배부르다', '추억', '친구', '우습다', '똑똑하다', '이해', '흔들리다', '얼굴', '어렵다',\n",
       "       '지겹다', '낳다', '망설이다', '친하다', '희망', '부럽다', '행동', '힘들다', '매력', '웃다',\n",
       "       '전문', '손', '쓰러지다', '나누다', '쉽다', '평가', '의심', '코', '화나다', '이것',\n",
       "       '놀라다', '머리카락', '사람', '우유', '졸리다', '잠자다', '이상', '춥다', '머리', '후회',\n",
       "       '몸', '짜증', '인격', '착각', '느낌', '빨리', '참다', '턱', '늙다', '소극적', '털',\n",
       "       '책임', '기름', '못하다', '엉덩이', '부드럽다', '일어나다', '달리다', '여자', '임신', '싫다',\n",
       "       '입', '총각', '가능', '사라지다', '재산', '다행', '갈등', '기대', '감동', '감사', '무리',\n",
       "       '초대', '걱정', '걷다', '게으르다', '결심', '시원하다', '남자', '기억', '부족', '귀엽다',\n",
       "       '안타깝다', '달래다', '집중', '갈색', '무지개', '회색', '밉다', '밉다', '잘못하다', '느리다',\n",
       "       '살인', '왼쪽', '오른쪽', '서다', '가다', '귀찮다', '귀찮다', '대략', '간단하다', '사기',\n",
       "       '너', '저', '당신', '너희', '냄새', '때리다', '떨다', '틀리다', '뚱뚱하다', '뚱뚱하다',\n",
       "       '귀', '눈썹', '눈', '치아', '이마', '볼', '목', '자다', '자다', '일어나다', '때리다',\n",
       "       '괜찮다', '덥다', '따뜻하다', '없다', '싫다', '몸', '초대', '초대', '걷다', '걷다', '걷다',\n",
       "       '걷다', '걷다', '여자', '전문', '미소', '남녀', '남녀', '강남', '강북', '동대문', '동작',\n",
       "       '시청', '남대문시장', '광주', '양주', '가족', '병원', '결혼', '경주', '이모', '고모',\n",
       "       '구경', '권투', '그립다', '키우다', '힘', '꿈', '낚시', '남매', '노래', '놀다', '누나',\n",
       "       '여동생', '상처', '딸', '아내', '마라톤', '엄마', '썩다', '바쁘다', '남편', '버릇', '병',\n",
       "       '밥', '부부', '붓다', '빗', '죽다', '사진기', '생활', '성공', '자라다', '세수', '자다',\n",
       "       '수영', '시아버지', '시집', '뚫다', '야구', '똑똑하다', '피곤', '오빠', '출장', '이사',\n",
       "       '자살', '테니스', '할머니', '할아버지', '조상', '조카', '중독', '연기', '흩어지다', '형',\n",
       "       '환자', '시작', '밖', '시험', '관계', '구조', '부탁', '글', '대기', '회사', '기차',\n",
       "       '단어', '심부름', '상담', '다리', '창피하다', '상관없다', '없다', '재미없다', '비다',\n",
       "       '평가하다', '맛없다', '아하', '지식인', '충격', '아기', '며느리', '중독', '피해자', '아름답다',\n",
       "       '반드시', '어른', '외아들', '뛰어나다', '조용하다', '존경하다', '청년', '청소년', '추측',\n",
       "       '노인', '지혜', '신문', '몸무게', '일반인', '책임자', '구분', '결심', '간', '결심', '계획',\n",
       "       '일부러', '동의', '상상', '관광', '귀엽다', '긍정적', '반성하다', '변화', '본성', '상상',\n",
       "       '솜씨', '솔직하다', '울음소리', '웃음소리', '위', '의문', '인체', '결혼식', '잠기다', '수상',\n",
       "       '돌보다', '생일', '의문', '시어머니', '신부', '외할머니', '외할아버지', '운동장', '장난감',\n",
       "       '장모', '알맞다', '큰아버지', '큰어머니', '형수', '환갑', '용돈', '공항', '구조', '월급',\n",
       "       '기술자', '사무실', '직원', '사장', '받다', '사업', '운전자', '일본어', '경비', '취업',\n",
       "       '문득', '한국어', '한글', '화가', '물다', '잊어버리다', '의욕', '상상하다', '분주하다', '물론',\n",
       "       '유명하다', '그렇다', '끊다', '가만히', '결코', '각오', '넘기다', '파악하다', '끊다', '놀리다',\n",
       "       '변명', '솔직히', '솔직히', '맞다', '맞다', '책임지다', '명령', '막히다', '막히다', '막히다',\n",
       "       '당하다', '만만하다', '기대다', '꺼지다', '꺼지다', '꺼지다', '꺼지다', '꺼지다', '꺼지다',\n",
       "       '감히', '대단하다', '뛰어나다', '엄청나다', '무시하다', '무시하다', '제법', '빌리다', '빌리다',\n",
       "       '빌리다', '돕다', '돕다', '돕다', '욕하다', '욕하다', '욕하다', '주다', '주다', '주다',\n",
       "       '지불하다', '지불하다', '지불하다', '대출', '대출', '대출', '아하', '모르다', '어렵다', '연구',\n",
       "       '뜻밖', '뜻밖', '못하다', '가능', '해내다', '우습다', '현대', '독일', '유럽', '제주도',\n",
       "       '중국', '놀랍다', '아프리카', '놀랍다', '놀랍다', '강물', '언덕', '골짜기', '석유', '달',\n",
       "       '돌', '흙', '뜨겁다', '바다', '바람', '별', '비', '섬', '철', '숲', '언덕', '호수',\n",
       "       '온도', '장마', '괴롭히다', '제발', '차다', '위아래', '사계절', '체온', '아하', '하늘',\n",
       "       '아래', '날', '햇빛', '홍수', '제발', '미국', '일본', '러시아', '북한', '인도', '영어',\n",
       "       '보이다', '인천', '강원도', '보이다', '대구', '대전', '전주', '영', '일', '이', '삼',\n",
       "       '사', '오', '육', '칠', '팔', '구', '십', '십', '이십', '삼십', '사십', '오십',\n",
       "       '육십', '칠십', '팔십', '구십', '백', '천', '만'], dtype='<U5')"
      ]
     },
     "execution_count": 3,
     "metadata": {},
     "output_type": "execute_result"
    }
   ],
   "source": [
    "# data load\n",
    "data = np.load('./normalized_keypoints_10_by_folder.npy',allow_pickle = True)\n",
    "# data\n",
    "\n",
    "# label load \n",
    "label = np.load('./label_10.npy') # label, 820\n",
    "label"
   ]
  },
  {
   "cell_type": "code",
   "execution_count": 11,
   "metadata": {},
   "outputs": [
    {
     "name": "stdout",
     "output_type": "stream",
     "text": [
      "최대 sequence 길이 : 197\n"
     ]
    }
   ],
   "source": [
    "# 가장 sequence가 긴 데이터 찾기\n",
    "result = 0\n",
    "for idx, ele in enumerate(data):\n",
    "    if result <= len(ele):\n",
    "        result = len(ele)\n",
    "print(f'최대 sequence 길이 : {result}')"
   ]
  },
  {
   "cell_type": "code",
   "execution_count": 12,
   "id": "1b82079d",
   "metadata": {},
   "outputs": [
    {
     "data": {
      "text/plain": [
       "132"
      ]
     },
     "execution_count": 12,
     "metadata": {},
     "output_type": "execute_result"
    }
   ],
   "source": [
    "np.array(data[0]).shape[0]"
   ]
  },
  {
   "cell_type": "code",
   "execution_count": 17,
   "id": "27a8aea3",
   "metadata": {},
   "outputs": [
    {
     "data": {
      "text/plain": [
       "array([[0, 0, 0, 0, 0, 0, 0, 0, 0, 0]])"
      ]
     },
     "execution_count": 17,
     "metadata": {},
     "output_type": "execute_result"
    }
   ],
   "source": [
    "np.array([[0]*10])"
   ]
  },
  {
   "cell_type": "code",
   "execution_count": 23,
   "id": "871a7037",
   "metadata": {},
   "outputs": [
    {
     "data": {
      "text/plain": [
       "(132, 274)"
      ]
     },
     "execution_count": 23,
     "metadata": {},
     "output_type": "execute_result"
    }
   ],
   "source": [
    "np.array(data[0]).shape"
   ]
  },
  {
   "cell_type": "code",
   "execution_count": 25,
   "id": "04764f71",
   "metadata": {},
   "outputs": [
    {
     "data": {
      "text/plain": [
       "(10, 274)"
      ]
     },
     "execution_count": 25,
     "metadata": {},
     "output_type": "execute_result"
    }
   ],
   "source": [
    "np.array(data[0])[:10, :].shape"
   ]
  },
  {
   "cell_type": "code",
   "execution_count": 31,
   "id": "9170c544",
   "metadata": {},
   "outputs": [
    {
     "data": {
      "text/plain": [
       "(10, 274)"
      ]
     },
     "execution_count": 31,
     "metadata": {},
     "output_type": "execute_result"
    }
   ],
   "source": [
    "np.zeros([10, 274])"
   ]
  },
  {
   "cell_type": "code",
   "execution_count": 32,
   "metadata": {},
   "outputs": [
    {
     "name": "stderr",
     "output_type": "stream",
     "text": [
      "820it [00:01, 618.24it/s]\n"
     ]
    }
   ],
   "source": [
    "# padding sequence는 197로 진행하도록 함.\n",
    "# 테스트를 위해 244로 만듦\n",
    "def padding_sequence(seq, length=244):\n",
    "\n",
    "    original_array = np.array(seq)\n",
    "    original_shape = original_array.shape[0]\n",
    "    repeat = length - original_shape # 최대 길이보다 짧아서 반복해서 입력해야 하는 횟수\n",
    "    pad_iter = (repeat // original_shape) + 1 \n",
    "\n",
    "    if pad_iter >=2: # 길이가 2배를 넘을 때\n",
    "        for i in range(pad_iter):\n",
    "            # original_array = np.vstack((original_array,original_array[:repeat,:])) # 반복해야하는만큼 앞을 채워줌\n",
    "            original_array = np.vstack((original_array,np.zeros([repeat, 274]))) # 반복해야하는만큼 앞을 채워줌\n",
    "            if repeat - original_shape <0:\n",
    "                repeat %= original_shape\n",
    "            else:\n",
    "                repeat -= original_shape\n",
    "            \n",
    "            if original_array.shape[0] == length:\n",
    "                return original_array\n",
    "    else:\n",
    "        return np.vstack((original_array,original_array[:repeat,:]))\n",
    "\n",
    "padding_data = []\n",
    "for i, value in tqdm(enumerate(data)):\n",
    "    try:\n",
    "        padding_data.append(padding_sequence(value))\n",
    "    except:\n",
    "        print(i)"
   ]
  },
  {
   "cell_type": "code",
   "execution_count": 33,
   "id": "cab6ea8c",
   "metadata": {},
   "outputs": [
    {
     "data": {
      "text/plain": [
       "820"
      ]
     },
     "execution_count": 33,
     "metadata": {},
     "output_type": "execute_result"
    }
   ],
   "source": [
    "len(padding_data)"
   ]
  },
  {
   "cell_type": "code",
   "execution_count": 34,
   "id": "c2e0b9ae",
   "metadata": {},
   "outputs": [
    {
     "data": {
      "text/plain": [
       "(820, 244, 274)"
      ]
     },
     "execution_count": 34,
     "metadata": {},
     "output_type": "execute_result"
    }
   ],
   "source": [
    "np.array(padding_data).shape"
   ]
  },
  {
   "cell_type": "code",
   "execution_count": 38,
   "id": "96b15d08",
   "metadata": {},
   "outputs": [
    {
     "data": {
      "text/plain": [
       "(244, 274)"
      ]
     },
     "execution_count": 38,
     "metadata": {},
     "output_type": "execute_result"
    }
   ],
   "source": [
    "padding_data[0].shape"
   ]
  },
  {
   "cell_type": "code",
   "execution_count": 39,
   "metadata": {},
   "outputs": [],
   "source": [
    "np.save('./padding_data_10_244_zero.npy',padding_data)"
   ]
  },
  {
   "cell_type": "markdown",
   "metadata": {},
   "source": [
    "### Data Load"
   ]
  },
  {
   "cell_type": "code",
   "execution_count": 3,
   "metadata": {},
   "outputs": [],
   "source": [
    "# data load\n",
    "data = np.load('./padding_data_10_244_zero.npy')\n",
    "# data\n",
    "\n",
    "# label load \n",
    "label = np.load('./label_10.npy')"
   ]
  },
  {
   "cell_type": "code",
   "execution_count": 4,
   "metadata": {
    "scrolled": true
   },
   "outputs": [
    {
     "name": "stdout",
     "output_type": "stream",
     "text": [
      "배열에 NaN 값이 포함되어 있습니다.\n",
      "159\n",
      "배열에 NaN 값이 포함되어 있습니다.\n",
      "220\n",
      "배열에 NaN 값이 포함되어 있습니다.\n",
      "380\n",
      "배열에 NaN 값이 포함되어 있습니다.\n",
      "658\n"
     ]
    }
   ],
   "source": [
    "# null값이 들어있는 sequence가 있어서 제거 진행.\n",
    "sorted_notnull_data = []\n",
    "sorted_notnull_label = []\n",
    "for idx,i in enumerate(data):\n",
    "    has_nan = np.isnan(i).any()\n",
    "    if has_nan:\n",
    "#         nan_indices = np.where(np.isnan(i))[0]\n",
    "#         nan_indices\n",
    "        print(\"배열에 NaN 값이 포함되어 있습니다.\")\n",
    "        print(idx)\n",
    "    else:\n",
    "        sorted_notnull_data.append(i)\n",
    "        sorted_notnull_label.append(label[idx])"
   ]
  },
  {
   "cell_type": "code",
   "execution_count": 5,
   "id": "76161afd",
   "metadata": {},
   "outputs": [
    {
     "data": {
      "text/plain": [
       "'최대'"
      ]
     },
     "execution_count": 5,
     "metadata": {},
     "output_type": "execute_result"
    }
   ],
   "source": [
    "label[159]"
   ]
  },
  {
   "cell_type": "code",
   "execution_count": 6,
   "id": "5351ee44",
   "metadata": {},
   "outputs": [
    {
     "data": {
      "text/plain": [
       "816"
      ]
     },
     "execution_count": 6,
     "metadata": {},
     "output_type": "execute_result"
    }
   ],
   "source": [
    "len(sorted_notnull_data)"
   ]
  },
  {
   "cell_type": "code",
   "execution_count": 7,
   "metadata": {},
   "outputs": [],
   "source": [
    "class CustomDataset(Dataset): \n",
    "    def __init__(self,data,label):\n",
    "        self.x_data = data\n",
    "        self.y_data = [i for i in range(len(label))]\n",
    "\n",
    "    # 총 데이터의 개수를 리턴\n",
    "    def __len__(self): \n",
    "        return len(self.x_data)\n",
    "\n",
    "    # 인덱스를 입력받아 그에 맵핑되는 입출력 데이터를 파이토치의 Tensor 형태로 리턴\n",
    "    def __getitem__(self, idx): \n",
    "        x = torch.FloatTensor(self.x_data[idx])\n",
    "        y = torch.tensor(self.y_data[idx]).long()\n",
    "        return x, y"
   ]
  },
  {
   "cell_type": "code",
   "execution_count": 8,
   "id": "02c531fb",
   "metadata": {},
   "outputs": [
    {
     "data": {
      "text/plain": [
       "(707,)"
      ]
     },
     "execution_count": 8,
     "metadata": {},
     "output_type": "execute_result"
    }
   ],
   "source": [
    "np.unique(label).shape"
   ]
  },
  {
   "cell_type": "code",
   "execution_count": 9,
   "metadata": {},
   "outputs": [],
   "source": [
    "num_epochs = 200\n",
    "seq_len = 253 # 변경\n",
    "input_size = 274\n",
    "num_classes = 816 # 변경\n",
    "hidden_size = 198\n",
    "num_layers = 2\n",
    "lr = 0.001\n",
    "batch_size = 8"
   ]
  },
  {
   "cell_type": "code",
   "execution_count": 10,
   "metadata": {},
   "outputs": [],
   "source": [
    "dataset = CustomDataset(sorted_notnull_data,sorted_notnull_label)\n",
    "dataloader = DataLoader(dataset, batch_size=batch_size, shuffle=True)"
   ]
  },
  {
   "cell_type": "code",
   "execution_count": 11,
   "metadata": {},
   "outputs": [],
   "source": [
    "criterion = nn.CrossEntropyLoss()\n",
    "\n",
    "if torch.cuda.is_available():\n",
    "    device = torch.device('cuda:0')\n",
    "else:\n",
    "    device = torch.device('cpu')"
   ]
  },
  {
   "cell_type": "code",
   "execution_count": 12,
   "id": "3df1acae",
   "metadata": {},
   "outputs": [
    {
     "data": {
      "text/plain": [
       "device(type='cuda', index=0)"
      ]
     },
     "execution_count": 12,
     "metadata": {},
     "output_type": "execute_result"
    }
   ],
   "source": [
    "device"
   ]
  },
  {
   "cell_type": "code",
   "execution_count": 13,
   "metadata": {},
   "outputs": [
    {
     "name": "stdout",
     "output_type": "stream",
     "text": [
      "LSTMModel(\n",
      "  (lstm): LSTM(274, 198, num_layers=2, batch_first=True)\n",
      "  (fc1): Linear(in_features=198, out_features=512, bias=True)\n",
      "  (fc2): Linear(in_features=512, out_features=816, bias=True)\n",
      ")\n"
     ]
    }
   ],
   "source": [
    "class LSTMModel(nn.Module):\n",
    "    def __init__(self, input_size, hidden_size, num_classes, num_layers):\n",
    "        super(LSTMModel, self).__init__()\n",
    "        \n",
    "        self.lstm = nn.LSTM(input_size, hidden_size, num_layers, batch_first=True)\n",
    "        self.fc1 = nn.Linear(hidden_size,512)\n",
    "        self.fc2 = nn.Linear(512,num_classes)\n",
    "        \n",
    "    def forward(self, x):\n",
    "        h0 = torch.zeros(num_layers, x.shape[0], hidden_size).to(device) \n",
    "        c0 = torch.zeros(num_layers, x.shape[0], hidden_size).to(device)\n",
    "        out, _ = self.lstm(x,(h0,c0))\n",
    "        out = self.fc1(out[:, -1, :])  # 마지막 타임 스텝의 출력만 사용\n",
    "        F.relu(out)\n",
    "        out = self.fc2(out)\n",
    "        return out\n",
    "\n",
    "model = LSTMModel(input_size, hidden_size, num_classes, num_layers).to(device)\n",
    "optimizer = optim.Adam(model.parameters(), lr=lr)\n",
    "\n",
    "print(model)"
   ]
  },
  {
   "cell_type": "code",
   "execution_count": 14,
   "metadata": {},
   "outputs": [],
   "source": [
    "# accuracy 계산 함수 생성\n",
    "def cal_accuracy(outputs,labels):\n",
    "    count = 0 \n",
    "    for idx,output in enumerate(outputs):\n",
    "        if output == labels[idx]:\n",
    "            count += 1\n",
    "            \n",
    "    return count"
   ]
  },
  {
   "cell_type": "code",
   "execution_count": 15,
   "metadata": {
    "scrolled": true
   },
   "outputs": [
    {
     "name": "stdout",
     "output_type": "stream",
     "text": [
      "------1번째 에폭 학습 시작------\n"
     ]
    },
    {
     "name": "stderr",
     "output_type": "stream",
     "text": [
      "100%|██████████| 102/102 [00:02<00:00, 36.34it/s]\n"
     ]
    },
    {
     "name": "stdout",
     "output_type": "stream",
     "text": [
      "--Best Training Loss : 6.5721 & Best Training Accuracy: 0.0000! Model SAVE!--\n",
      "---Epoch 학습 결과 ---\n",
      "Epoch [1/200], Train Loss: 6.5721 \n",
      " Train Accuracy: 0.0000%\n",
      "------2번째 에폭 학습 시작------\n"
     ]
    },
    {
     "name": "stderr",
     "output_type": "stream",
     "text": [
      "100%|██████████| 102/102 [00:02<00:00, 34.40it/s]\n"
     ]
    },
    {
     "name": "stdout",
     "output_type": "stream",
     "text": [
      "---Epoch 학습 결과 ---\n",
      "Epoch [2/200], Train Loss: 6.9828 \n",
      " Train Accuracy: 0.0000%\n",
      "------3번째 에폭 학습 시작------\n"
     ]
    },
    {
     "name": "stderr",
     "output_type": "stream",
     "text": [
      "100%|██████████| 102/102 [00:02<00:00, 38.00it/s]\n"
     ]
    },
    {
     "name": "stdout",
     "output_type": "stream",
     "text": [
      "---Epoch 학습 결과 ---\n",
      "Epoch [3/200], Train Loss: 6.7360 \n",
      " Train Accuracy: 0.0000%\n",
      "------4번째 에폭 학습 시작------\n"
     ]
    },
    {
     "name": "stderr",
     "output_type": "stream",
     "text": [
      "100%|██████████| 102/102 [00:02<00:00, 41.31it/s]\n"
     ]
    },
    {
     "name": "stdout",
     "output_type": "stream",
     "text": [
      "---Epoch 학습 결과 ---\n",
      "Epoch [4/200], Train Loss: 6.6106 \n",
      " Train Accuracy: 0.0000%\n",
      "------5번째 에폭 학습 시작------\n"
     ]
    },
    {
     "name": "stderr",
     "output_type": "stream",
     "text": [
      "100%|██████████| 102/102 [00:02<00:00, 41.13it/s]\n"
     ]
    },
    {
     "name": "stdout",
     "output_type": "stream",
     "text": [
      "--Best Training Loss : 6.4934 & Best Training Accuracy: 0.0000! Model SAVE!--\n",
      "---Epoch 학습 결과 ---\n",
      "Epoch [5/200], Train Loss: 6.4934 \n",
      " Train Accuracy: 0.0000%\n",
      "------6번째 에폭 학습 시작------\n"
     ]
    },
    {
     "name": "stderr",
     "output_type": "stream",
     "text": [
      "100%|██████████| 102/102 [00:02<00:00, 46.69it/s]\n"
     ]
    },
    {
     "name": "stdout",
     "output_type": "stream",
     "text": [
      "--Best Training Loss : 6.4057 & Best Training Accuracy: 0.0000! Model SAVE!--\n",
      "---Epoch 학습 결과 ---\n",
      "Epoch [6/200], Train Loss: 6.4057 \n",
      " Train Accuracy: 0.0000%\n",
      "------7번째 에폭 학습 시작------\n"
     ]
    },
    {
     "name": "stderr",
     "output_type": "stream",
     "text": [
      "100%|██████████| 102/102 [00:02<00:00, 38.38it/s]\n"
     ]
    },
    {
     "name": "stdout",
     "output_type": "stream",
     "text": [
      "--Best Training Loss : 6.2805 & Best Training Accuracy: 0.2451! Model SAVE!--\n",
      "---Epoch 학습 결과 ---\n",
      "Epoch [7/200], Train Loss: 6.2805 \n",
      " Train Accuracy: 0.2451%\n",
      "------8번째 에폭 학습 시작------\n"
     ]
    },
    {
     "name": "stderr",
     "output_type": "stream",
     "text": [
      "100%|██████████| 102/102 [00:02<00:00, 37.73it/s]\n"
     ]
    },
    {
     "name": "stdout",
     "output_type": "stream",
     "text": [
      "---Epoch 학습 결과 ---\n",
      "Epoch [8/200], Train Loss: 6.1248 \n",
      " Train Accuracy: 0.0000%\n",
      "------9번째 에폭 학습 시작------\n"
     ]
    },
    {
     "name": "stderr",
     "output_type": "stream",
     "text": [
      "100%|██████████| 102/102 [00:02<00:00, 42.18it/s]\n"
     ]
    },
    {
     "name": "stdout",
     "output_type": "stream",
     "text": [
      "---Epoch 학습 결과 ---\n",
      "Epoch [9/200], Train Loss: 6.0129 \n",
      " Train Accuracy: 0.1225%\n",
      "------10번째 에폭 학습 시작------\n"
     ]
    },
    {
     "name": "stderr",
     "output_type": "stream",
     "text": [
      "100%|██████████| 102/102 [00:02<00:00, 45.41it/s]\n"
     ]
    },
    {
     "name": "stdout",
     "output_type": "stream",
     "text": [
      "--Best Training Loss : 5.9278 & Best Training Accuracy: 0.2451! Model SAVE!--\n",
      "---Epoch 학습 결과 ---\n",
      "Epoch [10/200], Train Loss: 5.9278 \n",
      " Train Accuracy: 0.2451%\n",
      "------11번째 에폭 학습 시작------\n"
     ]
    },
    {
     "name": "stderr",
     "output_type": "stream",
     "text": [
      "100%|██████████| 102/102 [00:02<00:00, 44.00it/s]\n"
     ]
    },
    {
     "name": "stdout",
     "output_type": "stream",
     "text": [
      "---Epoch 학습 결과 ---\n",
      "Epoch [11/200], Train Loss: 5.8405 \n",
      " Train Accuracy: 0.1225%\n",
      "------12번째 에폭 학습 시작------\n"
     ]
    },
    {
     "name": "stderr",
     "output_type": "stream",
     "text": [
      "100%|██████████| 102/102 [00:02<00:00, 35.19it/s]\n"
     ]
    },
    {
     "name": "stdout",
     "output_type": "stream",
     "text": [
      "--Best Training Loss : 5.7624 & Best Training Accuracy: 0.2451! Model SAVE!--\n",
      "---Epoch 학습 결과 ---\n",
      "Epoch [12/200], Train Loss: 5.7624 \n",
      " Train Accuracy: 0.2451%\n",
      "------13번째 에폭 학습 시작------\n"
     ]
    },
    {
     "name": "stderr",
     "output_type": "stream",
     "text": [
      "100%|██████████| 102/102 [00:02<00:00, 47.03it/s]\n"
     ]
    },
    {
     "name": "stdout",
     "output_type": "stream",
     "text": [
      "--Best Training Loss : 5.6758 & Best Training Accuracy: 0.3676! Model SAVE!--\n",
      "---Epoch 학습 결과 ---\n",
      "Epoch [13/200], Train Loss: 5.6758 \n",
      " Train Accuracy: 0.3676%\n",
      "------14번째 에폭 학습 시작------\n"
     ]
    },
    {
     "name": "stderr",
     "output_type": "stream",
     "text": [
      "100%|██████████| 102/102 [00:02<00:00, 45.52it/s]\n"
     ]
    },
    {
     "name": "stdout",
     "output_type": "stream",
     "text": [
      "--Best Training Loss : 5.5930 & Best Training Accuracy: 0.6127! Model SAVE!--\n",
      "---Epoch 학습 결과 ---\n",
      "Epoch [14/200], Train Loss: 5.5930 \n",
      " Train Accuracy: 0.6127%\n",
      "------15번째 에폭 학습 시작------\n"
     ]
    },
    {
     "name": "stderr",
     "output_type": "stream",
     "text": [
      "100%|██████████| 102/102 [00:02<00:00, 48.93it/s]\n"
     ]
    },
    {
     "name": "stdout",
     "output_type": "stream",
     "text": [
      "---Epoch 학습 결과 ---\n",
      "Epoch [15/200], Train Loss: 5.4969 \n",
      " Train Accuracy: 0.1225%\n",
      "------16번째 에폭 학습 시작------\n"
     ]
    },
    {
     "name": "stderr",
     "output_type": "stream",
     "text": [
      "100%|██████████| 102/102 [00:02<00:00, 49.54it/s]\n"
     ]
    },
    {
     "name": "stdout",
     "output_type": "stream",
     "text": [
      "---Epoch 학습 결과 ---\n",
      "Epoch [16/200], Train Loss: 5.3933 \n",
      " Train Accuracy: 0.2451%\n",
      "------17번째 에폭 학습 시작------\n"
     ]
    },
    {
     "name": "stderr",
     "output_type": "stream",
     "text": [
      "100%|██████████| 102/102 [00:02<00:00, 41.07it/s]\n"
     ]
    },
    {
     "name": "stdout",
     "output_type": "stream",
     "text": [
      "---Epoch 학습 결과 ---\n",
      "Epoch [17/200], Train Loss: 5.2815 \n",
      " Train Accuracy: 0.1225%\n",
      "------18번째 에폭 학습 시작------\n"
     ]
    },
    {
     "name": "stderr",
     "output_type": "stream",
     "text": [
      "100%|██████████| 102/102 [00:02<00:00, 36.89it/s]\n"
     ]
    },
    {
     "name": "stdout",
     "output_type": "stream",
     "text": [
      "--Best Training Loss : 5.1881 & Best Training Accuracy: 1.1029! Model SAVE!--\n",
      "---Epoch 학습 결과 ---\n",
      "Epoch [18/200], Train Loss: 5.1881 \n",
      " Train Accuracy: 1.1029%\n",
      "------19번째 에폭 학습 시작------\n"
     ]
    },
    {
     "name": "stderr",
     "output_type": "stream",
     "text": [
      "100%|██████████| 102/102 [00:02<00:00, 41.62it/s]\n"
     ]
    },
    {
     "name": "stdout",
     "output_type": "stream",
     "text": [
      "--Best Training Loss : 5.0698 & Best Training Accuracy: 1.9608! Model SAVE!--\n",
      "---Epoch 학습 결과 ---\n",
      "Epoch [19/200], Train Loss: 5.0698 \n",
      " Train Accuracy: 1.9608%\n",
      "------20번째 에폭 학습 시작------\n"
     ]
    },
    {
     "name": "stderr",
     "output_type": "stream",
     "text": [
      "100%|██████████| 102/102 [00:03<00:00, 32.30it/s]\n"
     ]
    },
    {
     "name": "stdout",
     "output_type": "stream",
     "text": [
      "--Best Training Loss : 4.9998 & Best Training Accuracy: 2.0833! Model SAVE!--\n",
      "---Epoch 학습 결과 ---\n",
      "Epoch [20/200], Train Loss: 4.9998 \n",
      " Train Accuracy: 2.0833%\n",
      "------21번째 에폭 학습 시작------\n"
     ]
    },
    {
     "name": "stderr",
     "output_type": "stream",
     "text": [
      "100%|██████████| 102/102 [00:02<00:00, 40.86it/s]\n"
     ]
    },
    {
     "name": "stdout",
     "output_type": "stream",
     "text": [
      "--Best Training Loss : 4.9201 & Best Training Accuracy: 3.1863! Model SAVE!--\n",
      "---Epoch 학습 결과 ---\n",
      "Epoch [21/200], Train Loss: 4.9201 \n",
      " Train Accuracy: 3.1863%\n",
      "------22번째 에폭 학습 시작------\n"
     ]
    },
    {
     "name": "stderr",
     "output_type": "stream",
     "text": [
      "100%|██████████| 102/102 [00:02<00:00, 43.08it/s]\n"
     ]
    },
    {
     "name": "stdout",
     "output_type": "stream",
     "text": [
      "---Epoch 학습 결과 ---\n",
      "Epoch [22/200], Train Loss: 4.8516 \n",
      " Train Accuracy: 2.9412%\n",
      "------23번째 에폭 학습 시작------\n"
     ]
    },
    {
     "name": "stderr",
     "output_type": "stream",
     "text": [
      "100%|██████████| 102/102 [00:02<00:00, 41.58it/s]\n"
     ]
    },
    {
     "name": "stdout",
     "output_type": "stream",
     "text": [
      "--Best Training Loss : 4.7638 & Best Training Accuracy: 3.3088! Model SAVE!--\n",
      "---Epoch 학습 결과 ---\n",
      "Epoch [23/200], Train Loss: 4.7638 \n",
      " Train Accuracy: 3.3088%\n",
      "------24번째 에폭 학습 시작------\n"
     ]
    },
    {
     "name": "stderr",
     "output_type": "stream",
     "text": [
      "100%|██████████| 102/102 [00:02<00:00, 42.62it/s]\n"
     ]
    },
    {
     "name": "stdout",
     "output_type": "stream",
     "text": [
      "--Best Training Loss : 4.6540 & Best Training Accuracy: 3.7990! Model SAVE!--\n",
      "---Epoch 학습 결과 ---\n",
      "Epoch [24/200], Train Loss: 4.6540 \n",
      " Train Accuracy: 3.7990%\n",
      "------25번째 에폭 학습 시작------\n"
     ]
    },
    {
     "name": "stderr",
     "output_type": "stream",
     "text": [
      "100%|██████████| 102/102 [00:03<00:00, 31.89it/s]\n"
     ]
    },
    {
     "name": "stdout",
     "output_type": "stream",
     "text": [
      "--Best Training Loss : 4.6098 & Best Training Accuracy: 4.4118! Model SAVE!--\n",
      "---Epoch 학습 결과 ---\n",
      "Epoch [25/200], Train Loss: 4.6098 \n",
      " Train Accuracy: 4.4118%\n",
      "------26번째 에폭 학습 시작------\n"
     ]
    },
    {
     "name": "stderr",
     "output_type": "stream",
     "text": [
      "100%|██████████| 102/102 [00:02<00:00, 34.05it/s]\n"
     ]
    },
    {
     "name": "stdout",
     "output_type": "stream",
     "text": [
      "--Best Training Loss : 4.5612 & Best Training Accuracy: 5.0245! Model SAVE!--\n",
      "---Epoch 학습 결과 ---\n",
      "Epoch [26/200], Train Loss: 4.5612 \n",
      " Train Accuracy: 5.0245%\n",
      "------27번째 에폭 학습 시작------\n"
     ]
    },
    {
     "name": "stderr",
     "output_type": "stream",
     "text": [
      "100%|██████████| 102/102 [00:02<00:00, 38.16it/s]\n"
     ]
    },
    {
     "name": "stdout",
     "output_type": "stream",
     "text": [
      "--Best Training Loss : 4.4408 & Best Training Accuracy: 6.6176! Model SAVE!--\n",
      "---Epoch 학습 결과 ---\n",
      "Epoch [27/200], Train Loss: 4.4408 \n",
      " Train Accuracy: 6.6176%\n",
      "------28번째 에폭 학습 시작------\n"
     ]
    },
    {
     "name": "stderr",
     "output_type": "stream",
     "text": [
      "100%|██████████| 102/102 [00:02<00:00, 35.07it/s]\n"
     ]
    },
    {
     "name": "stdout",
     "output_type": "stream",
     "text": [
      "--Best Training Loss : 4.3890 & Best Training Accuracy: 7.9657! Model SAVE!--\n",
      "---Epoch 학습 결과 ---\n",
      "Epoch [28/200], Train Loss: 4.3890 \n",
      " Train Accuracy: 7.9657%\n",
      "------29번째 에폭 학습 시작------\n"
     ]
    },
    {
     "name": "stderr",
     "output_type": "stream",
     "text": [
      "100%|██████████| 102/102 [00:03<00:00, 33.32it/s]\n"
     ]
    },
    {
     "name": "stdout",
     "output_type": "stream",
     "text": [
      "--Best Training Loss : 4.2661 & Best Training Accuracy: 10.7843! Model SAVE!--\n",
      "---Epoch 학습 결과 ---\n",
      "Epoch [29/200], Train Loss: 4.2661 \n",
      " Train Accuracy: 10.7843%\n",
      "------30번째 에폭 학습 시작------\n"
     ]
    },
    {
     "name": "stderr",
     "output_type": "stream",
     "text": [
      "100%|██████████| 102/102 [00:02<00:00, 36.10it/s]\n"
     ]
    },
    {
     "name": "stdout",
     "output_type": "stream",
     "text": [
      "--Best Training Loss : 4.2089 & Best Training Accuracy: 11.3971! Model SAVE!--\n",
      "---Epoch 학습 결과 ---\n",
      "Epoch [30/200], Train Loss: 4.2089 \n",
      " Train Accuracy: 11.3971%\n",
      "------31번째 에폭 학습 시작------\n"
     ]
    },
    {
     "name": "stderr",
     "output_type": "stream",
     "text": [
      "100%|██████████| 102/102 [00:03<00:00, 32.53it/s]\n"
     ]
    },
    {
     "name": "stdout",
     "output_type": "stream",
     "text": [
      "--Best Training Loss : 4.1544 & Best Training Accuracy: 11.7647! Model SAVE!--\n",
      "---Epoch 학습 결과 ---\n",
      "Epoch [31/200], Train Loss: 4.1544 \n",
      " Train Accuracy: 11.7647%\n",
      "------32번째 에폭 학습 시작------\n"
     ]
    },
    {
     "name": "stderr",
     "output_type": "stream",
     "text": [
      "100%|██████████| 102/102 [00:02<00:00, 41.91it/s]\n"
     ]
    },
    {
     "name": "stdout",
     "output_type": "stream",
     "text": [
      "--Best Training Loss : 4.1328 & Best Training Accuracy: 11.7647! Model SAVE!--\n",
      "---Epoch 학습 결과 ---\n",
      "Epoch [32/200], Train Loss: 4.1328 \n",
      " Train Accuracy: 11.7647%\n",
      "------33번째 에폭 학습 시작------\n"
     ]
    },
    {
     "name": "stderr",
     "output_type": "stream",
     "text": [
      "100%|██████████| 102/102 [00:02<00:00, 37.16it/s]\n"
     ]
    },
    {
     "name": "stdout",
     "output_type": "stream",
     "text": [
      "--Best Training Loss : 4.0195 & Best Training Accuracy: 13.4804! Model SAVE!--\n",
      "---Epoch 학습 결과 ---\n",
      "Epoch [33/200], Train Loss: 4.0195 \n",
      " Train Accuracy: 13.4804%\n",
      "------34번째 에폭 학습 시작------\n"
     ]
    },
    {
     "name": "stderr",
     "output_type": "stream",
     "text": [
      "100%|██████████| 102/102 [00:02<00:00, 40.66it/s]\n"
     ]
    },
    {
     "name": "stdout",
     "output_type": "stream",
     "text": [
      "---Epoch 학습 결과 ---\n",
      "Epoch [34/200], Train Loss: 4.0268 \n",
      " Train Accuracy: 15.8088%\n",
      "------35번째 에폭 학습 시작------\n"
     ]
    },
    {
     "name": "stderr",
     "output_type": "stream",
     "text": [
      "100%|██████████| 102/102 [00:02<00:00, 36.05it/s]\n"
     ]
    },
    {
     "name": "stdout",
     "output_type": "stream",
     "text": [
      "--Best Training Loss : 4.0012 & Best Training Accuracy: 13.6029! Model SAVE!--\n",
      "---Epoch 학습 결과 ---\n",
      "Epoch [35/200], Train Loss: 4.0012 \n",
      " Train Accuracy: 13.6029%\n",
      "------36번째 에폭 학습 시작------\n"
     ]
    },
    {
     "name": "stderr",
     "output_type": "stream",
     "text": [
      "100%|██████████| 102/102 [00:02<00:00, 42.77it/s]\n"
     ]
    },
    {
     "name": "stdout",
     "output_type": "stream",
     "text": [
      "--Best Training Loss : 3.7885 & Best Training Accuracy: 19.9755! Model SAVE!--\n",
      "---Epoch 학습 결과 ---\n",
      "Epoch [36/200], Train Loss: 3.7885 \n",
      " Train Accuracy: 19.9755%\n",
      "------37번째 에폭 학습 시작------\n"
     ]
    },
    {
     "name": "stderr",
     "output_type": "stream",
     "text": [
      "100%|██████████| 102/102 [00:03<00:00, 33.17it/s]\n"
     ]
    },
    {
     "name": "stdout",
     "output_type": "stream",
     "text": [
      "---Epoch 학습 결과 ---\n",
      "Epoch [37/200], Train Loss: 3.7801 \n",
      " Train Accuracy: 18.2598%\n",
      "------38번째 에폭 학습 시작------\n"
     ]
    },
    {
     "name": "stderr",
     "output_type": "stream",
     "text": [
      "100%|██████████| 102/102 [00:02<00:00, 38.09it/s]\n"
     ]
    },
    {
     "name": "stdout",
     "output_type": "stream",
     "text": [
      "--Best Training Loss : 3.6981 & Best Training Accuracy: 21.5686! Model SAVE!--\n",
      "---Epoch 학습 결과 ---\n",
      "Epoch [38/200], Train Loss: 3.6981 \n",
      " Train Accuracy: 21.5686%\n",
      "------39번째 에폭 학습 시작------\n"
     ]
    },
    {
     "name": "stderr",
     "output_type": "stream",
     "text": [
      "100%|██████████| 102/102 [00:02<00:00, 34.83it/s]\n"
     ]
    },
    {
     "name": "stdout",
     "output_type": "stream",
     "text": [
      "--Best Training Loss : 3.6414 & Best Training Accuracy: 23.0392! Model SAVE!--\n",
      "---Epoch 학습 결과 ---\n",
      "Epoch [39/200], Train Loss: 3.6414 \n",
      " Train Accuracy: 23.0392%\n",
      "------40번째 에폭 학습 시작------\n"
     ]
    },
    {
     "name": "stderr",
     "output_type": "stream",
     "text": [
      "100%|██████████| 102/102 [00:02<00:00, 40.48it/s]\n"
     ]
    },
    {
     "name": "stdout",
     "output_type": "stream",
     "text": [
      "---Epoch 학습 결과 ---\n",
      "Epoch [40/200], Train Loss: 3.6783 \n",
      " Train Accuracy: 22.5490%\n",
      "------41번째 에폭 학습 시작------\n"
     ]
    },
    {
     "name": "stderr",
     "output_type": "stream",
     "text": [
      "100%|██████████| 102/102 [00:02<00:00, 36.90it/s]\n"
     ]
    },
    {
     "name": "stdout",
     "output_type": "stream",
     "text": [
      "--Best Training Loss : 3.5532 & Best Training Accuracy: 24.2647! Model SAVE!--\n",
      "---Epoch 학습 결과 ---\n",
      "Epoch [41/200], Train Loss: 3.5532 \n",
      " Train Accuracy: 24.2647%\n",
      "------42번째 에폭 학습 시작------\n"
     ]
    },
    {
     "name": "stderr",
     "output_type": "stream",
     "text": [
      "100%|██████████| 102/102 [00:02<00:00, 35.28it/s]\n"
     ]
    },
    {
     "name": "stdout",
     "output_type": "stream",
     "text": [
      "--Best Training Loss : 3.5246 & Best Training Accuracy: 25.7353! Model SAVE!--\n",
      "---Epoch 학습 결과 ---\n",
      "Epoch [42/200], Train Loss: 3.5246 \n",
      " Train Accuracy: 25.7353%\n",
      "------43번째 에폭 학습 시작------\n"
     ]
    },
    {
     "name": "stderr",
     "output_type": "stream",
     "text": [
      "100%|██████████| 102/102 [00:02<00:00, 47.07it/s]\n"
     ]
    },
    {
     "name": "stdout",
     "output_type": "stream",
     "text": [
      "--Best Training Loss : 3.4762 & Best Training Accuracy: 28.0637! Model SAVE!--\n",
      "---Epoch 학습 결과 ---\n",
      "Epoch [43/200], Train Loss: 3.4762 \n",
      " Train Accuracy: 28.0637%\n",
      "------44번째 에폭 학습 시작------\n"
     ]
    },
    {
     "name": "stderr",
     "output_type": "stream",
     "text": [
      "100%|██████████| 102/102 [00:02<00:00, 39.95it/s]\n"
     ]
    },
    {
     "name": "stdout",
     "output_type": "stream",
     "text": [
      "---Epoch 학습 결과 ---\n",
      "Epoch [44/200], Train Loss: 3.3992 \n",
      " Train Accuracy: 27.9412%\n",
      "------45번째 에폭 학습 시작------\n"
     ]
    },
    {
     "name": "stderr",
     "output_type": "stream",
     "text": [
      "100%|██████████| 102/102 [00:02<00:00, 39.89it/s]\n"
     ]
    },
    {
     "name": "stdout",
     "output_type": "stream",
     "text": [
      "--Best Training Loss : 3.3156 & Best Training Accuracy: 31.0049! Model SAVE!--\n",
      "---Epoch 학습 결과 ---\n",
      "Epoch [45/200], Train Loss: 3.3156 \n",
      " Train Accuracy: 31.0049%\n",
      "------46번째 에폭 학습 시작------\n"
     ]
    },
    {
     "name": "stderr",
     "output_type": "stream",
     "text": [
      "100%|██████████| 102/102 [00:02<00:00, 36.65it/s]\n"
     ]
    },
    {
     "name": "stdout",
     "output_type": "stream",
     "text": [
      "--Best Training Loss : 3.2704 & Best Training Accuracy: 32.8431! Model SAVE!--\n",
      "---Epoch 학습 결과 ---\n",
      "Epoch [46/200], Train Loss: 3.2704 \n",
      " Train Accuracy: 32.8431%\n",
      "------47번째 에폭 학습 시작------\n"
     ]
    },
    {
     "name": "stderr",
     "output_type": "stream",
     "text": [
      "100%|██████████| 102/102 [00:03<00:00, 31.21it/s]\n"
     ]
    },
    {
     "name": "stdout",
     "output_type": "stream",
     "text": [
      "---Epoch 학습 결과 ---\n",
      "Epoch [47/200], Train Loss: 3.2940 \n",
      " Train Accuracy: 32.2304%\n",
      "------48번째 에폭 학습 시작------\n"
     ]
    },
    {
     "name": "stderr",
     "output_type": "stream",
     "text": [
      "100%|██████████| 102/102 [00:03<00:00, 32.98it/s]\n"
     ]
    },
    {
     "name": "stdout",
     "output_type": "stream",
     "text": [
      "--Best Training Loss : 3.1820 & Best Training Accuracy: 35.5392! Model SAVE!--\n",
      "---Epoch 학습 결과 ---\n",
      "Epoch [48/200], Train Loss: 3.1820 \n",
      " Train Accuracy: 35.5392%\n",
      "------49번째 에폭 학습 시작------\n"
     ]
    },
    {
     "name": "stderr",
     "output_type": "stream",
     "text": [
      "100%|██████████| 102/102 [00:03<00:00, 32.11it/s]\n"
     ]
    },
    {
     "name": "stdout",
     "output_type": "stream",
     "text": [
      "--Best Training Loss : 3.1787 & Best Training Accuracy: 35.9069! Model SAVE!--\n",
      "---Epoch 학습 결과 ---\n",
      "Epoch [49/200], Train Loss: 3.1787 \n",
      " Train Accuracy: 35.9069%\n",
      "------50번째 에폭 학습 시작------\n"
     ]
    },
    {
     "name": "stderr",
     "output_type": "stream",
     "text": [
      "100%|██████████| 102/102 [00:02<00:00, 48.70it/s]\n"
     ]
    },
    {
     "name": "stdout",
     "output_type": "stream",
     "text": [
      "--Best Training Loss : 3.1682 & Best Training Accuracy: 36.8873! Model SAVE!--\n",
      "---Epoch 학습 결과 ---\n",
      "Epoch [50/200], Train Loss: 3.1682 \n",
      " Train Accuracy: 36.8873%\n",
      "------51번째 에폭 학습 시작------\n"
     ]
    },
    {
     "name": "stderr",
     "output_type": "stream",
     "text": [
      "100%|██████████| 102/102 [00:02<00:00, 48.67it/s]\n"
     ]
    },
    {
     "name": "stdout",
     "output_type": "stream",
     "text": [
      "--Best Training Loss : 3.1564 & Best Training Accuracy: 37.5000! Model SAVE!--\n",
      "---Epoch 학습 결과 ---\n",
      "Epoch [51/200], Train Loss: 3.1564 \n",
      " Train Accuracy: 37.5000%\n",
      "------52번째 에폭 학습 시작------\n"
     ]
    },
    {
     "name": "stderr",
     "output_type": "stream",
     "text": [
      "100%|██████████| 102/102 [00:02<00:00, 50.88it/s]\n"
     ]
    },
    {
     "name": "stdout",
     "output_type": "stream",
     "text": [
      "--Best Training Loss : 3.1162 & Best Training Accuracy: 38.7255! Model SAVE!--\n",
      "---Epoch 학습 결과 ---\n",
      "Epoch [52/200], Train Loss: 3.1162 \n",
      " Train Accuracy: 38.7255%\n",
      "------53번째 에폭 학습 시작------\n"
     ]
    },
    {
     "name": "stderr",
     "output_type": "stream",
     "text": [
      "100%|██████████| 102/102 [00:02<00:00, 46.11it/s]\n"
     ]
    },
    {
     "name": "stdout",
     "output_type": "stream",
     "text": [
      "---Epoch 학습 결과 ---\n",
      "Epoch [53/200], Train Loss: 3.1159 \n",
      " Train Accuracy: 37.9902%\n",
      "------54번째 에폭 학습 시작------\n"
     ]
    },
    {
     "name": "stderr",
     "output_type": "stream",
     "text": [
      "100%|██████████| 102/102 [00:02<00:00, 42.15it/s]\n"
     ]
    },
    {
     "name": "stdout",
     "output_type": "stream",
     "text": [
      "--Best Training Loss : 3.0447 & Best Training Accuracy: 41.5441! Model SAVE!--\n",
      "---Epoch 학습 결과 ---\n",
      "Epoch [54/200], Train Loss: 3.0447 \n",
      " Train Accuracy: 41.5441%\n",
      "------55번째 에폭 학습 시작------\n"
     ]
    },
    {
     "name": "stderr",
     "output_type": "stream",
     "text": [
      "100%|██████████| 102/102 [00:02<00:00, 47.21it/s]\n"
     ]
    },
    {
     "name": "stdout",
     "output_type": "stream",
     "text": [
      "---Epoch 학습 결과 ---\n",
      "Epoch [55/200], Train Loss: 3.0842 \n",
      " Train Accuracy: 39.8284%\n",
      "------56번째 에폭 학습 시작------\n"
     ]
    },
    {
     "name": "stderr",
     "output_type": "stream",
     "text": [
      "100%|██████████| 102/102 [00:02<00:00, 44.49it/s]\n"
     ]
    },
    {
     "name": "stdout",
     "output_type": "stream",
     "text": [
      "--Best Training Loss : 3.0281 & Best Training Accuracy: 41.5441! Model SAVE!--\n",
      "---Epoch 학습 결과 ---\n",
      "Epoch [56/200], Train Loss: 3.0281 \n",
      " Train Accuracy: 41.5441%\n",
      "------57번째 에폭 학습 시작------\n"
     ]
    },
    {
     "name": "stderr",
     "output_type": "stream",
     "text": [
      "100%|██████████| 102/102 [00:02<00:00, 47.52it/s]\n"
     ]
    },
    {
     "name": "stdout",
     "output_type": "stream",
     "text": [
      "--Best Training Loss : 2.9593 & Best Training Accuracy: 43.6275! Model SAVE!--\n",
      "---Epoch 학습 결과 ---\n",
      "Epoch [57/200], Train Loss: 2.9593 \n",
      " Train Accuracy: 43.6275%\n",
      "------58번째 에폭 학습 시작------\n"
     ]
    },
    {
     "name": "stderr",
     "output_type": "stream",
     "text": [
      "100%|██████████| 102/102 [00:02<00:00, 40.77it/s]\n"
     ]
    },
    {
     "name": "stdout",
     "output_type": "stream",
     "text": [
      "--Best Training Loss : 2.9399 & Best Training Accuracy: 43.9951! Model SAVE!--\n",
      "---Epoch 학습 결과 ---\n",
      "Epoch [58/200], Train Loss: 2.9399 \n",
      " Train Accuracy: 43.9951%\n",
      "------59번째 에폭 학습 시작------\n"
     ]
    },
    {
     "name": "stderr",
     "output_type": "stream",
     "text": [
      "100%|██████████| 102/102 [00:02<00:00, 38.74it/s]\n"
     ]
    },
    {
     "name": "stdout",
     "output_type": "stream",
     "text": [
      "--Best Training Loss : 2.9219 & Best Training Accuracy: 45.3431! Model SAVE!--\n",
      "---Epoch 학습 결과 ---\n",
      "Epoch [59/200], Train Loss: 2.9219 \n",
      " Train Accuracy: 45.3431%\n",
      "------60번째 에폭 학습 시작------\n"
     ]
    },
    {
     "name": "stderr",
     "output_type": "stream",
     "text": [
      "100%|██████████| 102/102 [00:02<00:00, 34.71it/s]\n"
     ]
    },
    {
     "name": "stdout",
     "output_type": "stream",
     "text": [
      "---Epoch 학습 결과 ---\n",
      "Epoch [60/200], Train Loss: 2.9814 \n",
      " Train Accuracy: 42.4020%\n",
      "------61번째 에폭 학습 시작------\n"
     ]
    },
    {
     "name": "stderr",
     "output_type": "stream",
     "text": [
      "100%|██████████| 102/102 [00:03<00:00, 30.66it/s]\n"
     ]
    },
    {
     "name": "stdout",
     "output_type": "stream",
     "text": [
      "---Epoch 학습 결과 ---\n",
      "Epoch [61/200], Train Loss: 2.9203 \n",
      " Train Accuracy: 44.3627%\n",
      "------62번째 에폭 학습 시작------\n"
     ]
    },
    {
     "name": "stderr",
     "output_type": "stream",
     "text": [
      "100%|██████████| 102/102 [00:03<00:00, 30.29it/s]\n"
     ]
    },
    {
     "name": "stdout",
     "output_type": "stream",
     "text": [
      "--Best Training Loss : 2.8656 & Best Training Accuracy: 46.5686! Model SAVE!--\n",
      "---Epoch 학습 결과 ---\n",
      "Epoch [62/200], Train Loss: 2.8656 \n",
      " Train Accuracy: 46.5686%\n",
      "------63번째 에폭 학습 시작------\n"
     ]
    },
    {
     "name": "stderr",
     "output_type": "stream",
     "text": [
      "100%|██████████| 102/102 [00:02<00:00, 36.76it/s]\n"
     ]
    },
    {
     "name": "stdout",
     "output_type": "stream",
     "text": [
      "--Best Training Loss : 2.8276 & Best Training Accuracy: 47.1814! Model SAVE!--\n",
      "---Epoch 학습 결과 ---\n",
      "Epoch [63/200], Train Loss: 2.8276 \n",
      " Train Accuracy: 47.1814%\n",
      "------64번째 에폭 학습 시작------\n"
     ]
    },
    {
     "name": "stderr",
     "output_type": "stream",
     "text": [
      "100%|██████████| 102/102 [00:02<00:00, 45.10it/s]\n"
     ]
    },
    {
     "name": "stdout",
     "output_type": "stream",
     "text": [
      "---Epoch 학습 결과 ---\n",
      "Epoch [64/200], Train Loss: 2.9642 \n",
      " Train Accuracy: 43.1373%\n",
      "------65번째 에폭 학습 시작------\n"
     ]
    },
    {
     "name": "stderr",
     "output_type": "stream",
     "text": [
      "100%|██████████| 102/102 [00:02<00:00, 43.68it/s]\n"
     ]
    },
    {
     "name": "stdout",
     "output_type": "stream",
     "text": [
      "---Epoch 학습 결과 ---\n",
      "Epoch [65/200], Train Loss: 2.9338 \n",
      " Train Accuracy: 45.0980%\n",
      "------66번째 에폭 학습 시작------\n"
     ]
    },
    {
     "name": "stderr",
     "output_type": "stream",
     "text": [
      "100%|██████████| 102/102 [00:02<00:00, 40.31it/s]\n"
     ]
    },
    {
     "name": "stdout",
     "output_type": "stream",
     "text": [
      "--Best Training Loss : 2.8263 & Best Training Accuracy: 47.7941! Model SAVE!--\n",
      "---Epoch 학습 결과 ---\n",
      "Epoch [66/200], Train Loss: 2.8263 \n",
      " Train Accuracy: 47.7941%\n",
      "------67번째 에폭 학습 시작------\n"
     ]
    },
    {
     "name": "stderr",
     "output_type": "stream",
     "text": [
      "100%|██████████| 102/102 [00:02<00:00, 41.05it/s]\n"
     ]
    },
    {
     "name": "stdout",
     "output_type": "stream",
     "text": [
      "---Epoch 학습 결과 ---\n",
      "Epoch [67/200], Train Loss: 2.9294 \n",
      " Train Accuracy: 44.8529%\n",
      "------68번째 에폭 학습 시작------\n"
     ]
    },
    {
     "name": "stderr",
     "output_type": "stream",
     "text": [
      "100%|██████████| 102/102 [00:02<00:00, 39.24it/s]\n"
     ]
    },
    {
     "name": "stdout",
     "output_type": "stream",
     "text": [
      "---Epoch 학습 결과 ---\n",
      "Epoch [68/200], Train Loss: 3.0579 \n",
      " Train Accuracy: 40.4412%\n",
      "------69번째 에폭 학습 시작------\n"
     ]
    },
    {
     "name": "stderr",
     "output_type": "stream",
     "text": [
      "100%|██████████| 102/102 [00:02<00:00, 37.01it/s]\n"
     ]
    },
    {
     "name": "stdout",
     "output_type": "stream",
     "text": [
      "---Epoch 학습 결과 ---\n",
      "Epoch [69/200], Train Loss: 2.9146 \n",
      " Train Accuracy: 45.0980%\n",
      "------70번째 에폭 학습 시작------\n"
     ]
    },
    {
     "name": "stderr",
     "output_type": "stream",
     "text": [
      "100%|██████████| 102/102 [00:02<00:00, 37.50it/s]\n"
     ]
    },
    {
     "name": "stdout",
     "output_type": "stream",
     "text": [
      "--Best Training Loss : 2.7887 & Best Training Accuracy: 48.7745! Model SAVE!--\n",
      "---Epoch 학습 결과 ---\n",
      "Epoch [70/200], Train Loss: 2.7887 \n",
      " Train Accuracy: 48.7745%\n",
      "------71번째 에폭 학습 시작------\n"
     ]
    },
    {
     "name": "stderr",
     "output_type": "stream",
     "text": [
      "100%|██████████| 102/102 [00:02<00:00, 36.92it/s]\n"
     ]
    },
    {
     "name": "stdout",
     "output_type": "stream",
     "text": [
      "--Best Training Loss : 2.7466 & Best Training Accuracy: 50.6127! Model SAVE!--\n",
      "---Epoch 학습 결과 ---\n",
      "Epoch [71/200], Train Loss: 2.7466 \n",
      " Train Accuracy: 50.6127%\n",
      "------72번째 에폭 학습 시작------\n"
     ]
    },
    {
     "name": "stderr",
     "output_type": "stream",
     "text": [
      "100%|██████████| 102/102 [00:02<00:00, 43.58it/s]\n"
     ]
    },
    {
     "name": "stdout",
     "output_type": "stream",
     "text": [
      "---Epoch 학습 결과 ---\n",
      "Epoch [72/200], Train Loss: 2.7699 \n",
      " Train Accuracy: 50.2451%\n",
      "------73번째 에폭 학습 시작------\n"
     ]
    },
    {
     "name": "stderr",
     "output_type": "stream",
     "text": [
      "100%|██████████| 102/102 [00:02<00:00, 35.39it/s]\n"
     ]
    },
    {
     "name": "stdout",
     "output_type": "stream",
     "text": [
      "--Best Training Loss : 2.7277 & Best Training Accuracy: 52.3284! Model SAVE!--\n",
      "---Epoch 학습 결과 ---\n",
      "Epoch [73/200], Train Loss: 2.7277 \n",
      " Train Accuracy: 52.3284%\n",
      "------74번째 에폭 학습 시작------\n"
     ]
    },
    {
     "name": "stderr",
     "output_type": "stream",
     "text": [
      "100%|██████████| 102/102 [00:02<00:00, 38.11it/s]\n"
     ]
    },
    {
     "name": "stdout",
     "output_type": "stream",
     "text": [
      "---Epoch 학습 결과 ---\n",
      "Epoch [74/200], Train Loss: 2.7539 \n",
      " Train Accuracy: 50.7353%\n",
      "------75번째 에폭 학습 시작------\n"
     ]
    },
    {
     "name": "stderr",
     "output_type": "stream",
     "text": [
      "100%|██████████| 102/102 [00:03<00:00, 29.97it/s]\n"
     ]
    },
    {
     "name": "stdout",
     "output_type": "stream",
     "text": [
      "---Epoch 학습 결과 ---\n",
      "Epoch [75/200], Train Loss: 2.7189 \n",
      " Train Accuracy: 51.7157%\n",
      "------76번째 에폭 학습 시작------\n"
     ]
    },
    {
     "name": "stderr",
     "output_type": "stream",
     "text": [
      "100%|██████████| 102/102 [00:02<00:00, 37.85it/s]\n"
     ]
    },
    {
     "name": "stdout",
     "output_type": "stream",
     "text": [
      "---Epoch 학습 결과 ---\n",
      "Epoch [76/200], Train Loss: 2.8220 \n",
      " Train Accuracy: 48.7745%\n",
      "------77번째 에폭 학습 시작------\n"
     ]
    },
    {
     "name": "stderr",
     "output_type": "stream",
     "text": [
      "100%|██████████| 102/102 [00:02<00:00, 34.66it/s]\n"
     ]
    },
    {
     "name": "stdout",
     "output_type": "stream",
     "text": [
      "---Epoch 학습 결과 ---\n",
      "Epoch [77/200], Train Loss: 2.7394 \n",
      " Train Accuracy: 50.7353%\n",
      "------78번째 에폭 학습 시작------\n"
     ]
    },
    {
     "name": "stderr",
     "output_type": "stream",
     "text": [
      "100%|██████████| 102/102 [00:02<00:00, 39.18it/s]\n"
     ]
    },
    {
     "name": "stdout",
     "output_type": "stream",
     "text": [
      "---Epoch 학습 결과 ---\n",
      "Epoch [78/200], Train Loss: 2.7186 \n",
      " Train Accuracy: 51.5931%\n",
      "------79번째 에폭 학습 시작------\n"
     ]
    },
    {
     "name": "stderr",
     "output_type": "stream",
     "text": [
      "100%|██████████| 102/102 [00:02<00:00, 43.21it/s]\n"
     ]
    },
    {
     "name": "stdout",
     "output_type": "stream",
     "text": [
      "---Epoch 학습 결과 ---\n",
      "Epoch [79/200], Train Loss: 2.8424 \n",
      " Train Accuracy: 48.1618%\n",
      "------80번째 에폭 학습 시작------\n"
     ]
    },
    {
     "name": "stderr",
     "output_type": "stream",
     "text": [
      "100%|██████████| 102/102 [00:02<00:00, 41.94it/s]\n"
     ]
    },
    {
     "name": "stdout",
     "output_type": "stream",
     "text": [
      "---Epoch 학습 결과 ---\n",
      "Epoch [80/200], Train Loss: 2.7980 \n",
      " Train Accuracy: 49.3873%\n",
      "------81번째 에폭 학습 시작------\n"
     ]
    },
    {
     "name": "stderr",
     "output_type": "stream",
     "text": [
      "100%|██████████| 102/102 [00:02<00:00, 43.88it/s]\n"
     ]
    },
    {
     "name": "stdout",
     "output_type": "stream",
     "text": [
      "---Epoch 학습 결과 ---\n",
      "Epoch [81/200], Train Loss: 2.9910 \n",
      " Train Accuracy: 43.2598%\n",
      "------82번째 에폭 학습 시작------\n"
     ]
    },
    {
     "name": "stderr",
     "output_type": "stream",
     "text": [
      "100%|██████████| 102/102 [00:02<00:00, 39.57it/s]\n"
     ]
    },
    {
     "name": "stdout",
     "output_type": "stream",
     "text": [
      "---Epoch 학습 결과 ---\n",
      "Epoch [82/200], Train Loss: 2.8785 \n",
      " Train Accuracy: 46.4461%\n",
      "------83번째 에폭 학습 시작------\n"
     ]
    },
    {
     "name": "stderr",
     "output_type": "stream",
     "text": [
      "100%|██████████| 102/102 [00:02<00:00, 42.33it/s]\n"
     ]
    },
    {
     "name": "stdout",
     "output_type": "stream",
     "text": [
      "---Epoch 학습 결과 ---\n",
      "Epoch [83/200], Train Loss: 2.7331 \n",
      " Train Accuracy: 51.7157%\n",
      "------84번째 에폭 학습 시작------\n"
     ]
    },
    {
     "name": "stderr",
     "output_type": "stream",
     "text": [
      "100%|██████████| 102/102 [00:02<00:00, 45.17it/s]\n"
     ]
    },
    {
     "name": "stdout",
     "output_type": "stream",
     "text": [
      "--Best Training Loss : 2.7057 & Best Training Accuracy: 52.3284! Model SAVE!--\n",
      "---Epoch 학습 결과 ---\n",
      "Epoch [84/200], Train Loss: 2.7057 \n",
      " Train Accuracy: 52.3284%\n",
      "------85번째 에폭 학습 시작------\n"
     ]
    },
    {
     "name": "stderr",
     "output_type": "stream",
     "text": [
      "100%|██████████| 102/102 [00:03<00:00, 31.01it/s]\n"
     ]
    },
    {
     "name": "stdout",
     "output_type": "stream",
     "text": [
      "--Best Training Loss : 2.6764 & Best Training Accuracy: 53.4314! Model SAVE!--\n",
      "---Epoch 학습 결과 ---\n",
      "Epoch [85/200], Train Loss: 2.6764 \n",
      " Train Accuracy: 53.4314%\n",
      "------86번째 에폭 학습 시작------\n"
     ]
    },
    {
     "name": "stderr",
     "output_type": "stream",
     "text": [
      "100%|██████████| 102/102 [00:03<00:00, 32.03it/s]\n"
     ]
    },
    {
     "name": "stdout",
     "output_type": "stream",
     "text": [
      "--Best Training Loss : 2.6570 & Best Training Accuracy: 54.2892! Model SAVE!--\n",
      "---Epoch 학습 결과 ---\n",
      "Epoch [86/200], Train Loss: 2.6570 \n",
      " Train Accuracy: 54.2892%\n",
      "------87번째 에폭 학습 시작------\n"
     ]
    },
    {
     "name": "stderr",
     "output_type": "stream",
     "text": [
      "100%|██████████| 102/102 [00:03<00:00, 31.44it/s]\n"
     ]
    },
    {
     "name": "stdout",
     "output_type": "stream",
     "text": [
      "--Best Training Loss : 2.6201 & Best Training Accuracy: 54.9020! Model SAVE!--\n",
      "---Epoch 학습 결과 ---\n",
      "Epoch [87/200], Train Loss: 2.6201 \n",
      " Train Accuracy: 54.9020%\n",
      "------88번째 에폭 학습 시작------\n"
     ]
    },
    {
     "name": "stderr",
     "output_type": "stream",
     "text": [
      "100%|██████████| 102/102 [00:03<00:00, 28.42it/s]\n"
     ]
    },
    {
     "name": "stdout",
     "output_type": "stream",
     "text": [
      "--Best Training Loss : 2.5887 & Best Training Accuracy: 55.8824! Model SAVE!--\n",
      "---Epoch 학습 결과 ---\n",
      "Epoch [88/200], Train Loss: 2.5887 \n",
      " Train Accuracy: 55.8824%\n",
      "------89번째 에폭 학습 시작------\n"
     ]
    },
    {
     "name": "stderr",
     "output_type": "stream",
     "text": [
      "100%|██████████| 102/102 [00:02<00:00, 42.03it/s]\n"
     ]
    },
    {
     "name": "stdout",
     "output_type": "stream",
     "text": [
      "---Epoch 학습 결과 ---\n",
      "Epoch [89/200], Train Loss: 2.6311 \n",
      " Train Accuracy: 54.4118%\n",
      "------90번째 에폭 학습 시작------\n"
     ]
    },
    {
     "name": "stderr",
     "output_type": "stream",
     "text": [
      "100%|██████████| 102/102 [00:01<00:00, 51.38it/s]\n"
     ]
    },
    {
     "name": "stdout",
     "output_type": "stream",
     "text": [
      "---Epoch 학습 결과 ---\n",
      "Epoch [90/200], Train Loss: 2.6620 \n",
      " Train Accuracy: 53.5539%\n",
      "------91번째 에폭 학습 시작------\n"
     ]
    },
    {
     "name": "stderr",
     "output_type": "stream",
     "text": [
      "100%|██████████| 102/102 [00:02<00:00, 41.71it/s]\n"
     ]
    },
    {
     "name": "stdout",
     "output_type": "stream",
     "text": [
      "---Epoch 학습 결과 ---\n",
      "Epoch [91/200], Train Loss: 2.7814 \n",
      " Train Accuracy: 49.5098%\n",
      "------92번째 에폭 학습 시작------\n"
     ]
    },
    {
     "name": "stderr",
     "output_type": "stream",
     "text": [
      "100%|██████████| 102/102 [00:02<00:00, 45.84it/s]\n"
     ]
    },
    {
     "name": "stdout",
     "output_type": "stream",
     "text": [
      "---Epoch 학습 결과 ---\n",
      "Epoch [92/200], Train Loss: 2.9158 \n",
      " Train Accuracy: 45.0980%\n",
      "------93번째 에폭 학습 시작------\n"
     ]
    },
    {
     "name": "stderr",
     "output_type": "stream",
     "text": [
      "100%|██████████| 102/102 [00:02<00:00, 45.81it/s]\n"
     ]
    },
    {
     "name": "stdout",
     "output_type": "stream",
     "text": [
      "---Epoch 학습 결과 ---\n",
      "Epoch [93/200], Train Loss: 3.1005 \n",
      " Train Accuracy: 41.6667%\n",
      "------94번째 에폭 학습 시작------\n"
     ]
    },
    {
     "name": "stderr",
     "output_type": "stream",
     "text": [
      "100%|██████████| 102/102 [00:02<00:00, 45.37it/s]\n"
     ]
    },
    {
     "name": "stdout",
     "output_type": "stream",
     "text": [
      "---Epoch 학습 결과 ---\n",
      "Epoch [94/200], Train Loss: 2.8915 \n",
      " Train Accuracy: 47.3039%\n",
      "------95번째 에폭 학습 시작------\n"
     ]
    },
    {
     "name": "stderr",
     "output_type": "stream",
     "text": [
      "100%|██████████| 102/102 [00:02<00:00, 42.92it/s]\n"
     ]
    },
    {
     "name": "stdout",
     "output_type": "stream",
     "text": [
      "---Epoch 학습 결과 ---\n",
      "Epoch [95/200], Train Loss: 2.7410 \n",
      " Train Accuracy: 52.4510%\n",
      "------96번째 에폭 학습 시작------\n"
     ]
    },
    {
     "name": "stderr",
     "output_type": "stream",
     "text": [
      "100%|██████████| 102/102 [00:03<00:00, 29.47it/s]\n"
     ]
    },
    {
     "name": "stdout",
     "output_type": "stream",
     "text": [
      "---Epoch 학습 결과 ---\n",
      "Epoch [96/200], Train Loss: 2.6386 \n",
      " Train Accuracy: 54.0441%\n",
      "------97번째 에폭 학습 시작------\n"
     ]
    },
    {
     "name": "stderr",
     "output_type": "stream",
     "text": [
      "100%|██████████| 102/102 [00:03<00:00, 30.62it/s]\n"
     ]
    },
    {
     "name": "stdout",
     "output_type": "stream",
     "text": [
      "---Epoch 학습 결과 ---\n",
      "Epoch [97/200], Train Loss: 2.6244 \n",
      " Train Accuracy: 54.5343%\n",
      "------98번째 에폭 학습 시작------\n"
     ]
    },
    {
     "name": "stderr",
     "output_type": "stream",
     "text": [
      "100%|██████████| 102/102 [00:02<00:00, 41.96it/s]\n"
     ]
    },
    {
     "name": "stdout",
     "output_type": "stream",
     "text": [
      "---Epoch 학습 결과 ---\n",
      "Epoch [98/200], Train Loss: 2.6256 \n",
      " Train Accuracy: 54.7794%\n",
      "------99번째 에폭 학습 시작------\n"
     ]
    },
    {
     "name": "stderr",
     "output_type": "stream",
     "text": [
      "100%|██████████| 102/102 [00:02<00:00, 46.69it/s]\n"
     ]
    },
    {
     "name": "stdout",
     "output_type": "stream",
     "text": [
      "---Epoch 학습 결과 ---\n",
      "Epoch [99/200], Train Loss: 2.5843 \n",
      " Train Accuracy: 55.7598%\n",
      "------100번째 에폭 학습 시작------\n"
     ]
    },
    {
     "name": "stderr",
     "output_type": "stream",
     "text": [
      "100%|██████████| 102/102 [00:02<00:00, 49.23it/s]\n"
     ]
    },
    {
     "name": "stdout",
     "output_type": "stream",
     "text": [
      "--Best Training Loss : 2.5679 & Best Training Accuracy: 56.6176! Model SAVE!--\n",
      "---Epoch 학습 결과 ---\n",
      "Epoch [100/200], Train Loss: 2.5679 \n",
      " Train Accuracy: 56.6176%\n",
      "------101번째 에폭 학습 시작------\n"
     ]
    },
    {
     "name": "stderr",
     "output_type": "stream",
     "text": [
      "100%|██████████| 102/102 [00:02<00:00, 43.28it/s]\n"
     ]
    },
    {
     "name": "stdout",
     "output_type": "stream",
     "text": [
      "--Best Training Loss : 2.5641 & Best Training Accuracy: 56.7402! Model SAVE!--\n",
      "---Epoch 학습 결과 ---\n",
      "Epoch [101/200], Train Loss: 2.5641 \n",
      " Train Accuracy: 56.7402%\n",
      "------102번째 에폭 학습 시작------\n"
     ]
    },
    {
     "name": "stderr",
     "output_type": "stream",
     "text": [
      "100%|██████████| 102/102 [00:03<00:00, 32.56it/s]\n"
     ]
    },
    {
     "name": "stdout",
     "output_type": "stream",
     "text": [
      "---Epoch 학습 결과 ---\n",
      "Epoch [102/200], Train Loss: 2.5726 \n",
      " Train Accuracy: 56.7402%\n",
      "------103번째 에폭 학습 시작------\n"
     ]
    },
    {
     "name": "stderr",
     "output_type": "stream",
     "text": [
      "100%|██████████| 102/102 [00:02<00:00, 41.20it/s]\n"
     ]
    },
    {
     "name": "stdout",
     "output_type": "stream",
     "text": [
      "---Epoch 학습 결과 ---\n",
      "Epoch [103/200], Train Loss: 2.5710 \n",
      " Train Accuracy: 56.2500%\n",
      "------104번째 에폭 학습 시작------\n"
     ]
    },
    {
     "name": "stderr",
     "output_type": "stream",
     "text": [
      "100%|██████████| 102/102 [00:02<00:00, 47.08it/s]\n"
     ]
    },
    {
     "name": "stdout",
     "output_type": "stream",
     "text": [
      "---Epoch 학습 결과 ---\n",
      "Epoch [104/200], Train Loss: 2.5705 \n",
      " Train Accuracy: 56.2500%\n",
      "------105번째 에폭 학습 시작------\n"
     ]
    },
    {
     "name": "stderr",
     "output_type": "stream",
     "text": [
      "100%|██████████| 102/102 [00:02<00:00, 48.70it/s]\n"
     ]
    },
    {
     "name": "stdout",
     "output_type": "stream",
     "text": [
      "---Epoch 학습 결과 ---\n",
      "Epoch [105/200], Train Loss: 2.5774 \n",
      " Train Accuracy: 56.3725%\n",
      "------106번째 에폭 학습 시작------\n"
     ]
    },
    {
     "name": "stderr",
     "output_type": "stream",
     "text": [
      "100%|██████████| 102/102 [00:02<00:00, 48.02it/s]\n"
     ]
    },
    {
     "name": "stdout",
     "output_type": "stream",
     "text": [
      "---Epoch 학습 결과 ---\n",
      "Epoch [106/200], Train Loss: 2.7116 \n",
      " Train Accuracy: 52.3284%\n",
      "------107번째 에폭 학습 시작------\n"
     ]
    },
    {
     "name": "stderr",
     "output_type": "stream",
     "text": [
      "100%|██████████| 102/102 [00:02<00:00, 50.20it/s]\n"
     ]
    },
    {
     "name": "stdout",
     "output_type": "stream",
     "text": [
      "---Epoch 학습 결과 ---\n",
      "Epoch [107/200], Train Loss: 2.8694 \n",
      " Train Accuracy: 47.6716%\n",
      "------108번째 에폭 학습 시작------\n"
     ]
    },
    {
     "name": "stderr",
     "output_type": "stream",
     "text": [
      "100%|██████████| 102/102 [00:02<00:00, 45.38it/s]\n"
     ]
    },
    {
     "name": "stdout",
     "output_type": "stream",
     "text": [
      "---Epoch 학습 결과 ---\n",
      "Epoch [108/200], Train Loss: 2.9820 \n",
      " Train Accuracy: 45.3431%\n",
      "------109번째 에폭 학습 시작------\n"
     ]
    },
    {
     "name": "stderr",
     "output_type": "stream",
     "text": [
      "100%|██████████| 102/102 [00:02<00:00, 42.72it/s]\n"
     ]
    },
    {
     "name": "stdout",
     "output_type": "stream",
     "text": [
      "---Epoch 학습 결과 ---\n",
      "Epoch [109/200], Train Loss: 2.7949 \n",
      " Train Accuracy: 49.3873%\n",
      "------110번째 에폭 학습 시작------\n"
     ]
    },
    {
     "name": "stderr",
     "output_type": "stream",
     "text": [
      "100%|██████████| 102/102 [00:02<00:00, 40.26it/s]\n"
     ]
    },
    {
     "name": "stdout",
     "output_type": "stream",
     "text": [
      "---Epoch 학습 결과 ---\n",
      "Epoch [110/200], Train Loss: 2.6998 \n",
      " Train Accuracy: 51.7157%\n",
      "------111번째 에폭 학습 시작------\n"
     ]
    },
    {
     "name": "stderr",
     "output_type": "stream",
     "text": [
      "100%|██████████| 102/102 [00:02<00:00, 38.60it/s]\n"
     ]
    },
    {
     "name": "stdout",
     "output_type": "stream",
     "text": [
      "---Epoch 학습 결과 ---\n",
      "Epoch [111/200], Train Loss: 2.6330 \n",
      " Train Accuracy: 53.5539%\n",
      "------112번째 에폭 학습 시작------\n"
     ]
    },
    {
     "name": "stderr",
     "output_type": "stream",
     "text": [
      "100%|██████████| 102/102 [00:02<00:00, 45.12it/s]\n"
     ]
    },
    {
     "name": "stdout",
     "output_type": "stream",
     "text": [
      "---Epoch 학습 결과 ---\n",
      "Epoch [112/200], Train Loss: 2.6038 \n",
      " Train Accuracy: 55.6373%\n",
      "------113번째 에폭 학습 시작------\n"
     ]
    },
    {
     "name": "stderr",
     "output_type": "stream",
     "text": [
      "100%|██████████| 102/102 [00:02<00:00, 41.90it/s]\n"
     ]
    },
    {
     "name": "stdout",
     "output_type": "stream",
     "text": [
      "--Best Training Loss : 2.5498 & Best Training Accuracy: 56.7402! Model SAVE!--\n",
      "---Epoch 학습 결과 ---\n",
      "Epoch [113/200], Train Loss: 2.5498 \n",
      " Train Accuracy: 56.7402%\n",
      "------114번째 에폭 학습 시작------\n"
     ]
    },
    {
     "name": "stderr",
     "output_type": "stream",
     "text": [
      "100%|██████████| 102/102 [00:02<00:00, 38.02it/s]\n"
     ]
    },
    {
     "name": "stdout",
     "output_type": "stream",
     "text": [
      "--Best Training Loss : 2.5469 & Best Training Accuracy: 56.8627! Model SAVE!--\n",
      "---Epoch 학습 결과 ---\n",
      "Epoch [114/200], Train Loss: 2.5469 \n",
      " Train Accuracy: 56.8627%\n",
      "------115번째 에폭 학습 시작------\n"
     ]
    },
    {
     "name": "stderr",
     "output_type": "stream",
     "text": [
      "100%|██████████| 102/102 [00:02<00:00, 47.67it/s]\n"
     ]
    },
    {
     "name": "stdout",
     "output_type": "stream",
     "text": [
      "--Best Training Loss : 2.5359 & Best Training Accuracy: 56.9853! Model SAVE!--\n",
      "---Epoch 학습 결과 ---\n",
      "Epoch [115/200], Train Loss: 2.5359 \n",
      " Train Accuracy: 56.9853%\n",
      "------116번째 에폭 학습 시작------\n"
     ]
    },
    {
     "name": "stderr",
     "output_type": "stream",
     "text": [
      "100%|██████████| 102/102 [00:02<00:00, 39.59it/s]\n"
     ]
    },
    {
     "name": "stdout",
     "output_type": "stream",
     "text": [
      "---Epoch 학습 결과 ---\n",
      "Epoch [116/200], Train Loss: 2.5365 \n",
      " Train Accuracy: 57.1078%\n",
      "------117번째 에폭 학습 시작------\n"
     ]
    },
    {
     "name": "stderr",
     "output_type": "stream",
     "text": [
      "100%|██████████| 102/102 [00:02<00:00, 39.23it/s]\n"
     ]
    },
    {
     "name": "stdout",
     "output_type": "stream",
     "text": [
      "---Epoch 학습 결과 ---\n",
      "Epoch [117/200], Train Loss: 2.5852 \n",
      " Train Accuracy: 55.2696%\n",
      "------118번째 에폭 학습 시작------\n"
     ]
    },
    {
     "name": "stderr",
     "output_type": "stream",
     "text": [
      "100%|██████████| 102/102 [00:02<00:00, 47.99it/s]\n"
     ]
    },
    {
     "name": "stdout",
     "output_type": "stream",
     "text": [
      "---Epoch 학습 결과 ---\n",
      "Epoch [118/200], Train Loss: 2.6715 \n",
      " Train Accuracy: 52.9412%\n",
      "------119번째 에폭 학습 시작------\n"
     ]
    },
    {
     "name": "stderr",
     "output_type": "stream",
     "text": [
      "100%|██████████| 102/102 [00:03<00:00, 33.35it/s]\n"
     ]
    },
    {
     "name": "stdout",
     "output_type": "stream",
     "text": [
      "---Epoch 학습 결과 ---\n",
      "Epoch [119/200], Train Loss: 2.7656 \n",
      " Train Accuracy: 50.4902%\n",
      "------120번째 에폭 학습 시작------\n"
     ]
    },
    {
     "name": "stderr",
     "output_type": "stream",
     "text": [
      "100%|██████████| 102/102 [00:02<00:00, 39.54it/s]\n"
     ]
    },
    {
     "name": "stdout",
     "output_type": "stream",
     "text": [
      "---Epoch 학습 결과 ---\n",
      "Epoch [120/200], Train Loss: 2.8466 \n",
      " Train Accuracy: 49.5098%\n",
      "------121번째 에폭 학습 시작------\n"
     ]
    },
    {
     "name": "stderr",
     "output_type": "stream",
     "text": [
      "100%|██████████| 102/102 [00:02<00:00, 38.03it/s]\n"
     ]
    },
    {
     "name": "stdout",
     "output_type": "stream",
     "text": [
      "---Epoch 학습 결과 ---\n",
      "Epoch [121/200], Train Loss: 2.7707 \n",
      " Train Accuracy: 50.1225%\n",
      "------122번째 에폭 학습 시작------\n"
     ]
    },
    {
     "name": "stderr",
     "output_type": "stream",
     "text": [
      "100%|██████████| 102/102 [00:02<00:00, 44.81it/s]\n"
     ]
    },
    {
     "name": "stdout",
     "output_type": "stream",
     "text": [
      "---Epoch 학습 결과 ---\n",
      "Epoch [122/200], Train Loss: 2.8021 \n",
      " Train Accuracy: 49.5098%\n",
      "------123번째 에폭 학습 시작------\n"
     ]
    },
    {
     "name": "stderr",
     "output_type": "stream",
     "text": [
      "100%|██████████| 102/102 [00:02<00:00, 46.58it/s]\n"
     ]
    },
    {
     "name": "stdout",
     "output_type": "stream",
     "text": [
      "---Epoch 학습 결과 ---\n",
      "Epoch [123/200], Train Loss: 2.7860 \n",
      " Train Accuracy: 48.6520%\n",
      "------124번째 에폭 학습 시작------\n"
     ]
    },
    {
     "name": "stderr",
     "output_type": "stream",
     "text": [
      "100%|██████████| 102/102 [00:02<00:00, 47.52it/s]\n"
     ]
    },
    {
     "name": "stdout",
     "output_type": "stream",
     "text": [
      "---Epoch 학습 결과 ---\n",
      "Epoch [124/200], Train Loss: 2.7367 \n",
      " Train Accuracy: 50.9804%\n",
      "------125번째 에폭 학습 시작------\n"
     ]
    },
    {
     "name": "stderr",
     "output_type": "stream",
     "text": [
      "100%|██████████| 102/102 [00:02<00:00, 47.67it/s]\n"
     ]
    },
    {
     "name": "stdout",
     "output_type": "stream",
     "text": [
      "---Epoch 학습 결과 ---\n",
      "Epoch [125/200], Train Loss: 2.6824 \n",
      " Train Accuracy: 52.8186%\n",
      "------126번째 에폭 학습 시작------\n"
     ]
    },
    {
     "name": "stderr",
     "output_type": "stream",
     "text": [
      "100%|██████████| 102/102 [00:02<00:00, 43.47it/s]\n"
     ]
    },
    {
     "name": "stdout",
     "output_type": "stream",
     "text": [
      "---Epoch 학습 결과 ---\n",
      "Epoch [126/200], Train Loss: 2.6044 \n",
      " Train Accuracy: 55.0245%\n",
      "------127번째 에폭 학습 시작------\n"
     ]
    },
    {
     "name": "stderr",
     "output_type": "stream",
     "text": [
      "100%|██████████| 102/102 [00:02<00:00, 43.81it/s]\n"
     ]
    },
    {
     "name": "stdout",
     "output_type": "stream",
     "text": [
      "---Epoch 학습 결과 ---\n",
      "Epoch [127/200], Train Loss: 2.5801 \n",
      " Train Accuracy: 55.6373%\n",
      "------128번째 에폭 학습 시작------\n"
     ]
    },
    {
     "name": "stderr",
     "output_type": "stream",
     "text": [
      "100%|██████████| 102/102 [00:02<00:00, 42.09it/s]\n"
     ]
    },
    {
     "name": "stdout",
     "output_type": "stream",
     "text": [
      "---Epoch 학습 결과 ---\n",
      "Epoch [128/200], Train Loss: 2.5986 \n",
      " Train Accuracy: 55.1471%\n",
      "------129번째 에폭 학습 시작------\n"
     ]
    },
    {
     "name": "stderr",
     "output_type": "stream",
     "text": [
      "100%|██████████| 102/102 [00:02<00:00, 45.71it/s]\n"
     ]
    },
    {
     "name": "stdout",
     "output_type": "stream",
     "text": [
      "---Epoch 학습 결과 ---\n",
      "Epoch [129/200], Train Loss: 2.6332 \n",
      " Train Accuracy: 54.6569%\n",
      "------130번째 에폭 학습 시작------\n"
     ]
    },
    {
     "name": "stderr",
     "output_type": "stream",
     "text": [
      "100%|██████████| 102/102 [00:02<00:00, 41.76it/s]\n"
     ]
    },
    {
     "name": "stdout",
     "output_type": "stream",
     "text": [
      "---Epoch 학습 결과 ---\n",
      "Epoch [130/200], Train Loss: 2.5532 \n",
      " Train Accuracy: 56.7402%\n",
      "------131번째 에폭 학습 시작------\n"
     ]
    },
    {
     "name": "stderr",
     "output_type": "stream",
     "text": [
      "100%|██████████| 102/102 [00:02<00:00, 47.83it/s]\n"
     ]
    },
    {
     "name": "stdout",
     "output_type": "stream",
     "text": [
      "--Best Training Loss : 2.5232 & Best Training Accuracy: 57.5980! Model SAVE!--\n",
      "---Epoch 학습 결과 ---\n",
      "Epoch [131/200], Train Loss: 2.5232 \n",
      " Train Accuracy: 57.5980%\n",
      "------132번째 에폭 학습 시작------\n"
     ]
    },
    {
     "name": "stderr",
     "output_type": "stream",
     "text": [
      "100%|██████████| 102/102 [00:02<00:00, 41.36it/s]\n"
     ]
    },
    {
     "name": "stdout",
     "output_type": "stream",
     "text": [
      "---Epoch 학습 결과 ---\n",
      "Epoch [132/200], Train Loss: 2.5276 \n",
      " Train Accuracy: 57.2304%\n",
      "------133번째 에폭 학습 시작------\n"
     ]
    },
    {
     "name": "stderr",
     "output_type": "stream",
     "text": [
      "100%|██████████| 102/102 [00:02<00:00, 43.80it/s]\n"
     ]
    },
    {
     "name": "stdout",
     "output_type": "stream",
     "text": [
      "---Epoch 학습 결과 ---\n",
      "Epoch [133/200], Train Loss: 2.5184 \n",
      " Train Accuracy: 57.4755%\n",
      "------134번째 에폭 학습 시작------\n"
     ]
    },
    {
     "name": "stderr",
     "output_type": "stream",
     "text": [
      "100%|██████████| 102/102 [00:02<00:00, 45.82it/s]\n"
     ]
    },
    {
     "name": "stdout",
     "output_type": "stream",
     "text": [
      "--Best Training Loss : 2.5185 & Best Training Accuracy: 57.5980! Model SAVE!--\n",
      "---Epoch 학습 결과 ---\n",
      "Epoch [134/200], Train Loss: 2.5185 \n",
      " Train Accuracy: 57.5980%\n",
      "------135번째 에폭 학습 시작------\n"
     ]
    },
    {
     "name": "stderr",
     "output_type": "stream",
     "text": [
      "100%|██████████| 102/102 [00:02<00:00, 44.79it/s]\n"
     ]
    },
    {
     "name": "stdout",
     "output_type": "stream",
     "text": [
      "--Best Training Loss : 2.5167 & Best Training Accuracy: 57.5980! Model SAVE!--\n",
      "---Epoch 학습 결과 ---\n",
      "Epoch [135/200], Train Loss: 2.5167 \n",
      " Train Accuracy: 57.5980%\n",
      "------136번째 에폭 학습 시작------\n"
     ]
    },
    {
     "name": "stderr",
     "output_type": "stream",
     "text": [
      "100%|██████████| 102/102 [00:02<00:00, 44.51it/s]\n"
     ]
    },
    {
     "name": "stdout",
     "output_type": "stream",
     "text": [
      "--Best Training Loss : 2.5151 & Best Training Accuracy: 57.8431! Model SAVE!--\n",
      "---Epoch 학습 결과 ---\n",
      "Epoch [136/200], Train Loss: 2.5151 \n",
      " Train Accuracy: 57.8431%\n",
      "------137번째 에폭 학습 시작------\n"
     ]
    },
    {
     "name": "stderr",
     "output_type": "stream",
     "text": [
      "100%|██████████| 102/102 [00:02<00:00, 41.30it/s]\n"
     ]
    },
    {
     "name": "stdout",
     "output_type": "stream",
     "text": [
      "---Epoch 학습 결과 ---\n",
      "Epoch [137/200], Train Loss: 2.5159 \n",
      " Train Accuracy: 57.7206%\n",
      "------138번째 에폭 학습 시작------\n"
     ]
    },
    {
     "name": "stderr",
     "output_type": "stream",
     "text": [
      "100%|██████████| 102/102 [00:02<00:00, 48.13it/s]\n"
     ]
    },
    {
     "name": "stdout",
     "output_type": "stream",
     "text": [
      "---Epoch 학습 결과 ---\n",
      "Epoch [138/200], Train Loss: 2.5136 \n",
      " Train Accuracy: 57.7206%\n",
      "------139번째 에폭 학습 시작------\n"
     ]
    },
    {
     "name": "stderr",
     "output_type": "stream",
     "text": [
      "100%|██████████| 102/102 [00:02<00:00, 43.11it/s]\n"
     ]
    },
    {
     "name": "stdout",
     "output_type": "stream",
     "text": [
      "--Best Training Loss : 2.5140 & Best Training Accuracy: 57.8431! Model SAVE!--\n",
      "---Epoch 학습 결과 ---\n",
      "Epoch [139/200], Train Loss: 2.5140 \n",
      " Train Accuracy: 57.8431%\n",
      "------140번째 에폭 학습 시작------\n"
     ]
    },
    {
     "name": "stderr",
     "output_type": "stream",
     "text": [
      "100%|██████████| 102/102 [00:02<00:00, 48.48it/s]\n"
     ]
    },
    {
     "name": "stdout",
     "output_type": "stream",
     "text": [
      "---Epoch 학습 결과 ---\n",
      "Epoch [140/200], Train Loss: 2.5148 \n",
      " Train Accuracy: 57.7206%\n",
      "------141번째 에폭 학습 시작------\n"
     ]
    },
    {
     "name": "stderr",
     "output_type": "stream",
     "text": [
      "100%|██████████| 102/102 [00:02<00:00, 45.74it/s]\n"
     ]
    },
    {
     "name": "stdout",
     "output_type": "stream",
     "text": [
      "---Epoch 학습 결과 ---\n",
      "Epoch [141/200], Train Loss: 2.5122 \n",
      " Train Accuracy: 57.7206%\n",
      "------142번째 에폭 학습 시작------\n"
     ]
    },
    {
     "name": "stderr",
     "output_type": "stream",
     "text": [
      "100%|██████████| 102/102 [00:02<00:00, 42.98it/s]\n"
     ]
    },
    {
     "name": "stdout",
     "output_type": "stream",
     "text": [
      "---Epoch 학습 결과 ---\n",
      "Epoch [142/200], Train Loss: 2.5138 \n",
      " Train Accuracy: 57.7206%\n",
      "------143번째 에폭 학습 시작------\n"
     ]
    },
    {
     "name": "stderr",
     "output_type": "stream",
     "text": [
      "100%|██████████| 102/102 [00:02<00:00, 45.05it/s]\n"
     ]
    },
    {
     "name": "stdout",
     "output_type": "stream",
     "text": [
      "---Epoch 학습 결과 ---\n",
      "Epoch [143/200], Train Loss: 2.5128 \n",
      " Train Accuracy: 57.7206%\n",
      "------144번째 에폭 학습 시작------\n"
     ]
    },
    {
     "name": "stderr",
     "output_type": "stream",
     "text": [
      "100%|██████████| 102/102 [00:02<00:00, 43.01it/s]\n"
     ]
    },
    {
     "name": "stdout",
     "output_type": "stream",
     "text": [
      "---Epoch 학습 결과 ---\n",
      "Epoch [144/200], Train Loss: 2.5083 \n",
      " Train Accuracy: 57.7206%\n",
      "------145번째 에폭 학습 시작------\n"
     ]
    },
    {
     "name": "stderr",
     "output_type": "stream",
     "text": [
      "100%|██████████| 102/102 [00:02<00:00, 40.49it/s]\n"
     ]
    },
    {
     "name": "stdout",
     "output_type": "stream",
     "text": [
      "---Epoch 학습 결과 ---\n",
      "Epoch [145/200], Train Loss: 2.5133 \n",
      " Train Accuracy: 57.7206%\n",
      "------146번째 에폭 학습 시작------\n"
     ]
    },
    {
     "name": "stderr",
     "output_type": "stream",
     "text": [
      "100%|██████████| 102/102 [00:02<00:00, 37.24it/s]\n"
     ]
    },
    {
     "name": "stdout",
     "output_type": "stream",
     "text": [
      "---Epoch 학습 결과 ---\n",
      "Epoch [146/200], Train Loss: 2.5135 \n",
      " Train Accuracy: 57.7206%\n",
      "------147번째 에폭 학습 시작------\n"
     ]
    },
    {
     "name": "stderr",
     "output_type": "stream",
     "text": [
      "100%|██████████| 102/102 [00:02<00:00, 43.09it/s]\n"
     ]
    },
    {
     "name": "stdout",
     "output_type": "stream",
     "text": [
      "---Epoch 학습 결과 ---\n",
      "Epoch [147/200], Train Loss: 2.5110 \n",
      " Train Accuracy: 57.7206%\n",
      "------148번째 에폭 학습 시작------\n"
     ]
    },
    {
     "name": "stderr",
     "output_type": "stream",
     "text": [
      "100%|██████████| 102/102 [00:03<00:00, 33.48it/s]\n"
     ]
    },
    {
     "name": "stdout",
     "output_type": "stream",
     "text": [
      "---Epoch 학습 결과 ---\n",
      "Epoch [148/200], Train Loss: 2.5113 \n",
      " Train Accuracy: 57.7206%\n",
      "------149번째 에폭 학습 시작------\n"
     ]
    },
    {
     "name": "stderr",
     "output_type": "stream",
     "text": [
      "100%|██████████| 102/102 [00:02<00:00, 45.41it/s]\n"
     ]
    },
    {
     "name": "stdout",
     "output_type": "stream",
     "text": [
      "---Epoch 학습 결과 ---\n",
      "Epoch [149/200], Train Loss: 2.5087 \n",
      " Train Accuracy: 57.7206%\n",
      "------150번째 에폭 학습 시작------\n"
     ]
    },
    {
     "name": "stderr",
     "output_type": "stream",
     "text": [
      "100%|██████████| 102/102 [00:02<00:00, 34.80it/s]\n"
     ]
    },
    {
     "name": "stdout",
     "output_type": "stream",
     "text": [
      "---Epoch 학습 결과 ---\n",
      "Epoch [150/200], Train Loss: 2.5088 \n",
      " Train Accuracy: 57.7206%\n",
      "------151번째 에폭 학습 시작------\n"
     ]
    },
    {
     "name": "stderr",
     "output_type": "stream",
     "text": [
      "100%|██████████| 102/102 [00:03<00:00, 32.43it/s]\n"
     ]
    },
    {
     "name": "stdout",
     "output_type": "stream",
     "text": [
      "---Epoch 학습 결과 ---\n",
      "Epoch [151/200], Train Loss: 2.5098 \n",
      " Train Accuracy: 57.7206%\n",
      "------152번째 에폭 학습 시작------\n"
     ]
    },
    {
     "name": "stderr",
     "output_type": "stream",
     "text": [
      "100%|██████████| 102/102 [00:03<00:00, 30.29it/s]\n"
     ]
    },
    {
     "name": "stdout",
     "output_type": "stream",
     "text": [
      "---Epoch 학습 결과 ---\n",
      "Epoch [152/200], Train Loss: 2.5092 \n",
      " Train Accuracy: 57.7206%\n",
      "------153번째 에폭 학습 시작------\n"
     ]
    },
    {
     "name": "stderr",
     "output_type": "stream",
     "text": [
      "100%|██████████| 102/102 [00:03<00:00, 32.53it/s]\n"
     ]
    },
    {
     "name": "stdout",
     "output_type": "stream",
     "text": [
      "---Epoch 학습 결과 ---\n",
      "Epoch [153/200], Train Loss: 2.5083 \n",
      " Train Accuracy: 57.7206%\n",
      "------154번째 에폭 학습 시작------\n"
     ]
    },
    {
     "name": "stderr",
     "output_type": "stream",
     "text": [
      "100%|██████████| 102/102 [00:03<00:00, 30.61it/s]\n"
     ]
    },
    {
     "name": "stdout",
     "output_type": "stream",
     "text": [
      "---Epoch 학습 결과 ---\n",
      "Epoch [154/200], Train Loss: 2.5098 \n",
      " Train Accuracy: 57.7206%\n",
      "------155번째 에폭 학습 시작------\n"
     ]
    },
    {
     "name": "stderr",
     "output_type": "stream",
     "text": [
      "100%|██████████| 102/102 [00:03<00:00, 30.63it/s]\n"
     ]
    },
    {
     "name": "stdout",
     "output_type": "stream",
     "text": [
      "---Epoch 학습 결과 ---\n",
      "Epoch [155/200], Train Loss: 2.5076 \n",
      " Train Accuracy: 57.7206%\n",
      "------156번째 에폭 학습 시작------\n"
     ]
    },
    {
     "name": "stderr",
     "output_type": "stream",
     "text": [
      "100%|██████████| 102/102 [00:03<00:00, 33.29it/s]\n"
     ]
    },
    {
     "name": "stdout",
     "output_type": "stream",
     "text": [
      "---Epoch 학습 결과 ---\n",
      "Epoch [156/200], Train Loss: 2.5062 \n",
      " Train Accuracy: 57.7206%\n",
      "------157번째 에폭 학습 시작------\n"
     ]
    },
    {
     "name": "stderr",
     "output_type": "stream",
     "text": [
      "100%|██████████| 102/102 [00:03<00:00, 31.93it/s]\n"
     ]
    },
    {
     "name": "stdout",
     "output_type": "stream",
     "text": [
      "---Epoch 학습 결과 ---\n",
      "Epoch [157/200], Train Loss: 2.5086 \n",
      " Train Accuracy: 57.7206%\n",
      "------158번째 에폭 학습 시작------\n"
     ]
    },
    {
     "name": "stderr",
     "output_type": "stream",
     "text": [
      "100%|██████████| 102/102 [00:03<00:00, 30.67it/s]\n"
     ]
    },
    {
     "name": "stdout",
     "output_type": "stream",
     "text": [
      "---Epoch 학습 결과 ---\n",
      "Epoch [158/200], Train Loss: 2.5074 \n",
      " Train Accuracy: 57.7206%\n",
      "------159번째 에폭 학습 시작------\n"
     ]
    },
    {
     "name": "stderr",
     "output_type": "stream",
     "text": [
      "100%|██████████| 102/102 [00:03<00:00, 27.26it/s]\n"
     ]
    },
    {
     "name": "stdout",
     "output_type": "stream",
     "text": [
      "---Epoch 학습 결과 ---\n",
      "Epoch [159/200], Train Loss: 2.5056 \n",
      " Train Accuracy: 57.7206%\n",
      "------160번째 에폭 학습 시작------\n"
     ]
    },
    {
     "name": "stderr",
     "output_type": "stream",
     "text": [
      "100%|██████████| 102/102 [00:02<00:00, 35.16it/s]\n"
     ]
    },
    {
     "name": "stdout",
     "output_type": "stream",
     "text": [
      "---Epoch 학습 결과 ---\n",
      "Epoch [160/200], Train Loss: 2.5059 \n",
      " Train Accuracy: 57.7206%\n",
      "------161번째 에폭 학습 시작------\n"
     ]
    },
    {
     "name": "stderr",
     "output_type": "stream",
     "text": [
      "100%|██████████| 102/102 [00:02<00:00, 36.45it/s]\n"
     ]
    },
    {
     "name": "stdout",
     "output_type": "stream",
     "text": [
      "---Epoch 학습 결과 ---\n",
      "Epoch [161/200], Train Loss: 2.5076 \n",
      " Train Accuracy: 57.7206%\n",
      "------162번째 에폭 학습 시작------\n"
     ]
    },
    {
     "name": "stderr",
     "output_type": "stream",
     "text": [
      "100%|██████████| 102/102 [00:02<00:00, 41.95it/s]\n"
     ]
    },
    {
     "name": "stdout",
     "output_type": "stream",
     "text": [
      "---Epoch 학습 결과 ---\n",
      "Epoch [162/200], Train Loss: 2.5047 \n",
      " Train Accuracy: 57.7206%\n",
      "------163번째 에폭 학습 시작------\n"
     ]
    },
    {
     "name": "stderr",
     "output_type": "stream",
     "text": [
      "100%|██████████| 102/102 [00:02<00:00, 45.71it/s]\n"
     ]
    },
    {
     "name": "stdout",
     "output_type": "stream",
     "text": [
      "--Best Training Loss : 2.5058 & Best Training Accuracy: 57.8431! Model SAVE!--\n",
      "---Epoch 학습 결과 ---\n",
      "Epoch [163/200], Train Loss: 2.5058 \n",
      " Train Accuracy: 57.8431%\n",
      "------164번째 에폭 학습 시작------\n"
     ]
    },
    {
     "name": "stderr",
     "output_type": "stream",
     "text": [
      "100%|██████████| 102/102 [00:02<00:00, 40.05it/s]\n"
     ]
    },
    {
     "name": "stdout",
     "output_type": "stream",
     "text": [
      "---Epoch 학습 결과 ---\n",
      "Epoch [164/200], Train Loss: 2.5046 \n",
      " Train Accuracy: 57.7206%\n",
      "------165번째 에폭 학습 시작------\n"
     ]
    },
    {
     "name": "stderr",
     "output_type": "stream",
     "text": [
      "100%|██████████| 102/102 [00:02<00:00, 40.12it/s]\n"
     ]
    },
    {
     "name": "stdout",
     "output_type": "stream",
     "text": [
      "---Epoch 학습 결과 ---\n",
      "Epoch [165/200], Train Loss: 2.5068 \n",
      " Train Accuracy: 57.7206%\n",
      "------166번째 에폭 학습 시작------\n"
     ]
    },
    {
     "name": "stderr",
     "output_type": "stream",
     "text": [
      "100%|██████████| 102/102 [00:02<00:00, 42.50it/s]\n"
     ]
    },
    {
     "name": "stdout",
     "output_type": "stream",
     "text": [
      "---Epoch 학습 결과 ---\n",
      "Epoch [166/200], Train Loss: 2.5045 \n",
      " Train Accuracy: 57.7206%\n",
      "------167번째 에폭 학습 시작------\n"
     ]
    },
    {
     "name": "stderr",
     "output_type": "stream",
     "text": [
      "100%|██████████| 102/102 [00:02<00:00, 44.60it/s]\n"
     ]
    },
    {
     "name": "stdout",
     "output_type": "stream",
     "text": [
      "---Epoch 학습 결과 ---\n",
      "Epoch [167/200], Train Loss: 2.5032 \n",
      " Train Accuracy: 57.7206%\n",
      "------168번째 에폭 학습 시작------\n"
     ]
    },
    {
     "name": "stderr",
     "output_type": "stream",
     "text": [
      "100%|██████████| 102/102 [00:02<00:00, 44.75it/s]\n"
     ]
    },
    {
     "name": "stdout",
     "output_type": "stream",
     "text": [
      "--Best Training Loss : 2.5017 & Best Training Accuracy: 57.8431! Model SAVE!--\n",
      "---Epoch 학습 결과 ---\n",
      "Epoch [168/200], Train Loss: 2.5017 \n",
      " Train Accuracy: 57.8431%\n",
      "------169번째 에폭 학습 시작------\n"
     ]
    },
    {
     "name": "stderr",
     "output_type": "stream",
     "text": [
      "100%|██████████| 102/102 [00:02<00:00, 49.64it/s]\n"
     ]
    },
    {
     "name": "stdout",
     "output_type": "stream",
     "text": [
      "---Epoch 학습 결과 ---\n",
      "Epoch [169/200], Train Loss: 2.5017 \n",
      " Train Accuracy: 57.7206%\n",
      "------170번째 에폭 학습 시작------\n"
     ]
    },
    {
     "name": "stderr",
     "output_type": "stream",
     "text": [
      "100%|██████████| 102/102 [00:02<00:00, 42.27it/s]\n"
     ]
    },
    {
     "name": "stdout",
     "output_type": "stream",
     "text": [
      "---Epoch 학습 결과 ---\n",
      "Epoch [170/200], Train Loss: 2.5011 \n",
      " Train Accuracy: 57.7206%\n",
      "------171번째 에폭 학습 시작------\n"
     ]
    },
    {
     "name": "stderr",
     "output_type": "stream",
     "text": [
      "100%|██████████| 102/102 [00:02<00:00, 42.56it/s]\n"
     ]
    },
    {
     "name": "stdout",
     "output_type": "stream",
     "text": [
      "---Epoch 학습 결과 ---\n",
      "Epoch [171/200], Train Loss: 2.5034 \n",
      " Train Accuracy: 57.7206%\n",
      "------172번째 에폭 학습 시작------\n"
     ]
    },
    {
     "name": "stderr",
     "output_type": "stream",
     "text": [
      "100%|██████████| 102/102 [00:02<00:00, 40.91it/s]\n"
     ]
    },
    {
     "name": "stdout",
     "output_type": "stream",
     "text": [
      "---Epoch 학습 결과 ---\n",
      "Epoch [172/200], Train Loss: 2.5022 \n",
      " Train Accuracy: 57.7206%\n",
      "------173번째 에폭 학습 시작------\n"
     ]
    },
    {
     "name": "stderr",
     "output_type": "stream",
     "text": [
      "100%|██████████| 102/102 [00:02<00:00, 44.80it/s]\n"
     ]
    },
    {
     "name": "stdout",
     "output_type": "stream",
     "text": [
      "---Epoch 학습 결과 ---\n",
      "Epoch [173/200], Train Loss: 2.5003 \n",
      " Train Accuracy: 57.7206%\n",
      "------174번째 에폭 학습 시작------\n"
     ]
    },
    {
     "name": "stderr",
     "output_type": "stream",
     "text": [
      "100%|██████████| 102/102 [00:02<00:00, 43.11it/s]\n"
     ]
    },
    {
     "name": "stdout",
     "output_type": "stream",
     "text": [
      "---Epoch 학습 결과 ---\n",
      "Epoch [174/200], Train Loss: 2.5008 \n",
      " Train Accuracy: 57.7206%\n",
      "------175번째 에폭 학습 시작------\n"
     ]
    },
    {
     "name": "stderr",
     "output_type": "stream",
     "text": [
      "100%|██████████| 102/102 [00:02<00:00, 40.24it/s]\n"
     ]
    },
    {
     "name": "stdout",
     "output_type": "stream",
     "text": [
      "---Epoch 학습 결과 ---\n",
      "Epoch [175/200], Train Loss: 2.4993 \n",
      " Train Accuracy: 57.7206%\n",
      "------176번째 에폭 학습 시작------\n"
     ]
    },
    {
     "name": "stderr",
     "output_type": "stream",
     "text": [
      "100%|██████████| 102/102 [00:02<00:00, 43.55it/s]\n"
     ]
    },
    {
     "name": "stdout",
     "output_type": "stream",
     "text": [
      "---Epoch 학습 결과 ---\n",
      "Epoch [176/200], Train Loss: 2.4987 \n",
      " Train Accuracy: 57.7206%\n",
      "------177번째 에폭 학습 시작------\n"
     ]
    },
    {
     "name": "stderr",
     "output_type": "stream",
     "text": [
      "100%|██████████| 102/102 [00:02<00:00, 40.22it/s]\n"
     ]
    },
    {
     "name": "stdout",
     "output_type": "stream",
     "text": [
      "---Epoch 학습 결과 ---\n",
      "Epoch [177/200], Train Loss: 2.4987 \n",
      " Train Accuracy: 57.7206%\n",
      "------178번째 에폭 학습 시작------\n"
     ]
    },
    {
     "name": "stderr",
     "output_type": "stream",
     "text": [
      "100%|██████████| 102/102 [00:02<00:00, 38.17it/s]\n"
     ]
    },
    {
     "name": "stdout",
     "output_type": "stream",
     "text": [
      "---Epoch 학습 결과 ---\n",
      "Epoch [178/200], Train Loss: 2.4999 \n",
      " Train Accuracy: 57.7206%\n",
      "------179번째 에폭 학습 시작------\n"
     ]
    },
    {
     "name": "stderr",
     "output_type": "stream",
     "text": [
      "100%|██████████| 102/102 [00:02<00:00, 46.16it/s]\n"
     ]
    },
    {
     "name": "stdout",
     "output_type": "stream",
     "text": [
      "--Best Training Loss : 2.4986 & Best Training Accuracy: 57.8431! Model SAVE!--\n",
      "---Epoch 학습 결과 ---\n",
      "Epoch [179/200], Train Loss: 2.4986 \n",
      " Train Accuracy: 57.8431%\n",
      "------180번째 에폭 학습 시작------\n"
     ]
    },
    {
     "name": "stderr",
     "output_type": "stream",
     "text": [
      "100%|██████████| 102/102 [00:02<00:00, 38.93it/s]\n"
     ]
    },
    {
     "name": "stdout",
     "output_type": "stream",
     "text": [
      "---Epoch 학습 결과 ---\n",
      "Epoch [180/200], Train Loss: 2.4985 \n",
      " Train Accuracy: 57.7206%\n",
      "------181번째 에폭 학습 시작------\n"
     ]
    },
    {
     "name": "stderr",
     "output_type": "stream",
     "text": [
      "100%|██████████| 102/102 [00:02<00:00, 36.05it/s]\n"
     ]
    },
    {
     "name": "stdout",
     "output_type": "stream",
     "text": [
      "---Epoch 학습 결과 ---\n",
      "Epoch [181/200], Train Loss: 2.5009 \n",
      " Train Accuracy: 57.7206%\n",
      "------182번째 에폭 학습 시작------\n"
     ]
    },
    {
     "name": "stderr",
     "output_type": "stream",
     "text": [
      "100%|██████████| 102/102 [00:02<00:00, 40.47it/s]\n"
     ]
    },
    {
     "name": "stdout",
     "output_type": "stream",
     "text": [
      "---Epoch 학습 결과 ---\n",
      "Epoch [182/200], Train Loss: 2.4971 \n",
      " Train Accuracy: 57.7206%\n",
      "------183번째 에폭 학습 시작------\n"
     ]
    },
    {
     "name": "stderr",
     "output_type": "stream",
     "text": [
      "100%|██████████| 102/102 [00:02<00:00, 43.70it/s]\n"
     ]
    },
    {
     "name": "stdout",
     "output_type": "stream",
     "text": [
      "---Epoch 학습 결과 ---\n",
      "Epoch [183/200], Train Loss: 2.4980 \n",
      " Train Accuracy: 57.7206%\n",
      "------184번째 에폭 학습 시작------\n"
     ]
    },
    {
     "name": "stderr",
     "output_type": "stream",
     "text": [
      "100%|██████████| 102/102 [00:02<00:00, 43.92it/s]\n"
     ]
    },
    {
     "name": "stdout",
     "output_type": "stream",
     "text": [
      "---Epoch 학습 결과 ---\n",
      "Epoch [184/200], Train Loss: 2.4983 \n",
      " Train Accuracy: 57.7206%\n",
      "------185번째 에폭 학습 시작------\n"
     ]
    },
    {
     "name": "stderr",
     "output_type": "stream",
     "text": [
      "100%|██████████| 102/102 [00:02<00:00, 40.44it/s]\n"
     ]
    },
    {
     "name": "stdout",
     "output_type": "stream",
     "text": [
      "---Epoch 학습 결과 ---\n",
      "Epoch [185/200], Train Loss: 2.4986 \n",
      " Train Accuracy: 57.7206%\n",
      "------186번째 에폭 학습 시작------\n"
     ]
    },
    {
     "name": "stderr",
     "output_type": "stream",
     "text": [
      "100%|██████████| 102/102 [00:02<00:00, 44.51it/s]\n"
     ]
    },
    {
     "name": "stdout",
     "output_type": "stream",
     "text": [
      "---Epoch 학습 결과 ---\n",
      "Epoch [186/200], Train Loss: 2.4970 \n",
      " Train Accuracy: 57.7206%\n",
      "------187번째 에폭 학습 시작------\n"
     ]
    },
    {
     "name": "stderr",
     "output_type": "stream",
     "text": [
      "100%|██████████| 102/102 [00:02<00:00, 39.82it/s]\n"
     ]
    },
    {
     "name": "stdout",
     "output_type": "stream",
     "text": [
      "---Epoch 학습 결과 ---\n",
      "Epoch [187/200], Train Loss: 2.4962 \n",
      " Train Accuracy: 57.7206%\n",
      "------188번째 에폭 학습 시작------\n"
     ]
    },
    {
     "name": "stderr",
     "output_type": "stream",
     "text": [
      "100%|██████████| 102/102 [00:02<00:00, 41.04it/s]\n"
     ]
    },
    {
     "name": "stdout",
     "output_type": "stream",
     "text": [
      "---Epoch 학습 결과 ---\n",
      "Epoch [188/200], Train Loss: 2.4958 \n",
      " Train Accuracy: 57.7206%\n",
      "------189번째 에폭 학습 시작------\n"
     ]
    },
    {
     "name": "stderr",
     "output_type": "stream",
     "text": [
      "100%|██████████| 102/102 [00:02<00:00, 35.20it/s]\n"
     ]
    },
    {
     "name": "stdout",
     "output_type": "stream",
     "text": [
      "---Epoch 학습 결과 ---\n",
      "Epoch [189/200], Train Loss: 2.4955 \n",
      " Train Accuracy: 57.7206%\n",
      "------190번째 에폭 학습 시작------\n"
     ]
    },
    {
     "name": "stderr",
     "output_type": "stream",
     "text": [
      "100%|██████████| 102/102 [00:02<00:00, 38.13it/s]\n"
     ]
    },
    {
     "name": "stdout",
     "output_type": "stream",
     "text": [
      "---Epoch 학습 결과 ---\n",
      "Epoch [190/200], Train Loss: 2.4959 \n",
      " Train Accuracy: 57.7206%\n",
      "------191번째 에폭 학습 시작------\n"
     ]
    },
    {
     "name": "stderr",
     "output_type": "stream",
     "text": [
      "100%|██████████| 102/102 [00:03<00:00, 29.08it/s]\n"
     ]
    },
    {
     "name": "stdout",
     "output_type": "stream",
     "text": [
      "---Epoch 학습 결과 ---\n",
      "Epoch [191/200], Train Loss: 2.4950 \n",
      " Train Accuracy: 57.7206%\n",
      "------192번째 에폭 학습 시작------\n"
     ]
    },
    {
     "name": "stderr",
     "output_type": "stream",
     "text": [
      "100%|██████████| 102/102 [00:03<00:00, 28.34it/s]\n"
     ]
    },
    {
     "name": "stdout",
     "output_type": "stream",
     "text": [
      "---Epoch 학습 결과 ---\n",
      "Epoch [192/200], Train Loss: 2.4942 \n",
      " Train Accuracy: 57.7206%\n",
      "------193번째 에폭 학습 시작------\n"
     ]
    },
    {
     "name": "stderr",
     "output_type": "stream",
     "text": [
      "100%|██████████| 102/102 [00:03<00:00, 31.03it/s]\n"
     ]
    },
    {
     "name": "stdout",
     "output_type": "stream",
     "text": [
      "---Epoch 학습 결과 ---\n",
      "Epoch [193/200], Train Loss: 2.4941 \n",
      " Train Accuracy: 57.7206%\n",
      "------194번째 에폭 학습 시작------\n"
     ]
    },
    {
     "name": "stderr",
     "output_type": "stream",
     "text": [
      "100%|██████████| 102/102 [00:03<00:00, 32.72it/s]\n"
     ]
    },
    {
     "name": "stdout",
     "output_type": "stream",
     "text": [
      "---Epoch 학습 결과 ---\n",
      "Epoch [194/200], Train Loss: 2.4929 \n",
      " Train Accuracy: 57.7206%\n",
      "------195번째 에폭 학습 시작------\n"
     ]
    },
    {
     "name": "stderr",
     "output_type": "stream",
     "text": [
      "100%|██████████| 102/102 [00:03<00:00, 29.85it/s]\n"
     ]
    },
    {
     "name": "stdout",
     "output_type": "stream",
     "text": [
      "--Best Training Loss : 2.4947 & Best Training Accuracy: 57.8431! Model SAVE!--\n",
      "---Epoch 학습 결과 ---\n",
      "Epoch [195/200], Train Loss: 2.4947 \n",
      " Train Accuracy: 57.8431%\n",
      "------196번째 에폭 학습 시작------\n"
     ]
    },
    {
     "name": "stderr",
     "output_type": "stream",
     "text": [
      "100%|██████████| 102/102 [00:03<00:00, 26.80it/s]\n"
     ]
    },
    {
     "name": "stdout",
     "output_type": "stream",
     "text": [
      "---Epoch 학습 결과 ---\n",
      "Epoch [196/200], Train Loss: 2.4942 \n",
      " Train Accuracy: 57.7206%\n",
      "------197번째 에폭 학습 시작------\n"
     ]
    },
    {
     "name": "stderr",
     "output_type": "stream",
     "text": [
      "100%|██████████| 102/102 [00:02<00:00, 50.90it/s]\n"
     ]
    },
    {
     "name": "stdout",
     "output_type": "stream",
     "text": [
      "---Epoch 학습 결과 ---\n",
      "Epoch [197/200], Train Loss: 2.4968 \n",
      " Train Accuracy: 57.7206%\n",
      "------198번째 에폭 학습 시작------\n"
     ]
    },
    {
     "name": "stderr",
     "output_type": "stream",
     "text": [
      "100%|██████████| 102/102 [00:02<00:00, 50.78it/s]\n"
     ]
    },
    {
     "name": "stdout",
     "output_type": "stream",
     "text": [
      "---Epoch 학습 결과 ---\n",
      "Epoch [198/200], Train Loss: 2.4940 \n",
      " Train Accuracy: 57.7206%\n",
      "------199번째 에폭 학습 시작------\n"
     ]
    },
    {
     "name": "stderr",
     "output_type": "stream",
     "text": [
      "100%|██████████| 102/102 [00:02<00:00, 50.74it/s]\n"
     ]
    },
    {
     "name": "stdout",
     "output_type": "stream",
     "text": [
      "--Best Training Loss : 2.4942 & Best Training Accuracy: 57.8431! Model SAVE!--\n",
      "---Epoch 학습 결과 ---\n",
      "Epoch [199/200], Train Loss: 2.4942 \n",
      " Train Accuracy: 57.8431%\n",
      "------200번째 에폭 학습 시작------\n"
     ]
    },
    {
     "name": "stderr",
     "output_type": "stream",
     "text": [
      "100%|██████████| 102/102 [00:01<00:00, 52.23it/s]"
     ]
    },
    {
     "name": "stdout",
     "output_type": "stream",
     "text": [
      "---Epoch 학습 결과 ---\n",
      "Epoch [200/200], Train Loss: 2.4925 \n",
      " Train Accuracy: 57.7206%\n"
     ]
    },
    {
     "name": "stderr",
     "output_type": "stream",
     "text": [
      "\n"
     ]
    }
   ],
   "source": [
    "# 학습 진행\n",
    "best_loss = 1e9\n",
    "best_accuracy = 0.0\n",
    "train_losses = []\n",
    "train_accuracies = []\n",
    "result_epoch = 0\n",
    "\n",
    "for epoch in range(num_epochs):\n",
    "    print(f'------{epoch + 1}번째 에폭 학습 시작------')\n",
    "    training_accuracy = 0\n",
    "    training_loss = 0.0\n",
    "    \n",
    "    for i, (sequences, labels) in enumerate(tqdm(dataloader)):\n",
    "        sequences = sequences.to(device) \n",
    "        labels = labels.to(device)\n",
    "\n",
    "        optimizer.zero_grad()\n",
    "        outputs = model(sequences)\n",
    "        loss = criterion(outputs, labels)\n",
    "        loss.backward()\n",
    "        optimizer.step()\n",
    "        \n",
    "        training_accuracy += cal_accuracy(torch.argmax(outputs,dim=1),labels)\n",
    "        training_loss += loss.item()\n",
    "        \n",
    "        torch.cuda.empty_cache()\n",
    "        \n",
    "        # if i % 100 == 0:\n",
    "            # print(f'Mini Batch {i}, Train Loss {loss.item():.4f}')\n",
    "    \n",
    "    training_loss /= len(dataloader)\n",
    "    training_accuracy = training_accuracy / (len(dataloader)*batch_size) *100\n",
    "    \n",
    "    train_losses.append(training_loss)\n",
    "    train_accuracies.append(training_accuracy)\n",
    "    \n",
    "    if best_loss >= training_loss and best_accuracy <= training_accuracy: \n",
    "        torch.save(model.state_dict(),'./checkpoint/keypoint_10_244_lstm.pth')\n",
    "        best_loss = training_loss\n",
    "        best_accuracy = training_accuracy\n",
    "        result_epoch= epoch\n",
    "        print(f'--Best Training Loss : {best_loss:.4f} & Best Training Accuracy: {best_accuracy:.4f}! Model SAVE!--')\n",
    "\n",
    "    print('---Epoch 학습 결과 ---')\n",
    "    print(f'Epoch [{epoch+1}/{num_epochs}], Train Loss: {training_loss:.4f} \\n Train Accuracy: {training_accuracy:.4f}%')"
   ]
  },
  {
   "cell_type": "code",
   "execution_count": 16,
   "metadata": {},
   "outputs": [
    {
     "name": "stdout",
     "output_type": "stream",
     "text": [
      "Final Resut Epoch : 198 Best Accuracy : 57.84313725490197 & Best Loss : 2.492477658254346 \n"
     ]
    }
   ],
   "source": [
    "# Final Loss and Accuracy\n",
    "print(f'Final Resut Epoch : {result_epoch} Best Accuracy : {max(train_accuracies)} & Best Loss : {min(train_losses)} ')"
   ]
  },
  {
   "attachments": {},
   "cell_type": "markdown",
   "id": "24ed2d7d",
   "metadata": {},
   "source": [
    "## Test"
   ]
  },
  {
   "cell_type": "code",
   "execution_count": 17,
   "id": "20b4397e",
   "metadata": {},
   "outputs": [],
   "source": [
    "# data load\n",
    "test_data = np.load('./padding_data_01_244.npy')\n",
    "\n",
    "# label load \n",
    "test_label = np.load('./label_01.npy')"
   ]
  },
  {
   "cell_type": "code",
   "execution_count": 18,
   "id": "36fc456d",
   "metadata": {},
   "outputs": [
    {
     "data": {
      "text/plain": [
       "((820, 244, 274), (820,))"
      ]
     },
     "execution_count": 18,
     "metadata": {},
     "output_type": "execute_result"
    }
   ],
   "source": [
    "test_data.shape, test_label.shape"
   ]
  },
  {
   "cell_type": "code",
   "execution_count": 19,
   "id": "e1b633af",
   "metadata": {},
   "outputs": [],
   "source": [
    "# null값이 들어있는 sequence가 있어서 제거 진행.\n",
    "sorted_notnull_test_data = []\n",
    "sorted_notnull_test_label = []\n",
    "for idx,i in enumerate(test_data):\n",
    "    has_nan = np.isnan(i).any()\n",
    "    if has_nan:\n",
    "#         nan_indices = np.where(np.isnan(i))[0]\n",
    "#         nan_indices\n",
    "        print(\"배열에 NaN 값이 포함되어 있습니다.\")\n",
    "        print(idx)\n",
    "    else:\n",
    "        sorted_notnull_test_data.append(i)\n",
    "        sorted_notnull_test_label.append(test_label[idx])"
   ]
  },
  {
   "cell_type": "code",
   "execution_count": 20,
   "id": "b573f42f",
   "metadata": {},
   "outputs": [],
   "source": [
    "num_epochs = 200\n",
    "seq_len = 244 # 변경\n",
    "input_size = 274\n",
    "num_classes = 816 # 변경\n",
    "hidden_size = 198\n",
    "num_layers = 2\n",
    "lr = 0.001\n",
    "batch_size = 8"
   ]
  },
  {
   "cell_type": "code",
   "execution_count": 22,
   "id": "5cd57b45",
   "metadata": {},
   "outputs": [
    {
     "name": "stdout",
     "output_type": "stream",
     "text": [
      "LSTMModel(\n",
      "  (lstm): LSTM(274, 198, num_layers=2, batch_first=True)\n",
      "  (fc1): Linear(in_features=198, out_features=512, bias=True)\n",
      "  (fc2): Linear(in_features=512, out_features=816, bias=True)\n",
      ")\n"
     ]
    }
   ],
   "source": [
    "class LSTMModel(nn.Module):\n",
    "    def __init__(self, input_size, hidden_size, num_classes, num_layers):\n",
    "        super(LSTMModel, self).__init__()\n",
    "        \n",
    "        self.lstm = nn.LSTM(input_size, hidden_size, num_layers, batch_first=True)\n",
    "        self.fc1 = nn.Linear(hidden_size,512)\n",
    "        self.fc2 = nn.Linear(512,num_classes)\n",
    "        \n",
    "    def forward(self, x):\n",
    "        h0 = torch.zeros(num_layers, x.shape[0], hidden_size).to(device) \n",
    "        c0 = torch.zeros(num_layers, x.shape[0], hidden_size).to(device)\n",
    "        out, _ = self.lstm(x,(h0,c0))\n",
    "        out = self.fc1(out[:, -1, :])  # 마지막 타임 스텝의 출력만 사용\n",
    "        F.relu(out)\n",
    "        out = self.fc2(out)\n",
    "        return out\n",
    "\n",
    "test_model = LSTMModel(input_size, hidden_size, num_classes, num_layers).to(device)\n",
    "# optimizer = optim.Adam(test_model.parameters(), lr=lr)\n",
    "checkpoint = torch.load('./checkpoint/keypoint_10_244_zero_lstm.pth')\n",
    "test_model.load_state_dict(checkpoint)\n",
    "print(test_model)"
   ]
  },
  {
   "cell_type": "code",
   "execution_count": 23,
   "id": "eb8464e9",
   "metadata": {},
   "outputs": [],
   "source": [
    "test_dataset = CustomDataset(sorted_notnull_test_data, sorted_notnull_test_label)\n",
    "test_dataloader = DataLoader(test_dataset, batch_size=batch_size, shuffle=True)"
   ]
  },
  {
   "cell_type": "code",
   "execution_count": 24,
   "id": "f69d7bf7",
   "metadata": {},
   "outputs": [
    {
     "name": "stdout",
     "output_type": "stream",
     "text": [
      "Accuracy: 0.73%\n"
     ]
    }
   ],
   "source": [
    "test_model.eval()\n",
    "\n",
    "with torch.no_grad():\n",
    "    correct = 0\n",
    "    total = 0\n",
    "\n",
    "    for batch_data, batch_labels in test_dataloader:\n",
    "        # 모델 입력 데이터와 레이블을 GPU 또는 CPU로 이동시킵니다.\n",
    "        batch_data = batch_data.to(device)\n",
    "        batch_labels = batch_labels.to(device)\n",
    "\n",
    "        # 모델에 데이터를 전달하여 예측합니다.\n",
    "        outputs = test_model(batch_data)\n",
    "\n",
    "        # 확률 분포에서 최댓값을 가지는 클래스를 선택합니다.\n",
    "        _, predicted = torch.max(outputs, 1)\n",
    "\n",
    "        # 정확하게 분류된 샘플 수를 업데이트합니다.\n",
    "        total += batch_labels.size(0)\n",
    "        correct += (predicted == batch_labels).sum().item()\n",
    "\n",
    "    accuracy = correct / total\n",
    "    print(f'Accuracy: {100 * accuracy:.2f}%')"
   ]
  },
  {
   "cell_type": "code",
   "execution_count": null,
   "id": "d0b839b8",
   "metadata": {},
   "outputs": [],
   "source": []
  }
 ],
 "metadata": {
  "kernelspec": {
   "display_name": "Python 3",
   "language": "python",
   "name": "python3"
  },
  "language_info": {
   "codemirror_mode": {
    "name": "ipython",
    "version": 3
   },
   "file_extension": ".py",
   "mimetype": "text/x-python",
   "name": "python",
   "nbconvert_exporter": "python",
   "pygments_lexer": "ipython3",
   "version": "3.8.10 (default, Mar 13 2023, 10:26:41) \n[GCC 9.4.0]"
  },
  "vscode": {
   "interpreter": {
    "hash": "916dbcbb3f70747c44a77c7bcd40155683ae19c65e1c03b4aa3499c5328201f1"
   }
  }
 },
 "nbformat": 4,
 "nbformat_minor": 5
}
